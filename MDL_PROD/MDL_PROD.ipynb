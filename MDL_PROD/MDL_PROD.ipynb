{
 "cells": [
  {
   "cell_type": "markdown",
   "id": "f6079c98-4e48-499e-894f-c50109507c87",
   "metadata": {
    "id": "f6079c98-4e48-499e-894f-c50109507c87"
   },
   "source": [
    "# ML CLASSIFICATION - {\"RED WINE QUALITY\" DATASET}"
   ]
  },
  {
   "cell_type": "markdown",
   "id": "a6709c06-804a-47d1-b0df-5aee8b18f5a3",
   "metadata": {
    "id": "a6709c06-804a-47d1-b0df-5aee8b18f5a3"
   },
   "source": [
    "## 1. Importing Modules and Setting Configurations"
   ]
  },
  {
   "cell_type": "code",
   "execution_count": 1,
   "id": "36db63e5-2d56-407a-b8c0-22812c099423",
   "metadata": {
    "id": "36db63e5-2d56-407a-b8c0-22812c099423",
    "tags": []
   },
   "outputs": [],
   "source": [
    "import numpy as np\n",
    "import pandas as pd\n",
    "\n",
    "import matplotlib.pyplot as plt\n",
    "import seaborn as sb\n",
    "\n",
    "from sklearn.preprocessing import PowerTransformer, StandardScaler\n",
    "from sklearn.compose import ColumnTransformer\n",
    "\n",
    "from sklearn.feature_selection import SelectKBest, mutual_info_classif\n",
    "\n",
    "from sklearn.ensemble import GradientBoostingClassifier\n",
    "\n",
    "from sklearn.pipeline import Pipeline\n",
    "\n",
    "from sklearn.model_selection import StratifiedKFold, cross_val_score, cross_validate\n",
    "\n",
    "from sklearn.model_selection import GridSearchCV\n",
    "\n",
    "from sklearn.metrics import accuracy_score, confusion_matrix, classification_report\n",
    "\n",
    "from pickle import dump, load\n",
    "\n",
    "import warnings\n",
    "warnings.filterwarnings('ignore')\n",
    "\n",
    "from sklearn import set_config\n",
    "set_config(display='diagram')"
   ]
  },
  {
   "cell_type": "code",
   "execution_count": 2,
   "id": "b112b0e4-d8d7-439d-8a6c-b57e853f3a7e",
   "metadata": {
    "id": "b112b0e4-d8d7-439d-8a6c-b57e853f3a7e",
    "tags": []
   },
   "outputs": [],
   "source": [
    "# PD Options\n",
    "\n",
    "pd.set_option('display.min_rows', 5)\n",
    "pd.set_option('display.max_rows', 25)\n",
    "pd.set_option('display.precision', 4)\n",
    "\n",
    "# SB Options\n",
    "\n",
    "sb.set_theme(context='notebook', style='whitegrid', palette='pastel', font='times new roman', font_scale=1.25)"
   ]
  },
  {
   "cell_type": "markdown",
   "id": "5b60c742-f76a-4463-aff4-81be0075736f",
   "metadata": {
    "id": "5b60c742-f76a-4463-aff4-81be0075736f"
   },
   "source": [
    "## 2. Importing Train Dataset"
   ]
  },
  {
   "cell_type": "code",
   "execution_count": 3,
   "id": "9b662dfd-16ea-436c-b008-a31ae221d1a4",
   "metadata": {
    "id": "9b662dfd-16ea-436c-b008-a31ae221d1a4",
    "tags": []
   },
   "outputs": [
    {
     "name": "stdout",
     "output_type": "stream",
     "text": [
      "Shape of the train dataset : (1334, 12)\n"
     ]
    },
    {
     "data": {
      "text/html": [
       "<div>\n",
       "<style scoped>\n",
       "    .dataframe tbody tr th:only-of-type {\n",
       "        vertical-align: middle;\n",
       "    }\n",
       "\n",
       "    .dataframe tbody tr th {\n",
       "        vertical-align: top;\n",
       "    }\n",
       "\n",
       "    .dataframe thead th {\n",
       "        text-align: right;\n",
       "    }\n",
       "</style>\n",
       "<table border=\"1\" class=\"dataframe\">\n",
       "  <thead>\n",
       "    <tr style=\"text-align: right;\">\n",
       "      <th></th>\n",
       "      <th>fixed acidity</th>\n",
       "      <th>volatile acidity</th>\n",
       "      <th>citric acid</th>\n",
       "      <th>residual sugar</th>\n",
       "      <th>chlorides</th>\n",
       "      <th>free sulfur dioxide</th>\n",
       "      <th>total sulfur dioxide</th>\n",
       "      <th>density</th>\n",
       "      <th>pH</th>\n",
       "      <th>sulphates</th>\n",
       "      <th>alcohol</th>\n",
       "      <th>quality</th>\n",
       "    </tr>\n",
       "  </thead>\n",
       "  <tbody>\n",
       "    <tr>\n",
       "      <th>0</th>\n",
       "      <td>6.7</td>\n",
       "      <td>0.670</td>\n",
       "      <td>0.02</td>\n",
       "      <td>1.9</td>\n",
       "      <td>0.061</td>\n",
       "      <td>26.0</td>\n",
       "      <td>42.0</td>\n",
       "      <td>0.9949</td>\n",
       "      <td>3.39</td>\n",
       "      <td>0.82</td>\n",
       "      <td>10.9</td>\n",
       "      <td>1</td>\n",
       "    </tr>\n",
       "    <tr>\n",
       "      <th>1</th>\n",
       "      <td>8.8</td>\n",
       "      <td>0.955</td>\n",
       "      <td>0.05</td>\n",
       "      <td>1.8</td>\n",
       "      <td>0.075</td>\n",
       "      <td>5.0</td>\n",
       "      <td>19.0</td>\n",
       "      <td>0.9962</td>\n",
       "      <td>3.30</td>\n",
       "      <td>0.44</td>\n",
       "      <td>9.6</td>\n",
       "      <td>0</td>\n",
       "    </tr>\n",
       "    <tr>\n",
       "      <th>2</th>\n",
       "      <td>7.1</td>\n",
       "      <td>0.680</td>\n",
       "      <td>0.00</td>\n",
       "      <td>2.3</td>\n",
       "      <td>0.087</td>\n",
       "      <td>17.0</td>\n",
       "      <td>26.0</td>\n",
       "      <td>0.9978</td>\n",
       "      <td>3.45</td>\n",
       "      <td>0.53</td>\n",
       "      <td>9.5</td>\n",
       "      <td>0</td>\n",
       "    </tr>\n",
       "    <tr>\n",
       "      <th>3</th>\n",
       "      <td>11.9</td>\n",
       "      <td>0.390</td>\n",
       "      <td>0.69</td>\n",
       "      <td>2.8</td>\n",
       "      <td>0.095</td>\n",
       "      <td>17.0</td>\n",
       "      <td>35.0</td>\n",
       "      <td>0.9994</td>\n",
       "      <td>3.10</td>\n",
       "      <td>0.61</td>\n",
       "      <td>10.8</td>\n",
       "      <td>1</td>\n",
       "    </tr>\n",
       "    <tr>\n",
       "      <th>4</th>\n",
       "      <td>7.1</td>\n",
       "      <td>0.220</td>\n",
       "      <td>0.49</td>\n",
       "      <td>1.8</td>\n",
       "      <td>0.039</td>\n",
       "      <td>8.0</td>\n",
       "      <td>18.0</td>\n",
       "      <td>0.9934</td>\n",
       "      <td>3.39</td>\n",
       "      <td>0.56</td>\n",
       "      <td>12.4</td>\n",
       "      <td>1</td>\n",
       "    </tr>\n",
       "  </tbody>\n",
       "</table>\n",
       "</div>"
      ],
      "text/plain": [
       "   fixed acidity  volatile acidity  citric acid  residual sugar  chlorides  \\\n",
       "0            6.7             0.670         0.02             1.9      0.061   \n",
       "1            8.8             0.955         0.05             1.8      0.075   \n",
       "2            7.1             0.680         0.00             2.3      0.087   \n",
       "3           11.9             0.390         0.69             2.8      0.095   \n",
       "4            7.1             0.220         0.49             1.8      0.039   \n",
       "\n",
       "   free sulfur dioxide  total sulfur dioxide  density    pH  sulphates  \\\n",
       "0                 26.0                  42.0   0.9949  3.39       0.82   \n",
       "1                  5.0                  19.0   0.9962  3.30       0.44   \n",
       "2                 17.0                  26.0   0.9978  3.45       0.53   \n",
       "3                 17.0                  35.0   0.9994  3.10       0.61   \n",
       "4                  8.0                  18.0   0.9934  3.39       0.56   \n",
       "\n",
       "   alcohol quality  \n",
       "0     10.9       1  \n",
       "1      9.6       0  \n",
       "2      9.5       0  \n",
       "3     10.8       1  \n",
       "4     12.4       1  "
      ]
     },
     "execution_count": 3,
     "metadata": {},
     "output_type": "execute_result"
    }
   ],
   "source": [
    "tr = pd.read_pickle('wine_quality_FE_prod_train.pkl')\n",
    "\n",
    "print(f'Shape of the train dataset : {tr.shape}')\n",
    "tr.head(5)"
   ]
  },
  {
   "cell_type": "code",
   "execution_count": 4,
   "id": "f3aa1c1a-60c6-447e-beb8-7bb5989e050e",
   "metadata": {
    "id": "f3aa1c1a-60c6-447e-beb8-7bb5989e050e",
    "tags": []
   },
   "outputs": [],
   "source": [
    "Xtr = tr.drop(columns='quality')\n",
    "ytr = tr['quality']"
   ]
  },
  {
   "cell_type": "markdown",
   "id": "ef5ab645-6edf-4228-828f-65c638b92dc5",
   "metadata": {
    "id": "ef5ab645-6edf-4228-828f-65c638b92dc5"
   },
   "source": [
    "## 3. Production Model Pipeline"
   ]
  },
  {
   "cell_type": "markdown",
   "id": "5e18312d-a2d1-40c5-a7c8-7fe64b2eab87",
   "metadata": {
    "tags": []
   },
   "source": [
    "### 3.1 Pre-Processing Steps"
   ]
  },
  {
   "cell_type": "code",
   "execution_count": 5,
   "id": "50c67d11-e646-4f78-9ffe-5d05219b3b95",
   "metadata": {
    "id": "50c67d11-e646-4f78-9ffe-5d05219b3b95",
    "tags": []
   },
   "outputs": [],
   "source": [
    "# Pre Processors ---------------------------------------------------------------------------------------------\n",
    "ct_preproc = ColumnTransformer([\n",
    "    ('yj',PowerTransformer(method='yeo-johnson', standardize=False),slice(0,11)),\n",
    "    ('ss',StandardScaler(),slice(0,11))\n",
    "    ], remainder='passthrough')\n",
    "\n",
    "\n",
    "# Feature Selection ------------------------------------------------------------------------------------------\n",
    "skb = SelectKBest(mutual_info_classif, k='all')"
   ]
  },
  {
   "cell_type": "markdown",
   "id": "ee432532-ae14-4535-9171-f98791c84fba",
   "metadata": {
    "id": "ee432532-ae14-4535-9171-f98791c84fba",
    "tags": []
   },
   "source": [
    "### 3.2 Production Model : GradientBoostingClassifier()"
   ]
  },
  {
   "cell_type": "code",
   "execution_count": 6,
   "id": "783f7bfb-06d6-4075-ac4a-b8ab3109730e",
   "metadata": {
    "tags": []
   },
   "outputs": [],
   "source": [
    "# Production Model -------------------------------------------------------------------------------------------\n",
    "\n",
    "mdl = GradientBoostingClassifier(learning_rate=0.01, max_depth=5, n_estimators=200, subsample=0.5, random_state=46)\n"
   ]
  },
  {
   "cell_type": "markdown",
   "id": "cc64ffdc-1401-443d-9964-4468a615f27d",
   "metadata": {},
   "source": [
    "### 3.3 ML Pipeline"
   ]
  },
  {
   "cell_type": "code",
   "execution_count": 7,
   "id": "da444f60-95f0-40cf-83fb-a5d8013252c7",
   "metadata": {
    "id": "da444f60-95f0-40cf-83fb-a5d8013252c7",
    "tags": []
   },
   "outputs": [
    {
     "data": {
      "text/html": [
       "<style>#sk-container-id-1 {color: black;background-color: white;}#sk-container-id-1 pre{padding: 0;}#sk-container-id-1 div.sk-toggleable {background-color: white;}#sk-container-id-1 label.sk-toggleable__label {cursor: pointer;display: block;width: 100%;margin-bottom: 0;padding: 0.3em;box-sizing: border-box;text-align: center;}#sk-container-id-1 label.sk-toggleable__label-arrow:before {content: \"▸\";float: left;margin-right: 0.25em;color: #696969;}#sk-container-id-1 label.sk-toggleable__label-arrow:hover:before {color: black;}#sk-container-id-1 div.sk-estimator:hover label.sk-toggleable__label-arrow:before {color: black;}#sk-container-id-1 div.sk-toggleable__content {max-height: 0;max-width: 0;overflow: hidden;text-align: left;background-color: #f0f8ff;}#sk-container-id-1 div.sk-toggleable__content pre {margin: 0.2em;color: black;border-radius: 0.25em;background-color: #f0f8ff;}#sk-container-id-1 input.sk-toggleable__control:checked~div.sk-toggleable__content {max-height: 200px;max-width: 100%;overflow: auto;}#sk-container-id-1 input.sk-toggleable__control:checked~label.sk-toggleable__label-arrow:before {content: \"▾\";}#sk-container-id-1 div.sk-estimator input.sk-toggleable__control:checked~label.sk-toggleable__label {background-color: #d4ebff;}#sk-container-id-1 div.sk-label input.sk-toggleable__control:checked~label.sk-toggleable__label {background-color: #d4ebff;}#sk-container-id-1 input.sk-hidden--visually {border: 0;clip: rect(1px 1px 1px 1px);clip: rect(1px, 1px, 1px, 1px);height: 1px;margin: -1px;overflow: hidden;padding: 0;position: absolute;width: 1px;}#sk-container-id-1 div.sk-estimator {font-family: monospace;background-color: #f0f8ff;border: 1px dotted black;border-radius: 0.25em;box-sizing: border-box;margin-bottom: 0.5em;}#sk-container-id-1 div.sk-estimator:hover {background-color: #d4ebff;}#sk-container-id-1 div.sk-parallel-item::after {content: \"\";width: 100%;border-bottom: 1px solid gray;flex-grow: 1;}#sk-container-id-1 div.sk-label:hover label.sk-toggleable__label {background-color: #d4ebff;}#sk-container-id-1 div.sk-serial::before {content: \"\";position: absolute;border-left: 1px solid gray;box-sizing: border-box;top: 0;bottom: 0;left: 50%;z-index: 0;}#sk-container-id-1 div.sk-serial {display: flex;flex-direction: column;align-items: center;background-color: white;padding-right: 0.2em;padding-left: 0.2em;position: relative;}#sk-container-id-1 div.sk-item {position: relative;z-index: 1;}#sk-container-id-1 div.sk-parallel {display: flex;align-items: stretch;justify-content: center;background-color: white;position: relative;}#sk-container-id-1 div.sk-item::before, #sk-container-id-1 div.sk-parallel-item::before {content: \"\";position: absolute;border-left: 1px solid gray;box-sizing: border-box;top: 0;bottom: 0;left: 50%;z-index: -1;}#sk-container-id-1 div.sk-parallel-item {display: flex;flex-direction: column;z-index: 1;position: relative;background-color: white;}#sk-container-id-1 div.sk-parallel-item:first-child::after {align-self: flex-end;width: 50%;}#sk-container-id-1 div.sk-parallel-item:last-child::after {align-self: flex-start;width: 50%;}#sk-container-id-1 div.sk-parallel-item:only-child::after {width: 0;}#sk-container-id-1 div.sk-dashed-wrapped {border: 1px dashed gray;margin: 0 0.4em 0.5em 0.4em;box-sizing: border-box;padding-bottom: 0.4em;background-color: white;}#sk-container-id-1 div.sk-label label {font-family: monospace;font-weight: bold;display: inline-block;line-height: 1.2em;}#sk-container-id-1 div.sk-label-container {text-align: center;}#sk-container-id-1 div.sk-container {/* jupyter's `normalize.less` sets `[hidden] { display: none; }` but bootstrap.min.css set `[hidden] { display: none !important; }` so we also need the `!important` here to be able to override the default hidden behavior on the sphinx rendered scikit-learn.org. See: https://github.com/scikit-learn/scikit-learn/issues/21755 */display: inline-block !important;position: relative;}#sk-container-id-1 div.sk-text-repr-fallback {display: none;}</style><div id=\"sk-container-id-1\" class=\"sk-top-container\"><div class=\"sk-text-repr-fallback\"><pre>Pipeline(steps=[(&#x27;ct_preproc&#x27;,\n",
       "                 ColumnTransformer(remainder=&#x27;passthrough&#x27;,\n",
       "                                   transformers=[(&#x27;yj&#x27;,\n",
       "                                                  PowerTransformer(standardize=False),\n",
       "                                                  slice(0, 11, None)),\n",
       "                                                 (&#x27;ss&#x27;, StandardScaler(),\n",
       "                                                  slice(0, 11, None))])),\n",
       "                (&#x27;skb&#x27;,\n",
       "                 SelectKBest(k=&#x27;all&#x27;,\n",
       "                             score_func=&lt;function mutual_info_classif at 0x000002139E8F8CA0&gt;)),\n",
       "                (&#x27;mdl&#x27;,\n",
       "                 GradientBoostingClassifier(learning_rate=0.01, max_depth=5,\n",
       "                                            n_estimators=200, random_state=46,\n",
       "                                            subsample=0.5))])</pre><b>In a Jupyter environment, please rerun this cell to show the HTML representation or trust the notebook. <br />On GitHub, the HTML representation is unable to render, please try loading this page with nbviewer.org.</b></div><div class=\"sk-container\" hidden><div class=\"sk-item sk-dashed-wrapped\"><div class=\"sk-label-container\"><div class=\"sk-label sk-toggleable\"><input class=\"sk-toggleable__control sk-hidden--visually\" id=\"sk-estimator-id-1\" type=\"checkbox\" ><label for=\"sk-estimator-id-1\" class=\"sk-toggleable__label sk-toggleable__label-arrow\">Pipeline</label><div class=\"sk-toggleable__content\"><pre>Pipeline(steps=[(&#x27;ct_preproc&#x27;,\n",
       "                 ColumnTransformer(remainder=&#x27;passthrough&#x27;,\n",
       "                                   transformers=[(&#x27;yj&#x27;,\n",
       "                                                  PowerTransformer(standardize=False),\n",
       "                                                  slice(0, 11, None)),\n",
       "                                                 (&#x27;ss&#x27;, StandardScaler(),\n",
       "                                                  slice(0, 11, None))])),\n",
       "                (&#x27;skb&#x27;,\n",
       "                 SelectKBest(k=&#x27;all&#x27;,\n",
       "                             score_func=&lt;function mutual_info_classif at 0x000002139E8F8CA0&gt;)),\n",
       "                (&#x27;mdl&#x27;,\n",
       "                 GradientBoostingClassifier(learning_rate=0.01, max_depth=5,\n",
       "                                            n_estimators=200, random_state=46,\n",
       "                                            subsample=0.5))])</pre></div></div></div><div class=\"sk-serial\"><div class=\"sk-item sk-dashed-wrapped\"><div class=\"sk-label-container\"><div class=\"sk-label sk-toggleable\"><input class=\"sk-toggleable__control sk-hidden--visually\" id=\"sk-estimator-id-2\" type=\"checkbox\" ><label for=\"sk-estimator-id-2\" class=\"sk-toggleable__label sk-toggleable__label-arrow\">ct_preproc: ColumnTransformer</label><div class=\"sk-toggleable__content\"><pre>ColumnTransformer(remainder=&#x27;passthrough&#x27;,\n",
       "                  transformers=[(&#x27;yj&#x27;, PowerTransformer(standardize=False),\n",
       "                                 slice(0, 11, None)),\n",
       "                                (&#x27;ss&#x27;, StandardScaler(), slice(0, 11, None))])</pre></div></div></div><div class=\"sk-parallel\"><div class=\"sk-parallel-item\"><div class=\"sk-item\"><div class=\"sk-label-container\"><div class=\"sk-label sk-toggleable\"><input class=\"sk-toggleable__control sk-hidden--visually\" id=\"sk-estimator-id-3\" type=\"checkbox\" ><label for=\"sk-estimator-id-3\" class=\"sk-toggleable__label sk-toggleable__label-arrow\">yj</label><div class=\"sk-toggleable__content\"><pre>slice(0, 11, None)</pre></div></div></div><div class=\"sk-serial\"><div class=\"sk-item\"><div class=\"sk-estimator sk-toggleable\"><input class=\"sk-toggleable__control sk-hidden--visually\" id=\"sk-estimator-id-4\" type=\"checkbox\" ><label for=\"sk-estimator-id-4\" class=\"sk-toggleable__label sk-toggleable__label-arrow\">PowerTransformer</label><div class=\"sk-toggleable__content\"><pre>PowerTransformer(standardize=False)</pre></div></div></div></div></div></div><div class=\"sk-parallel-item\"><div class=\"sk-item\"><div class=\"sk-label-container\"><div class=\"sk-label sk-toggleable\"><input class=\"sk-toggleable__control sk-hidden--visually\" id=\"sk-estimator-id-5\" type=\"checkbox\" ><label for=\"sk-estimator-id-5\" class=\"sk-toggleable__label sk-toggleable__label-arrow\">ss</label><div class=\"sk-toggleable__content\"><pre>slice(0, 11, None)</pre></div></div></div><div class=\"sk-serial\"><div class=\"sk-item\"><div class=\"sk-estimator sk-toggleable\"><input class=\"sk-toggleable__control sk-hidden--visually\" id=\"sk-estimator-id-6\" type=\"checkbox\" ><label for=\"sk-estimator-id-6\" class=\"sk-toggleable__label sk-toggleable__label-arrow\">StandardScaler</label><div class=\"sk-toggleable__content\"><pre>StandardScaler()</pre></div></div></div></div></div></div><div class=\"sk-parallel-item\"><div class=\"sk-item\"><div class=\"sk-label-container\"><div class=\"sk-label sk-toggleable\"><input class=\"sk-toggleable__control sk-hidden--visually\" id=\"sk-estimator-id-7\" type=\"checkbox\" ><label for=\"sk-estimator-id-7\" class=\"sk-toggleable__label sk-toggleable__label-arrow\">remainder</label><div class=\"sk-toggleable__content\"><pre>[]</pre></div></div></div><div class=\"sk-serial\"><div class=\"sk-item\"><div class=\"sk-estimator sk-toggleable\"><input class=\"sk-toggleable__control sk-hidden--visually\" id=\"sk-estimator-id-8\" type=\"checkbox\" ><label for=\"sk-estimator-id-8\" class=\"sk-toggleable__label sk-toggleable__label-arrow\">passthrough</label><div class=\"sk-toggleable__content\"><pre>passthrough</pre></div></div></div></div></div></div></div></div><div class=\"sk-item\"><div class=\"sk-estimator sk-toggleable\"><input class=\"sk-toggleable__control sk-hidden--visually\" id=\"sk-estimator-id-9\" type=\"checkbox\" ><label for=\"sk-estimator-id-9\" class=\"sk-toggleable__label sk-toggleable__label-arrow\">SelectKBest</label><div class=\"sk-toggleable__content\"><pre>SelectKBest(k=&#x27;all&#x27;,\n",
       "            score_func=&lt;function mutual_info_classif at 0x000002139E8F8CA0&gt;)</pre></div></div></div><div class=\"sk-item\"><div class=\"sk-estimator sk-toggleable\"><input class=\"sk-toggleable__control sk-hidden--visually\" id=\"sk-estimator-id-10\" type=\"checkbox\" ><label for=\"sk-estimator-id-10\" class=\"sk-toggleable__label sk-toggleable__label-arrow\">GradientBoostingClassifier</label><div class=\"sk-toggleable__content\"><pre>GradientBoostingClassifier(learning_rate=0.01, max_depth=5, n_estimators=200,\n",
       "                           random_state=46, subsample=0.5)</pre></div></div></div></div></div></div></div>"
      ],
      "text/plain": [
       "Pipeline(steps=[('ct_preproc',\n",
       "                 ColumnTransformer(remainder='passthrough',\n",
       "                                   transformers=[('yj',\n",
       "                                                  PowerTransformer(standardize=False),\n",
       "                                                  slice(0, 11, None)),\n",
       "                                                 ('ss', StandardScaler(),\n",
       "                                                  slice(0, 11, None))])),\n",
       "                ('skb',\n",
       "                 SelectKBest(k='all',\n",
       "                             score_func=<function mutual_info_classif at 0x000002139E8F8CA0>)),\n",
       "                ('mdl',\n",
       "                 GradientBoostingClassifier(learning_rate=0.01, max_depth=5,\n",
       "                                            n_estimators=200, random_state=46,\n",
       "                                            subsample=0.5))])"
      ]
     },
     "execution_count": 7,
     "metadata": {},
     "output_type": "execute_result"
    }
   ],
   "source": [
    "# ML Pipeline -----------------------------------------------------------------------------------------------------------------\n",
    "steps = [('ct_preproc',ct_preproc),\n",
    "     ('skb',skb),\n",
    "     ('mdl',mdl)]\n",
    "\n",
    "pipe_prod = Pipeline(steps)\n",
    "\n",
    "pipe_prod.fit(Xtr,ytr)"
   ]
  },
  {
   "cell_type": "markdown",
   "id": "8cde1adc-80d9-4e4c-8e85-563a32d328a0",
   "metadata": {
    "id": "8cde1adc-80d9-4e4c-8e85-563a32d328a0"
   },
   "source": [
    "### 3.4 Production Model Evaluation with cross_val_score using scoring='accuracy'"
   ]
  },
  {
   "cell_type": "code",
   "execution_count": 8,
   "id": "9b7717c2-d379-43be-a081-2544a019f420",
   "metadata": {
    "id": "9b7717c2-d379-43be-a081-2544a019f420",
    "tags": []
   },
   "outputs": [
    {
     "name": "stdout",
     "output_type": "stream",
     "text": [
      "KFold Setting : \n",
      " StratifiedKFold(n_splits=10, random_state=46, shuffle=True) \n",
      "\n",
      "Cross Validation Score is : 76.3831 %\n"
     ]
    }
   ],
   "source": [
    "### Cross Val Score using 'accuracy' metrics\n",
    "\n",
    "kfold = StratifiedKFold(n_splits=10, shuffle=True, random_state=46)\n",
    "print(f'KFold Setting : \\n {kfold} \\n')\n",
    "\n",
    "cv_score = cross_val_score(pipe_prod, Xtr, ytr, cv=kfold, scoring='accuracy').mean()\n",
    "print(f'Cross Validation Score is : {round(cv_score*100,4)} %')"
   ]
  },
  {
   "cell_type": "markdown",
   "id": "6d28f11c-7bd3-4853-ad35-14b9ba59a9fa",
   "metadata": {
    "id": "6d28f11c-7bd3-4853-ad35-14b9ba59a9fa"
   },
   "source": [
    "### 3.5 Production Model Evaluation with cross_validate using scoring=['accuracy','f1','roc_auc']"
   ]
  },
  {
   "cell_type": "code",
   "execution_count": 9,
   "id": "9b5be4b7-f140-40ac-a4c3-a161ec50a073",
   "metadata": {
    "id": "9b5be4b7-f140-40ac-a4c3-a161ec50a073",
    "tags": []
   },
   "outputs": [
    {
     "name": "stdout",
     "output_type": "stream",
     "text": [
      "KFold Setting : \n",
      " StratifiedKFold(n_splits=10, random_state=46, shuffle=True) \n",
      "\n",
      "Scoring Metrics : \n",
      " ['accuracy', 'f1', 'roc_auc'] \n",
      "\n",
      "Keys in the Score : \n",
      " ['fit_time', 'score_time', 'test_accuracy', 'test_f1', 'test_roc_auc'] \n",
      "\n",
      "Result of Cross Validation : mean of score keys\n"
     ]
    },
    {
     "data": {
      "text/html": [
       "<div>\n",
       "<style scoped>\n",
       "    .dataframe tbody tr th:only-of-type {\n",
       "        vertical-align: middle;\n",
       "    }\n",
       "\n",
       "    .dataframe tbody tr th {\n",
       "        vertical-align: top;\n",
       "    }\n",
       "\n",
       "    .dataframe thead th {\n",
       "        text-align: right;\n",
       "    }\n",
       "</style>\n",
       "<table border=\"1\" class=\"dataframe\">\n",
       "  <thead>\n",
       "    <tr style=\"text-align: right;\">\n",
       "      <th></th>\n",
       "      <th>Keys</th>\n",
       "      <th>Mean Score</th>\n",
       "    </tr>\n",
       "  </thead>\n",
       "  <tbody>\n",
       "    <tr>\n",
       "      <th>0</th>\n",
       "      <td>fit_time</td>\n",
       "      <td>2.7398</td>\n",
       "    </tr>\n",
       "    <tr>\n",
       "      <th>1</th>\n",
       "      <td>score_time</td>\n",
       "      <td>0.0286</td>\n",
       "    </tr>\n",
       "    <tr>\n",
       "      <th>2</th>\n",
       "      <td>test_accuracy</td>\n",
       "      <td>0.7638</td>\n",
       "    </tr>\n",
       "    <tr>\n",
       "      <th>3</th>\n",
       "      <td>test_f1</td>\n",
       "      <td>0.7526</td>\n",
       "    </tr>\n",
       "    <tr>\n",
       "      <th>4</th>\n",
       "      <td>test_roc_auc</td>\n",
       "      <td>0.8429</td>\n",
       "    </tr>\n",
       "  </tbody>\n",
       "</table>\n",
       "</div>"
      ],
      "text/plain": [
       "            Keys  Mean Score\n",
       "0       fit_time      2.7398\n",
       "1     score_time      0.0286\n",
       "2  test_accuracy      0.7638\n",
       "3        test_f1      0.7526\n",
       "4   test_roc_auc      0.8429"
      ]
     },
     "execution_count": 9,
     "metadata": {},
     "output_type": "execute_result"
    }
   ],
   "source": [
    "### Cross Validate Score using ['accuracy', 'f1','roc_auc'] metrics\n",
    "\n",
    "kfold = StratifiedKFold(n_splits=10, shuffle=True, random_state=46)\n",
    "print(f'KFold Setting : \\n {kfold} \\n')\n",
    "\n",
    "scoring = ['accuracy', 'f1','roc_auc']\n",
    "print(f'Scoring Metrics : \\n {scoring} \\n')\n",
    "\n",
    "scores = cross_validate(pipe_prod, Xtr, ytr, cv=kfold, scoring=scoring)\n",
    "print(f'Keys in the Score : \\n {sorted(scores.keys())} \\n')\n",
    "\n",
    "res = pd.DataFrame(scores)\n",
    "print(f'Result of Cross Validation : mean of score keys')\n",
    "res.mean().reset_index().rename(columns={'index':'Keys',0:'Mean Score'})"
   ]
  },
  {
   "cell_type": "markdown",
   "id": "cd4fad69-8542-4bc4-aa44-7fc5a3dae385",
   "metadata": {
    "id": "cd4fad69-8542-4bc4-aa44-7fc5a3dae385"
   },
   "source": [
    "## 4. Model Save/Export"
   ]
  },
  {
   "cell_type": "code",
   "execution_count": 10,
   "id": "4cb5df2f-3141-4242-b163-5668530466f0",
   "metadata": {
    "id": "4cb5df2f-3141-4242-b163-5668530466f0",
    "tags": []
   },
   "outputs": [
    {
     "name": "stdout",
     "output_type": "stream",
     "text": [
      "Model Object Saved Successfully \n",
      "\n",
      "\"X\" Features Saved Successfully\n"
     ]
    }
   ],
   "source": [
    "dump(pipe_prod, open('wine_quality_mdl_prod.pkl','wb'))\n",
    "print('Model Object Saved Successfully \\n')\n",
    "\n",
    "dump(Xtr, open('wine_quality_X_prod.pkl','wb'))\n",
    "print('\"X\" Features Saved Successfully')"
   ]
  },
  {
   "cell_type": "markdown",
   "id": "f78a708a-1710-485f-ba1e-2bb5a0c14b9e",
   "metadata": {
    "id": "f78a708a-1710-485f-ba1e-2bb5a0c14b9e"
   },
   "source": [
    "## 5. Simple Prediction System on Test Data"
   ]
  },
  {
   "cell_type": "markdown",
   "id": "6de30ed4-2c8c-42e7-9ea0-477cef67654d",
   "metadata": {},
   "source": [
    "#### 5.1 Load Model"
   ]
  },
  {
   "cell_type": "code",
   "execution_count": 11,
   "id": "147cf830-9ab6-4044-ae01-24664799500d",
   "metadata": {
    "tags": []
   },
   "outputs": [],
   "source": [
    "mdl_pipe = load(open('wine_quality_mdl_prod.pkl','rb'))"
   ]
  },
  {
   "cell_type": "markdown",
   "id": "506d8998-0314-44f5-8b45-ac9c00fe172a",
   "metadata": {},
   "source": [
    "#### 5.2.1 Importing Dataset"
   ]
  },
  {
   "cell_type": "code",
   "execution_count": 12,
   "id": "952cdd11-09fe-4dd0-bbc0-9185ed6620ee",
   "metadata": {
    "tags": []
   },
   "outputs": [
    {
     "name": "stdout",
     "output_type": "stream",
     "text": [
      "Shape of the test dataset : (100, 12)\n"
     ]
    }
   ],
   "source": [
    "te = pd.read_pickle('wine_quality_FE_prod_test.pkl')\n",
    "\n",
    "print(f'Shape of the test dataset : {te.shape}')\n",
    "te.head(5)\n",
    "\n",
    "Xte = te.drop(columns='quality')\n",
    "yte = te['quality']"
   ]
  },
  {
   "cell_type": "markdown",
   "id": "3af596d2-4e5c-4d43-914c-657223bdd1a3",
   "metadata": {
    "id": "3OePbrwKCw_G"
   },
   "source": [
    "#### 5.2.2 Overall Result on Test Data"
   ]
  },
  {
   "cell_type": "code",
   "execution_count": 13,
   "id": "f12c2025-23a3-4898-9997-a6d6437b38df",
   "metadata": {
    "id": "g0_HhvnaEvIi",
    "tags": []
   },
   "outputs": [
    {
     "name": "stdout",
     "output_type": "stream",
     "text": [
      "Shape of the Test Data : (100, 12) \n",
      "\n",
      "Accuracy Score on Test Data : 77.0 % \n",
      "\n",
      "Confusion Matrix on Test Data : \n",
      " [[34 14]\n",
      " [ 9 43]] \n",
      "\n",
      "Classification Report on Test Data : \n",
      "\n",
      "               precision    recall  f1-score   support\n",
      "\n",
      "           0       0.79      0.71      0.75        48\n",
      "           1       0.75      0.83      0.79        52\n",
      "\n",
      "    accuracy                           0.77       100\n",
      "   macro avg       0.77      0.77      0.77       100\n",
      "weighted avg       0.77      0.77      0.77       100\n",
      "\n"
     ]
    }
   ],
   "source": [
    "yte_pred = mdl_pipe.predict(Xte)\n",
    "\n",
    "print(f'Shape of the Test Data : {te.shape} \\n')\n",
    "\n",
    "print(f'Accuracy Score on Test Data : {round(accuracy_score(yte, yte_pred)*100,4)} % \\n')\n",
    "\n",
    "print(f'Confusion Matrix on Test Data : \\n {confusion_matrix(yte, yte_pred)} \\n')\n",
    "\n",
    "print(f'Classification Report on Test Data : \\n\\n {classification_report(yte, yte_pred)}')"
   ]
  },
  {
   "cell_type": "markdown",
   "id": "e1c25da0-3781-4f80-8fc8-10cc19bb1abc",
   "metadata": {},
   "source": [
    "#### 5.2.3 Predictions on Test Samples"
   ]
  },
  {
   "cell_type": "code",
   "execution_count": 14,
   "id": "86f7b7e9-c3d8-455d-8ed1-8afbe8283bc6",
   "metadata": {},
   "outputs": [
    {
     "data": {
      "text/html": [
       "<div>\n",
       "<style scoped>\n",
       "    .dataframe tbody tr th:only-of-type {\n",
       "        vertical-align: middle;\n",
       "    }\n",
       "\n",
       "    .dataframe tbody tr th {\n",
       "        vertical-align: top;\n",
       "    }\n",
       "\n",
       "    .dataframe thead th {\n",
       "        text-align: right;\n",
       "    }\n",
       "</style>\n",
       "<table border=\"1\" class=\"dataframe\">\n",
       "  <thead>\n",
       "    <tr style=\"text-align: right;\">\n",
       "      <th></th>\n",
       "      <th>fixed acidity</th>\n",
       "      <th>volatile acidity</th>\n",
       "      <th>citric acid</th>\n",
       "      <th>residual sugar</th>\n",
       "      <th>chlorides</th>\n",
       "      <th>free sulfur dioxide</th>\n",
       "      <th>total sulfur dioxide</th>\n",
       "      <th>density</th>\n",
       "      <th>pH</th>\n",
       "      <th>sulphates</th>\n",
       "      <th>alcohol</th>\n",
       "      <th>quality</th>\n",
       "    </tr>\n",
       "  </thead>\n",
       "  <tbody>\n",
       "    <tr>\n",
       "      <th>930</th>\n",
       "      <td>9.2</td>\n",
       "      <td>0.310</td>\n",
       "      <td>0.36</td>\n",
       "      <td>2.2</td>\n",
       "      <td>0.079</td>\n",
       "      <td>11.0</td>\n",
       "      <td>31.0</td>\n",
       "      <td>0.9961</td>\n",
       "      <td>3.33</td>\n",
       "      <td>0.86</td>\n",
       "      <td>12.00</td>\n",
       "      <td>1</td>\n",
       "    </tr>\n",
       "    <tr>\n",
       "      <th>420</th>\n",
       "      <td>10.6</td>\n",
       "      <td>0.280</td>\n",
       "      <td>0.39</td>\n",
       "      <td>15.5</td>\n",
       "      <td>0.069</td>\n",
       "      <td>6.0</td>\n",
       "      <td>23.0</td>\n",
       "      <td>1.0026</td>\n",
       "      <td>3.12</td>\n",
       "      <td>0.66</td>\n",
       "      <td>9.20</td>\n",
       "      <td>0</td>\n",
       "    </tr>\n",
       "    <tr>\n",
       "      <th>473</th>\n",
       "      <td>14.3</td>\n",
       "      <td>0.310</td>\n",
       "      <td>0.74</td>\n",
       "      <td>1.8</td>\n",
       "      <td>0.075</td>\n",
       "      <td>6.0</td>\n",
       "      <td>15.0</td>\n",
       "      <td>1.0008</td>\n",
       "      <td>2.86</td>\n",
       "      <td>0.79</td>\n",
       "      <td>8.40</td>\n",
       "      <td>1</td>\n",
       "    </tr>\n",
       "    <tr>\n",
       "      <th>760</th>\n",
       "      <td>8.9</td>\n",
       "      <td>0.750</td>\n",
       "      <td>0.14</td>\n",
       "      <td>2.5</td>\n",
       "      <td>0.086</td>\n",
       "      <td>9.0</td>\n",
       "      <td>30.0</td>\n",
       "      <td>0.9982</td>\n",
       "      <td>3.34</td>\n",
       "      <td>0.64</td>\n",
       "      <td>10.50</td>\n",
       "      <td>0</td>\n",
       "    </tr>\n",
       "    <tr>\n",
       "      <th>1149</th>\n",
       "      <td>6.1</td>\n",
       "      <td>0.340</td>\n",
       "      <td>0.25</td>\n",
       "      <td>1.8</td>\n",
       "      <td>0.084</td>\n",
       "      <td>4.0</td>\n",
       "      <td>28.0</td>\n",
       "      <td>0.9946</td>\n",
       "      <td>3.36</td>\n",
       "      <td>0.44</td>\n",
       "      <td>10.10</td>\n",
       "      <td>0</td>\n",
       "    </tr>\n",
       "    <tr>\n",
       "      <th>1356</th>\n",
       "      <td>5.9</td>\n",
       "      <td>0.550</td>\n",
       "      <td>0.10</td>\n",
       "      <td>2.2</td>\n",
       "      <td>0.062</td>\n",
       "      <td>39.0</td>\n",
       "      <td>51.0</td>\n",
       "      <td>0.9951</td>\n",
       "      <td>3.52</td>\n",
       "      <td>0.76</td>\n",
       "      <td>11.20</td>\n",
       "      <td>1</td>\n",
       "    </tr>\n",
       "    <tr>\n",
       "      <th>87</th>\n",
       "      <td>4.7</td>\n",
       "      <td>0.600</td>\n",
       "      <td>0.17</td>\n",
       "      <td>2.3</td>\n",
       "      <td>0.058</td>\n",
       "      <td>17.0</td>\n",
       "      <td>106.0</td>\n",
       "      <td>0.9932</td>\n",
       "      <td>3.85</td>\n",
       "      <td>0.60</td>\n",
       "      <td>12.90</td>\n",
       "      <td>1</td>\n",
       "    </tr>\n",
       "    <tr>\n",
       "      <th>1184</th>\n",
       "      <td>8.7</td>\n",
       "      <td>0.675</td>\n",
       "      <td>0.10</td>\n",
       "      <td>1.6</td>\n",
       "      <td>0.090</td>\n",
       "      <td>4.0</td>\n",
       "      <td>11.0</td>\n",
       "      <td>0.9974</td>\n",
       "      <td>3.31</td>\n",
       "      <td>0.65</td>\n",
       "      <td>9.55</td>\n",
       "      <td>0</td>\n",
       "    </tr>\n",
       "    <tr>\n",
       "      <th>1064</th>\n",
       "      <td>7.1</td>\n",
       "      <td>0.600</td>\n",
       "      <td>0.01</td>\n",
       "      <td>2.3</td>\n",
       "      <td>0.079</td>\n",
       "      <td>24.0</td>\n",
       "      <td>37.0</td>\n",
       "      <td>0.9951</td>\n",
       "      <td>3.40</td>\n",
       "      <td>0.61</td>\n",
       "      <td>10.90</td>\n",
       "      <td>1</td>\n",
       "    </tr>\n",
       "    <tr>\n",
       "      <th>896</th>\n",
       "      <td>5.6</td>\n",
       "      <td>0.605</td>\n",
       "      <td>0.05</td>\n",
       "      <td>2.4</td>\n",
       "      <td>0.073</td>\n",
       "      <td>19.0</td>\n",
       "      <td>25.0</td>\n",
       "      <td>0.9926</td>\n",
       "      <td>3.56</td>\n",
       "      <td>0.55</td>\n",
       "      <td>12.90</td>\n",
       "      <td>0</td>\n",
       "    </tr>\n",
       "  </tbody>\n",
       "</table>\n",
       "</div>"
      ],
      "text/plain": [
       "      fixed acidity  volatile acidity  citric acid  residual sugar  chlorides  \\\n",
       "930             9.2             0.310         0.36             2.2      0.079   \n",
       "420            10.6             0.280         0.39            15.5      0.069   \n",
       "473            14.3             0.310         0.74             1.8      0.075   \n",
       "760             8.9             0.750         0.14             2.5      0.086   \n",
       "1149            6.1             0.340         0.25             1.8      0.084   \n",
       "1356            5.9             0.550         0.10             2.2      0.062   \n",
       "87              4.7             0.600         0.17             2.3      0.058   \n",
       "1184            8.7             0.675         0.10             1.6      0.090   \n",
       "1064            7.1             0.600         0.01             2.3      0.079   \n",
       "896             5.6             0.605         0.05             2.4      0.073   \n",
       "\n",
       "      free sulfur dioxide  total sulfur dioxide  density    pH  sulphates  \\\n",
       "930                  11.0                  31.0   0.9961  3.33       0.86   \n",
       "420                   6.0                  23.0   1.0026  3.12       0.66   \n",
       "473                   6.0                  15.0   1.0008  2.86       0.79   \n",
       "760                   9.0                  30.0   0.9982  3.34       0.64   \n",
       "1149                  4.0                  28.0   0.9946  3.36       0.44   \n",
       "1356                 39.0                  51.0   0.9951  3.52       0.76   \n",
       "87                   17.0                 106.0   0.9932  3.85       0.60   \n",
       "1184                  4.0                  11.0   0.9974  3.31       0.65   \n",
       "1064                 24.0                  37.0   0.9951  3.40       0.61   \n",
       "896                  19.0                  25.0   0.9926  3.56       0.55   \n",
       "\n",
       "      alcohol quality  \n",
       "930     12.00       1  \n",
       "420      9.20       0  \n",
       "473      8.40       1  \n",
       "760     10.50       0  \n",
       "1149    10.10       0  \n",
       "1356    11.20       1  \n",
       "87      12.90       1  \n",
       "1184     9.55       0  \n",
       "1064    10.90       1  \n",
       "896     12.90       0  "
      ]
     },
     "execution_count": 14,
     "metadata": {},
     "output_type": "execute_result"
    }
   ],
   "source": [
    "samp = Xte.sample(10).index.values.tolist()\n",
    "samp\n",
    "\n",
    "te_df = pd.concat([Xte.loc[samp],yte.loc[samp]],axis=1)\n",
    "te_df.head(10)"
   ]
  },
  {
   "cell_type": "code",
   "execution_count": 15,
   "id": "38919aaa-2a33-4f28-a1fe-a420074e5337",
   "metadata": {
    "colab": {
     "base_uri": "https://localhost:8080/"
    },
    "id": "8c897186-8299-42fd-bc08-461b05245886",
    "outputId": "4244f6d6-58cf-48ce-cfa9-188e47a381ae",
    "tags": []
   },
   "outputs": [
    {
     "name": "stdout",
     "output_type": "stream",
     "text": [
      "Test Data with Index : 896 is Selected for Prediction: \n",
      "\n",
      "\"fixed acidity\" ---:--- 5.6\n",
      "\"volatile acidity\" ---:--- 0.605\n",
      "\"citric acid\" ---:--- 0.05\n",
      "\"residual sugar\" ---:--- 2.4\n",
      "\"chlorides\" ---:--- 0.073\n",
      "\"free sulfur dioxide\" ---:--- 19.0\n",
      "\"total sulfur dioxide\" ---:--- 25.0\n",
      "\"density\" ---:--- 0.99258\n",
      "\"pH\" ---:--- 3.56\n",
      "\"sulphates\" ---:--- 0.55\n",
      "\"alcohol\" ---:--- 12.9\n"
     ]
    }
   ],
   "source": [
    "#inp_data = (13.7,0.415,0.68,2.9,0.085,17.0,43.0,1.0014,3.06,0.80,10.0)\n",
    "#inp_data = np.array(inp_data).reshape(1,-1)\n",
    "\n",
    "idx = te_df.sample().index.values\n",
    "inp_data = Xte.loc[idx].values\n",
    "\n",
    "print(f'Test Data with Index : {idx[0]} is Selected for Prediction: \\n')\n",
    "\n",
    "for fea_name, fea_val in zip(Xte.columns.tolist(), inp_data[0]):\n",
    "    print(f'\"{fea_name}\" ---:--- {fea_val}')"
   ]
  },
  {
   "cell_type": "code",
   "execution_count": 16,
   "id": "e328aad3-3349-40cd-96fa-cba871b82269",
   "metadata": {
    "colab": {
     "base_uri": "https://localhost:8080/"
    },
    "id": "f36b7136-0f28-4dde-a4a2-759610dd0b33",
    "outputId": "d802e49a-8899-40ab-8466-9c1fb8daae7c",
    "tags": []
   },
   "outputs": [
    {
     "name": "stdout",
     "output_type": "stream",
     "text": [
      "------------- Prediction for Test Data with Index : 896 --------------------\n",
      "\n",
      "Actual Wine Quality for the Selected Data : 0 \n",
      "\n",
      "Predicted Wine Quality : 1 (High Quality Wine)\n"
     ]
    }
   ],
   "source": [
    "print(f'------------- Prediction for Test Data with Index : {idx[0]} --------------------\\n')\n",
    "\n",
    "print(f'Actual Wine Quality for the Selected Data : {yte[idx[0]]} \\n')\n",
    "\n",
    "pred = mdl_pipe.predict(inp_data)\n",
    "\n",
    "if (pred[0] == 1):\n",
    "    print(f'Predicted Wine Quality : {pred[0]} (High Quality Wine)')\n",
    "else:\n",
    "    print(f'Predicted Wine Quality : {pred[0]} (Low Quality Wine)')"
   ]
  },
  {
   "cell_type": "code",
   "execution_count": null,
   "id": "cf548c04-5b38-4fb3-9ee8-52c6f98c0943",
   "metadata": {},
   "outputs": [],
   "source": []
  }
 ],
 "metadata": {
  "colab": {
   "provenance": []
  },
  "kernelspec": {
   "display_name": "Python 3 (ipykernel)",
   "language": "python",
   "name": "python3"
  },
  "language_info": {
   "codemirror_mode": {
    "name": "ipython",
    "version": 3
   },
   "file_extension": ".py",
   "mimetype": "text/x-python",
   "name": "python",
   "nbconvert_exporter": "python",
   "pygments_lexer": "ipython3",
   "version": "3.10.10"
  }
 },
 "nbformat": 4,
 "nbformat_minor": 5
}
