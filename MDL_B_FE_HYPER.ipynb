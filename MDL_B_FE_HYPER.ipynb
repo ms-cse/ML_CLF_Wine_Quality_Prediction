{
 "cells": [
  {
   "cell_type": "markdown",
   "id": "f6079c98-4e48-499e-894f-c50109507c87",
   "metadata": {},
   "source": [
    "# ML CLASSIFICATION - {\"RED WINE QUALITY\" DATASET}"
   ]
  },
  {
   "cell_type": "markdown",
   "id": "a6709c06-804a-47d1-b0df-5aee8b18f5a3",
   "metadata": {},
   "source": [
    "## 1. Importing Modules and Setting Configurations"
   ]
  },
  {
   "cell_type": "code",
   "execution_count": 1,
   "id": "36db63e5-2d56-407a-b8c0-22812c099423",
   "metadata": {
    "tags": []
   },
   "outputs": [],
   "source": [
    "import numpy as np\n",
    "import pandas as pd\n",
    "\n",
    "import matplotlib.pyplot as plt\n",
    "import seaborn as sb\n",
    "\n",
    "from sklearn.preprocessing import PowerTransformer, StandardScaler\n",
    "from sklearn.compose import ColumnTransformer\n",
    "\n",
    "from sklearn.feature_selection import SelectKBest, mutual_info_classif\n",
    "\n",
    "from sklearn.linear_model import LogisticRegression\n",
    "from sklearn.ensemble import RandomForestClassifier\n",
    "\n",
    "from sklearn.pipeline import Pipeline\n",
    "\n",
    "from sklearn.metrics import accuracy_score, classification_report, confusion_matrix\n",
    "\n",
    "from sklearn.model_selection import StratifiedKFold, cross_val_score\n",
    "\n",
    "from pickle import dump, load\n",
    "\n",
    "import warnings\n",
    "warnings.filterwarnings('ignore')\n",
    "\n",
    "from sklearn import set_config\n",
    "set_config(display='diagram')"
   ]
  },
  {
   "cell_type": "code",
   "execution_count": 2,
   "id": "b112b0e4-d8d7-439d-8a6c-b57e853f3a7e",
   "metadata": {
    "tags": []
   },
   "outputs": [],
   "source": [
    "# PD Options\n",
    "\n",
    "pd.set_option('display.min_rows', 5)\n",
    "pd.set_option('display.max_rows', 25)\n",
    "pd.set_option('display.precision', 4)\n",
    "\n",
    "# SB Options\n",
    "\n",
    "sb.set_theme(context='notebook', style='whitegrid', palette='pastel', font='times new roman', font_scale=1.25)"
   ]
  },
  {
   "cell_type": "markdown",
   "id": "5b60c742-f76a-4463-aff4-81be0075736f",
   "metadata": {},
   "source": [
    "## 2. Importing Dataset"
   ]
  },
  {
   "cell_type": "markdown",
   "id": "2353ed1b-ef7a-4ebe-a0b1-c2b939aa9084",
   "metadata": {},
   "source": [
    "### 2.1 Train Dataset"
   ]
  },
  {
   "cell_type": "code",
   "execution_count": 3,
   "id": "7477acaa-833f-45c3-beeb-7a05904d1459",
   "metadata": {
    "tags": []
   },
   "outputs": [
    {
     "name": "stdout",
     "output_type": "stream",
     "text": [
      "Shape of the train dataset : (1230, 12)\n"
     ]
    },
    {
     "data": {
      "text/html": [
       "<div>\n",
       "<style scoped>\n",
       "    .dataframe tbody tr th:only-of-type {\n",
       "        vertical-align: middle;\n",
       "    }\n",
       "\n",
       "    .dataframe tbody tr th {\n",
       "        vertical-align: top;\n",
       "    }\n",
       "\n",
       "    .dataframe thead th {\n",
       "        text-align: right;\n",
       "    }\n",
       "</style>\n",
       "<table border=\"1\" class=\"dataframe\">\n",
       "  <thead>\n",
       "    <tr style=\"text-align: right;\">\n",
       "      <th></th>\n",
       "      <th>fixed acidity</th>\n",
       "      <th>volatile acidity</th>\n",
       "      <th>citric acid</th>\n",
       "      <th>residual sugar</th>\n",
       "      <th>chlorides</th>\n",
       "      <th>free sulfur dioxide</th>\n",
       "      <th>total sulfur dioxide</th>\n",
       "      <th>density</th>\n",
       "      <th>pH</th>\n",
       "      <th>sulphates</th>\n",
       "      <th>alcohol</th>\n",
       "      <th>quality</th>\n",
       "    </tr>\n",
       "  </thead>\n",
       "  <tbody>\n",
       "    <tr>\n",
       "      <th>0</th>\n",
       "      <td>6.5</td>\n",
       "      <td>0.510</td>\n",
       "      <td>0.15</td>\n",
       "      <td>3.0</td>\n",
       "      <td>0.064</td>\n",
       "      <td>12.0</td>\n",
       "      <td>27.0</td>\n",
       "      <td>0.9929</td>\n",
       "      <td>3.33</td>\n",
       "      <td>0.590</td>\n",
       "      <td>12.8</td>\n",
       "      <td>1</td>\n",
       "    </tr>\n",
       "    <tr>\n",
       "      <th>1</th>\n",
       "      <td>10.1</td>\n",
       "      <td>0.310</td>\n",
       "      <td>0.44</td>\n",
       "      <td>2.3</td>\n",
       "      <td>0.080</td>\n",
       "      <td>22.0</td>\n",
       "      <td>46.0</td>\n",
       "      <td>0.9988</td>\n",
       "      <td>3.32</td>\n",
       "      <td>0.670</td>\n",
       "      <td>9.7</td>\n",
       "      <td>1</td>\n",
       "    </tr>\n",
       "    <tr>\n",
       "      <th>2</th>\n",
       "      <td>10.5</td>\n",
       "      <td>0.510</td>\n",
       "      <td>0.64</td>\n",
       "      <td>2.4</td>\n",
       "      <td>0.107</td>\n",
       "      <td>6.0</td>\n",
       "      <td>15.0</td>\n",
       "      <td>0.9973</td>\n",
       "      <td>3.09</td>\n",
       "      <td>0.660</td>\n",
       "      <td>11.8</td>\n",
       "      <td>1</td>\n",
       "    </tr>\n",
       "    <tr>\n",
       "      <th>3</th>\n",
       "      <td>7.6</td>\n",
       "      <td>0.645</td>\n",
       "      <td>0.03</td>\n",
       "      <td>1.9</td>\n",
       "      <td>0.086</td>\n",
       "      <td>14.0</td>\n",
       "      <td>57.0</td>\n",
       "      <td>0.9969</td>\n",
       "      <td>3.37</td>\n",
       "      <td>0.460</td>\n",
       "      <td>10.3</td>\n",
       "      <td>0</td>\n",
       "    </tr>\n",
       "    <tr>\n",
       "      <th>4</th>\n",
       "      <td>10.7</td>\n",
       "      <td>0.670</td>\n",
       "      <td>0.22</td>\n",
       "      <td>2.7</td>\n",
       "      <td>0.107</td>\n",
       "      <td>17.0</td>\n",
       "      <td>34.0</td>\n",
       "      <td>1.0004</td>\n",
       "      <td>3.28</td>\n",
       "      <td>0.975</td>\n",
       "      <td>9.9</td>\n",
       "      <td>1</td>\n",
       "    </tr>\n",
       "  </tbody>\n",
       "</table>\n",
       "</div>"
      ],
      "text/plain": [
       "   fixed acidity  volatile acidity  citric acid  residual sugar  chlorides  \\\n",
       "0            6.5             0.510         0.15             3.0      0.064   \n",
       "1           10.1             0.310         0.44             2.3      0.080   \n",
       "2           10.5             0.510         0.64             2.4      0.107   \n",
       "3            7.6             0.645         0.03             1.9      0.086   \n",
       "4           10.7             0.670         0.22             2.7      0.107   \n",
       "\n",
       "   free sulfur dioxide  total sulfur dioxide  density    pH  sulphates  \\\n",
       "0                 12.0                  27.0   0.9929  3.33      0.590   \n",
       "1                 22.0                  46.0   0.9988  3.32      0.670   \n",
       "2                  6.0                  15.0   0.9973  3.09      0.660   \n",
       "3                 14.0                  57.0   0.9969  3.37      0.460   \n",
       "4                 17.0                  34.0   1.0004  3.28      0.975   \n",
       "\n",
       "   alcohol quality  \n",
       "0     12.8       1  \n",
       "1      9.7       1  \n",
       "2     11.8       1  \n",
       "3     10.3       0  \n",
       "4      9.9       1  "
      ]
     },
     "execution_count": 3,
     "metadata": {},
     "output_type": "execute_result"
    }
   ],
   "source": [
    "tr = pd.read_pickle('wine_quality_FE_final_train.pkl')\n",
    "\n",
    "print(f'Shape of the train dataset : {tr.shape}')\n",
    "tr.head(5)"
   ]
  },
  {
   "cell_type": "code",
   "execution_count": 4,
   "id": "5c42edc6-2c61-4c9d-8162-436575124fa0",
   "metadata": {},
   "outputs": [],
   "source": [
    "Xtr = tr.drop(columns='quality')\n",
    "ytr = tr['quality']"
   ]
  },
  {
   "cell_type": "markdown",
   "id": "a96c5dff-24a3-4aac-a678-54303daa5645",
   "metadata": {},
   "source": [
    "### 2.2 Validation Dataset"
   ]
  },
  {
   "cell_type": "code",
   "execution_count": 5,
   "id": "7a1cd6da-619d-4227-90f2-6805dd5c18e8",
   "metadata": {
    "tags": []
   },
   "outputs": [
    {
     "name": "stdout",
     "output_type": "stream",
     "text": [
      "Shape of the validation dataset : (100, 12)\n"
     ]
    },
    {
     "data": {
      "text/html": [
       "<div>\n",
       "<style scoped>\n",
       "    .dataframe tbody tr th:only-of-type {\n",
       "        vertical-align: middle;\n",
       "    }\n",
       "\n",
       "    .dataframe tbody tr th {\n",
       "        vertical-align: top;\n",
       "    }\n",
       "\n",
       "    .dataframe thead th {\n",
       "        text-align: right;\n",
       "    }\n",
       "</style>\n",
       "<table border=\"1\" class=\"dataframe\">\n",
       "  <thead>\n",
       "    <tr style=\"text-align: right;\">\n",
       "      <th></th>\n",
       "      <th>fixed acidity</th>\n",
       "      <th>volatile acidity</th>\n",
       "      <th>citric acid</th>\n",
       "      <th>residual sugar</th>\n",
       "      <th>chlorides</th>\n",
       "      <th>free sulfur dioxide</th>\n",
       "      <th>total sulfur dioxide</th>\n",
       "      <th>density</th>\n",
       "      <th>pH</th>\n",
       "      <th>sulphates</th>\n",
       "      <th>alcohol</th>\n",
       "      <th>quality</th>\n",
       "    </tr>\n",
       "  </thead>\n",
       "  <tbody>\n",
       "    <tr>\n",
       "      <th>905</th>\n",
       "      <td>10.2</td>\n",
       "      <td>0.29</td>\n",
       "      <td>0.65</td>\n",
       "      <td>2.4</td>\n",
       "      <td>0.075</td>\n",
       "      <td>6.0</td>\n",
       "      <td>17.0</td>\n",
       "      <td>0.9957</td>\n",
       "      <td>3.22</td>\n",
       "      <td>0.63</td>\n",
       "      <td>11.8</td>\n",
       "      <td>1</td>\n",
       "    </tr>\n",
       "    <tr>\n",
       "      <th>1336</th>\n",
       "      <td>5.6</td>\n",
       "      <td>0.31</td>\n",
       "      <td>0.78</td>\n",
       "      <td>13.9</td>\n",
       "      <td>0.074</td>\n",
       "      <td>23.0</td>\n",
       "      <td>92.0</td>\n",
       "      <td>0.9968</td>\n",
       "      <td>3.39</td>\n",
       "      <td>0.48</td>\n",
       "      <td>10.5</td>\n",
       "      <td>1</td>\n",
       "    </tr>\n",
       "    <tr>\n",
       "      <th>69</th>\n",
       "      <td>9.7</td>\n",
       "      <td>0.32</td>\n",
       "      <td>0.54</td>\n",
       "      <td>2.5</td>\n",
       "      <td>0.094</td>\n",
       "      <td>28.0</td>\n",
       "      <td>83.0</td>\n",
       "      <td>0.9984</td>\n",
       "      <td>3.28</td>\n",
       "      <td>0.82</td>\n",
       "      <td>9.6</td>\n",
       "      <td>0</td>\n",
       "    </tr>\n",
       "    <tr>\n",
       "      <th>933</th>\n",
       "      <td>8.6</td>\n",
       "      <td>0.52</td>\n",
       "      <td>0.38</td>\n",
       "      <td>1.5</td>\n",
       "      <td>0.096</td>\n",
       "      <td>5.0</td>\n",
       "      <td>18.0</td>\n",
       "      <td>0.9967</td>\n",
       "      <td>3.20</td>\n",
       "      <td>0.52</td>\n",
       "      <td>9.4</td>\n",
       "      <td>0</td>\n",
       "    </tr>\n",
       "    <tr>\n",
       "      <th>310</th>\n",
       "      <td>6.7</td>\n",
       "      <td>0.75</td>\n",
       "      <td>0.01</td>\n",
       "      <td>2.4</td>\n",
       "      <td>0.078</td>\n",
       "      <td>17.0</td>\n",
       "      <td>32.0</td>\n",
       "      <td>0.9955</td>\n",
       "      <td>3.55</td>\n",
       "      <td>0.61</td>\n",
       "      <td>12.8</td>\n",
       "      <td>1</td>\n",
       "    </tr>\n",
       "  </tbody>\n",
       "</table>\n",
       "</div>"
      ],
      "text/plain": [
       "      fixed acidity  volatile acidity  citric acid  residual sugar  chlorides  \\\n",
       "905            10.2              0.29         0.65             2.4      0.075   \n",
       "1336            5.6              0.31         0.78            13.9      0.074   \n",
       "69              9.7              0.32         0.54             2.5      0.094   \n",
       "933             8.6              0.52         0.38             1.5      0.096   \n",
       "310             6.7              0.75         0.01             2.4      0.078   \n",
       "\n",
       "      free sulfur dioxide  total sulfur dioxide  density    pH  sulphates  \\\n",
       "905                   6.0                  17.0   0.9957  3.22       0.63   \n",
       "1336                 23.0                  92.0   0.9968  3.39       0.48   \n",
       "69                   28.0                  83.0   0.9984  3.28       0.82   \n",
       "933                   5.0                  18.0   0.9967  3.20       0.52   \n",
       "310                  17.0                  32.0   0.9955  3.55       0.61   \n",
       "\n",
       "      alcohol quality  \n",
       "905      11.8       1  \n",
       "1336     10.5       1  \n",
       "69        9.6       0  \n",
       "933       9.4       0  \n",
       "310      12.8       1  "
      ]
     },
     "execution_count": 5,
     "metadata": {},
     "output_type": "execute_result"
    }
   ],
   "source": [
    "val = pd.read_pickle('wine_quality_FE_final_valid.pkl')\n",
    "\n",
    "print(f'Shape of the validation dataset : {val.shape}')\n",
    "val.head(5)"
   ]
  },
  {
   "cell_type": "code",
   "execution_count": 6,
   "id": "8e4bb549-cccf-4a1a-bd30-8e47ed066d7f",
   "metadata": {},
   "outputs": [],
   "source": [
    "Xval = val.drop(columns='quality')\n",
    "yval = val['quality']"
   ]
  },
  {
   "cell_type": "markdown",
   "id": "07dd8351-a616-4074-9969-231f6f77f0ab",
   "metadata": {},
   "source": [
    "## 3. Pipeline Creation for Model Building"
   ]
  },
  {
   "cell_type": "code",
   "execution_count": 7,
   "id": "d1c1d8ea-f7e8-4b84-afe0-729391998d6d",
   "metadata": {
    "tags": []
   },
   "outputs": [],
   "source": [
    "# Pre Processors\n",
    "\n",
    "ct_preproc = ColumnTransformer([\n",
    "    ('yj',PowerTransformer(method='yeo-johnson', standardize=False),slice(0,11)),\n",
    "    ('ss',StandardScaler(),slice(0,11))\n",
    "    ], remainder='passthrough')"
   ]
  },
  {
   "cell_type": "code",
   "execution_count": 8,
   "id": "5e430ec7-5182-4dff-970d-deda67d369ca",
   "metadata": {
    "tags": []
   },
   "outputs": [],
   "source": [
    "# Feature Selection\n",
    "\n",
    "skb = SelectKBest(mutual_info_classif, k='all')"
   ]
  },
  {
   "cell_type": "code",
   "execution_count": 9,
   "id": "507a6004-b4c8-4f43-a6d7-76ac353a1636",
   "metadata": {
    "tags": []
   },
   "outputs": [],
   "source": [
    "# Estimator\n",
    "\n",
    "#mdl = LogisticRegression(C=0.5, random_state=46)\n",
    "mdl = RandomForestClassifier(n_estimators=200, max_depth=3, random_state=46)"
   ]
  },
  {
   "cell_type": "code",
   "execution_count": 10,
   "id": "8ae1d46d-a657-484c-a5cb-97d439e8df35",
   "metadata": {
    "tags": []
   },
   "outputs": [],
   "source": [
    "steps = [('ct_preproc',ct_preproc),\n",
    "         ('skb',skb),\n",
    "         ('mdl',mdl)]"
   ]
  },
  {
   "cell_type": "code",
   "execution_count": 11,
   "id": "912dfe30-925f-4018-955e-8ef1f44efbc4",
   "metadata": {
    "tags": []
   },
   "outputs": [],
   "source": [
    "pipe = Pipeline(steps)"
   ]
  },
  {
   "cell_type": "markdown",
   "id": "ef5ab645-6edf-4228-828f-65c638b92dc5",
   "metadata": {},
   "source": [
    "## 4. Model Training"
   ]
  },
  {
   "cell_type": "code",
   "execution_count": 12,
   "id": "7d8fdf6b-5d32-4b1a-8644-a1ce8afe7eab",
   "metadata": {
    "tags": []
   },
   "outputs": [
    {
     "data": {
      "text/html": [
       "<style>#sk-container-id-1 {color: black;background-color: white;}#sk-container-id-1 pre{padding: 0;}#sk-container-id-1 div.sk-toggleable {background-color: white;}#sk-container-id-1 label.sk-toggleable__label {cursor: pointer;display: block;width: 100%;margin-bottom: 0;padding: 0.3em;box-sizing: border-box;text-align: center;}#sk-container-id-1 label.sk-toggleable__label-arrow:before {content: \"▸\";float: left;margin-right: 0.25em;color: #696969;}#sk-container-id-1 label.sk-toggleable__label-arrow:hover:before {color: black;}#sk-container-id-1 div.sk-estimator:hover label.sk-toggleable__label-arrow:before {color: black;}#sk-container-id-1 div.sk-toggleable__content {max-height: 0;max-width: 0;overflow: hidden;text-align: left;background-color: #f0f8ff;}#sk-container-id-1 div.sk-toggleable__content pre {margin: 0.2em;color: black;border-radius: 0.25em;background-color: #f0f8ff;}#sk-container-id-1 input.sk-toggleable__control:checked~div.sk-toggleable__content {max-height: 200px;max-width: 100%;overflow: auto;}#sk-container-id-1 input.sk-toggleable__control:checked~label.sk-toggleable__label-arrow:before {content: \"▾\";}#sk-container-id-1 div.sk-estimator input.sk-toggleable__control:checked~label.sk-toggleable__label {background-color: #d4ebff;}#sk-container-id-1 div.sk-label input.sk-toggleable__control:checked~label.sk-toggleable__label {background-color: #d4ebff;}#sk-container-id-1 input.sk-hidden--visually {border: 0;clip: rect(1px 1px 1px 1px);clip: rect(1px, 1px, 1px, 1px);height: 1px;margin: -1px;overflow: hidden;padding: 0;position: absolute;width: 1px;}#sk-container-id-1 div.sk-estimator {font-family: monospace;background-color: #f0f8ff;border: 1px dotted black;border-radius: 0.25em;box-sizing: border-box;margin-bottom: 0.5em;}#sk-container-id-1 div.sk-estimator:hover {background-color: #d4ebff;}#sk-container-id-1 div.sk-parallel-item::after {content: \"\";width: 100%;border-bottom: 1px solid gray;flex-grow: 1;}#sk-container-id-1 div.sk-label:hover label.sk-toggleable__label {background-color: #d4ebff;}#sk-container-id-1 div.sk-serial::before {content: \"\";position: absolute;border-left: 1px solid gray;box-sizing: border-box;top: 0;bottom: 0;left: 50%;z-index: 0;}#sk-container-id-1 div.sk-serial {display: flex;flex-direction: column;align-items: center;background-color: white;padding-right: 0.2em;padding-left: 0.2em;position: relative;}#sk-container-id-1 div.sk-item {position: relative;z-index: 1;}#sk-container-id-1 div.sk-parallel {display: flex;align-items: stretch;justify-content: center;background-color: white;position: relative;}#sk-container-id-1 div.sk-item::before, #sk-container-id-1 div.sk-parallel-item::before {content: \"\";position: absolute;border-left: 1px solid gray;box-sizing: border-box;top: 0;bottom: 0;left: 50%;z-index: -1;}#sk-container-id-1 div.sk-parallel-item {display: flex;flex-direction: column;z-index: 1;position: relative;background-color: white;}#sk-container-id-1 div.sk-parallel-item:first-child::after {align-self: flex-end;width: 50%;}#sk-container-id-1 div.sk-parallel-item:last-child::after {align-self: flex-start;width: 50%;}#sk-container-id-1 div.sk-parallel-item:only-child::after {width: 0;}#sk-container-id-1 div.sk-dashed-wrapped {border: 1px dashed gray;margin: 0 0.4em 0.5em 0.4em;box-sizing: border-box;padding-bottom: 0.4em;background-color: white;}#sk-container-id-1 div.sk-label label {font-family: monospace;font-weight: bold;display: inline-block;line-height: 1.2em;}#sk-container-id-1 div.sk-label-container {text-align: center;}#sk-container-id-1 div.sk-container {/* jupyter's `normalize.less` sets `[hidden] { display: none; }` but bootstrap.min.css set `[hidden] { display: none !important; }` so we also need the `!important` here to be able to override the default hidden behavior on the sphinx rendered scikit-learn.org. See: https://github.com/scikit-learn/scikit-learn/issues/21755 */display: inline-block !important;position: relative;}#sk-container-id-1 div.sk-text-repr-fallback {display: none;}</style><div id=\"sk-container-id-1\" class=\"sk-top-container\"><div class=\"sk-text-repr-fallback\"><pre>Pipeline(steps=[(&#x27;ct_preproc&#x27;,\n",
       "                 ColumnTransformer(remainder=&#x27;passthrough&#x27;,\n",
       "                                   transformers=[(&#x27;yj&#x27;,\n",
       "                                                  PowerTransformer(standardize=False),\n",
       "                                                  slice(0, 11, None)),\n",
       "                                                 (&#x27;ss&#x27;, StandardScaler(),\n",
       "                                                  slice(0, 11, None))])),\n",
       "                (&#x27;skb&#x27;,\n",
       "                 SelectKBest(k=&#x27;all&#x27;,\n",
       "                             score_func=&lt;function mutual_info_classif at 0x000001FAAD874C10&gt;)),\n",
       "                (&#x27;mdl&#x27;,\n",
       "                 RandomForestClassifier(max_depth=3, n_estimators=200,\n",
       "                                        random_state=46))])</pre><b>In a Jupyter environment, please rerun this cell to show the HTML representation or trust the notebook. <br />On GitHub, the HTML representation is unable to render, please try loading this page with nbviewer.org.</b></div><div class=\"sk-container\" hidden><div class=\"sk-item sk-dashed-wrapped\"><div class=\"sk-label-container\"><div class=\"sk-label sk-toggleable\"><input class=\"sk-toggleable__control sk-hidden--visually\" id=\"sk-estimator-id-1\" type=\"checkbox\" ><label for=\"sk-estimator-id-1\" class=\"sk-toggleable__label sk-toggleable__label-arrow\">Pipeline</label><div class=\"sk-toggleable__content\"><pre>Pipeline(steps=[(&#x27;ct_preproc&#x27;,\n",
       "                 ColumnTransformer(remainder=&#x27;passthrough&#x27;,\n",
       "                                   transformers=[(&#x27;yj&#x27;,\n",
       "                                                  PowerTransformer(standardize=False),\n",
       "                                                  slice(0, 11, None)),\n",
       "                                                 (&#x27;ss&#x27;, StandardScaler(),\n",
       "                                                  slice(0, 11, None))])),\n",
       "                (&#x27;skb&#x27;,\n",
       "                 SelectKBest(k=&#x27;all&#x27;,\n",
       "                             score_func=&lt;function mutual_info_classif at 0x000001FAAD874C10&gt;)),\n",
       "                (&#x27;mdl&#x27;,\n",
       "                 RandomForestClassifier(max_depth=3, n_estimators=200,\n",
       "                                        random_state=46))])</pre></div></div></div><div class=\"sk-serial\"><div class=\"sk-item sk-dashed-wrapped\"><div class=\"sk-label-container\"><div class=\"sk-label sk-toggleable\"><input class=\"sk-toggleable__control sk-hidden--visually\" id=\"sk-estimator-id-2\" type=\"checkbox\" ><label for=\"sk-estimator-id-2\" class=\"sk-toggleable__label sk-toggleable__label-arrow\">ct_preproc: ColumnTransformer</label><div class=\"sk-toggleable__content\"><pre>ColumnTransformer(remainder=&#x27;passthrough&#x27;,\n",
       "                  transformers=[(&#x27;yj&#x27;, PowerTransformer(standardize=False),\n",
       "                                 slice(0, 11, None)),\n",
       "                                (&#x27;ss&#x27;, StandardScaler(), slice(0, 11, None))])</pre></div></div></div><div class=\"sk-parallel\"><div class=\"sk-parallel-item\"><div class=\"sk-item\"><div class=\"sk-label-container\"><div class=\"sk-label sk-toggleable\"><input class=\"sk-toggleable__control sk-hidden--visually\" id=\"sk-estimator-id-3\" type=\"checkbox\" ><label for=\"sk-estimator-id-3\" class=\"sk-toggleable__label sk-toggleable__label-arrow\">yj</label><div class=\"sk-toggleable__content\"><pre>slice(0, 11, None)</pre></div></div></div><div class=\"sk-serial\"><div class=\"sk-item\"><div class=\"sk-estimator sk-toggleable\"><input class=\"sk-toggleable__control sk-hidden--visually\" id=\"sk-estimator-id-4\" type=\"checkbox\" ><label for=\"sk-estimator-id-4\" class=\"sk-toggleable__label sk-toggleable__label-arrow\">PowerTransformer</label><div class=\"sk-toggleable__content\"><pre>PowerTransformer(standardize=False)</pre></div></div></div></div></div></div><div class=\"sk-parallel-item\"><div class=\"sk-item\"><div class=\"sk-label-container\"><div class=\"sk-label sk-toggleable\"><input class=\"sk-toggleable__control sk-hidden--visually\" id=\"sk-estimator-id-5\" type=\"checkbox\" ><label for=\"sk-estimator-id-5\" class=\"sk-toggleable__label sk-toggleable__label-arrow\">ss</label><div class=\"sk-toggleable__content\"><pre>slice(0, 11, None)</pre></div></div></div><div class=\"sk-serial\"><div class=\"sk-item\"><div class=\"sk-estimator sk-toggleable\"><input class=\"sk-toggleable__control sk-hidden--visually\" id=\"sk-estimator-id-6\" type=\"checkbox\" ><label for=\"sk-estimator-id-6\" class=\"sk-toggleable__label sk-toggleable__label-arrow\">StandardScaler</label><div class=\"sk-toggleable__content\"><pre>StandardScaler()</pre></div></div></div></div></div></div><div class=\"sk-parallel-item\"><div class=\"sk-item\"><div class=\"sk-label-container\"><div class=\"sk-label sk-toggleable\"><input class=\"sk-toggleable__control sk-hidden--visually\" id=\"sk-estimator-id-7\" type=\"checkbox\" ><label for=\"sk-estimator-id-7\" class=\"sk-toggleable__label sk-toggleable__label-arrow\">remainder</label><div class=\"sk-toggleable__content\"><pre>[]</pre></div></div></div><div class=\"sk-serial\"><div class=\"sk-item\"><div class=\"sk-estimator sk-toggleable\"><input class=\"sk-toggleable__control sk-hidden--visually\" id=\"sk-estimator-id-8\" type=\"checkbox\" ><label for=\"sk-estimator-id-8\" class=\"sk-toggleable__label sk-toggleable__label-arrow\">passthrough</label><div class=\"sk-toggleable__content\"><pre>passthrough</pre></div></div></div></div></div></div></div></div><div class=\"sk-item\"><div class=\"sk-estimator sk-toggleable\"><input class=\"sk-toggleable__control sk-hidden--visually\" id=\"sk-estimator-id-9\" type=\"checkbox\" ><label for=\"sk-estimator-id-9\" class=\"sk-toggleable__label sk-toggleable__label-arrow\">SelectKBest</label><div class=\"sk-toggleable__content\"><pre>SelectKBest(k=&#x27;all&#x27;,\n",
       "            score_func=&lt;function mutual_info_classif at 0x000001FAAD874C10&gt;)</pre></div></div></div><div class=\"sk-item\"><div class=\"sk-estimator sk-toggleable\"><input class=\"sk-toggleable__control sk-hidden--visually\" id=\"sk-estimator-id-10\" type=\"checkbox\" ><label for=\"sk-estimator-id-10\" class=\"sk-toggleable__label sk-toggleable__label-arrow\">RandomForestClassifier</label><div class=\"sk-toggleable__content\"><pre>RandomForestClassifier(max_depth=3, n_estimators=200, random_state=46)</pre></div></div></div></div></div></div></div>"
      ],
      "text/plain": [
       "Pipeline(steps=[('ct_preproc',\n",
       "                 ColumnTransformer(remainder='passthrough',\n",
       "                                   transformers=[('yj',\n",
       "                                                  PowerTransformer(standardize=False),\n",
       "                                                  slice(0, 11, None)),\n",
       "                                                 ('ss', StandardScaler(),\n",
       "                                                  slice(0, 11, None))])),\n",
       "                ('skb',\n",
       "                 SelectKBest(k='all',\n",
       "                             score_func=<function mutual_info_classif at 0x000001FAAD874C10>)),\n",
       "                ('mdl',\n",
       "                 RandomForestClassifier(max_depth=3, n_estimators=200,\n",
       "                                        random_state=46))])"
      ]
     },
     "execution_count": 12,
     "metadata": {},
     "output_type": "execute_result"
    }
   ],
   "source": [
    "pipe.fit(Xtr,ytr)"
   ]
  },
  {
   "cell_type": "markdown",
   "id": "5628989b-7103-4b03-90c3-accec5172bbf",
   "metadata": {},
   "source": [
    "## 5. Model Evaluation On Train and Test Data"
   ]
  },
  {
   "cell_type": "code",
   "execution_count": 13,
   "id": "5e560621-8cfb-4ba7-84b4-14db175d6a8b",
   "metadata": {
    "tags": []
   },
   "outputs": [
    {
     "name": "stdout",
     "output_type": "stream",
     "text": [
      "Train Dataset Accuracy : 77.3984 % \n",
      "\n",
      "Validation Dataset Accuracy : 76.0 %\n"
     ]
    }
   ],
   "source": [
    "yhat_tr = pipe.predict(Xtr)\n",
    "yhat_val = pipe.predict(Xval)\n",
    "\n",
    "print(f'Train Dataset Accuracy : {round(accuracy_score(ytr,yhat_tr)*100,4)} % \\n')\n",
    "print(f'Validation Dataset Accuracy : {round(accuracy_score(yval,yhat_val)*100,4)} %')"
   ]
  },
  {
   "cell_type": "code",
   "execution_count": 14,
   "id": "8e872e6d-c7d1-4da7-94aa-76906f50bbec",
   "metadata": {
    "tags": []
   },
   "outputs": [
    {
     "name": "stdout",
     "output_type": "stream",
     "text": [
      "              precision    recall  f1-score   support\n",
      "\n",
      "           0       0.75      0.75      0.75        48\n",
      "           1       0.77      0.77      0.77        52\n",
      "\n",
      "    accuracy                           0.76       100\n",
      "   macro avg       0.76      0.76      0.76       100\n",
      "weighted avg       0.76      0.76      0.76       100\n",
      "\n"
     ]
    }
   ],
   "source": [
    "print(classification_report(yval,yhat_val))"
   ]
  },
  {
   "cell_type": "code",
   "execution_count": 15,
   "id": "135210d5-ed44-419c-ab73-0e20cc40d87c",
   "metadata": {
    "tags": []
   },
   "outputs": [
    {
     "data": {
      "image/png": "[encoded data removed]",
      "text/plain": [
       "<Figure size 640x480 with 2 Axes>"
      ]
     },
     "metadata": {},
     "output_type": "display_data"
    }
   ],
   "source": [
    "labels = yval.unique().tolist()\n",
    "labels.sort()\n",
    "#print(labels)\n",
    "\n",
    "cm = confusion_matrix(yval,yhat_val)\n",
    "#print(cm)\n",
    "\n",
    "ax = sb.heatmap(cm, annot=True, fmt='g', xticklabels=labels, yticklabels=labels, linewidth=0.5)\n",
    "ax.xaxis.tick_top()\n",
    "\n",
    "plt.ylabel('Prediction',fontsize=12)\n",
    "plt.xlabel('Actual',fontsize=12)\n",
    "plt.title('Confusion Matrix',fontsize=15)\n",
    "plt.show()"
   ]
  },
  {
   "cell_type": "markdown",
   "id": "78b8bd60-8d5c-4b9e-9bad-78824a5dfb4a",
   "metadata": {},
   "source": [
    "## 6. Cross Validation"
   ]
  },
  {
   "cell_type": "code",
   "execution_count": 16,
   "id": "ad8ca718-60ae-44be-84b0-15ad06e6d6d0",
   "metadata": {
    "tags": []
   },
   "outputs": [
    {
     "name": "stdout",
     "output_type": "stream",
     "text": [
      "Cross Validation Score is : 76.2602 %\n"
     ]
    }
   ],
   "source": [
    "kfold = StratifiedKFold(n_splits=10, shuffle=True, random_state=46)\n",
    "\n",
    "cv_score = cross_val_score(pipe, Xtr, ytr, cv=kfold, scoring='accuracy').mean()\n",
    "print(f'Cross Validation Score is : {round(cv_score*100,4)} %')"
   ]
  },
  {
   "cell_type": "markdown",
   "id": "cd4fad69-8542-4bc4-aa44-7fc5a3dae385",
   "metadata": {},
   "source": [
    "## 7. Model Save/Export"
   ]
  },
  {
   "cell_type": "code",
   "execution_count": 17,
   "id": "4cb5df2f-3141-4242-b163-5668530466f0",
   "metadata": {
    "tags": []
   },
   "outputs": [
    {
     "name": "stdout",
     "output_type": "stream",
     "text": [
      "Model Object Saved Successfully \n",
      "\n",
      "\"Xtr\" Features Saved Successfully\n"
     ]
    }
   ],
   "source": [
    "dump(pipe, open('wine_quality_mdl_fe_hyper.pkl','wb'))\n",
    "print('Model Object Saved Successfully \\n')\n",
    "\n",
    "dump(Xtr, open('wine_quality_X_fe_hyper.pkl','wb'))\n",
    "print('\"Xtr\" Features Saved Successfully')"
   ]
  },
  {
   "cell_type": "markdown",
   "id": "7c875e8c-515b-4248-b7c2-06f808b319fd",
   "metadata": {},
   "source": [
    "## 8. Simple Prediction System"
   ]
  },
  {
   "cell_type": "markdown",
   "id": "887c35e9-897f-4a99-b886-698c676aeefd",
   "metadata": {},
   "source": [
    "### 8.1 Combining Xtest and ytest"
   ]
  },
  {
   "cell_type": "code",
   "execution_count": 18,
   "id": "3c8e2196-b044-4ea3-b183-ea1dbf1fc74c",
   "metadata": {
    "tags": []
   },
   "outputs": [
    {
     "data": {
      "text/plain": [
       "[625, 1080, 1243, 857, 476, 1341, 190, 377, 905, 1063]"
      ]
     },
     "execution_count": 18,
     "metadata": {},
     "output_type": "execute_result"
    }
   ],
   "source": [
    "samp = Xval.sample(10).index.values.tolist()\n",
    "samp"
   ]
  },
  {
   "cell_type": "code",
   "execution_count": 19,
   "id": "19a00554-7ba0-4563-bd99-e9190d34e039",
   "metadata": {},
   "outputs": [
    {
     "data": {
      "text/html": [
       "<div>\n",
       "<style scoped>\n",
       "    .dataframe tbody tr th:only-of-type {\n",
       "        vertical-align: middle;\n",
       "    }\n",
       "\n",
       "    .dataframe tbody tr th {\n",
       "        vertical-align: top;\n",
       "    }\n",
       "\n",
       "    .dataframe thead th {\n",
       "        text-align: right;\n",
       "    }\n",
       "</style>\n",
       "<table border=\"1\" class=\"dataframe\">\n",
       "  <thead>\n",
       "    <tr style=\"text-align: right;\">\n",
       "      <th></th>\n",
       "      <th>fixed acidity</th>\n",
       "      <th>volatile acidity</th>\n",
       "      <th>citric acid</th>\n",
       "      <th>residual sugar</th>\n",
       "      <th>chlorides</th>\n",
       "      <th>free sulfur dioxide</th>\n",
       "      <th>total sulfur dioxide</th>\n",
       "      <th>density</th>\n",
       "      <th>pH</th>\n",
       "      <th>sulphates</th>\n",
       "      <th>alcohol</th>\n",
       "      <th>quality</th>\n",
       "    </tr>\n",
       "  </thead>\n",
       "  <tbody>\n",
       "    <tr>\n",
       "      <th>625</th>\n",
       "      <td>7.6</td>\n",
       "      <td>0.420</td>\n",
       "      <td>0.08</td>\n",
       "      <td>2.7</td>\n",
       "      <td>0.084</td>\n",
       "      <td>15.0</td>\n",
       "      <td>48.0</td>\n",
       "      <td>0.9968</td>\n",
       "      <td>3.21</td>\n",
       "      <td>0.59</td>\n",
       "      <td>10.0</td>\n",
       "      <td>0</td>\n",
       "    </tr>\n",
       "    <tr>\n",
       "      <th>1080</th>\n",
       "      <td>6.9</td>\n",
       "      <td>0.410</td>\n",
       "      <td>0.31</td>\n",
       "      <td>2.0</td>\n",
       "      <td>0.079</td>\n",
       "      <td>21.0</td>\n",
       "      <td>51.0</td>\n",
       "      <td>0.9967</td>\n",
       "      <td>3.47</td>\n",
       "      <td>0.55</td>\n",
       "      <td>9.5</td>\n",
       "      <td>1</td>\n",
       "    </tr>\n",
       "    <tr>\n",
       "      <th>1243</th>\n",
       "      <td>7.3</td>\n",
       "      <td>0.480</td>\n",
       "      <td>0.32</td>\n",
       "      <td>2.1</td>\n",
       "      <td>0.062</td>\n",
       "      <td>31.0</td>\n",
       "      <td>54.0</td>\n",
       "      <td>0.9973</td>\n",
       "      <td>3.30</td>\n",
       "      <td>0.65</td>\n",
       "      <td>10.0</td>\n",
       "      <td>1</td>\n",
       "    </tr>\n",
       "    <tr>\n",
       "      <th>857</th>\n",
       "      <td>8.9</td>\n",
       "      <td>0.350</td>\n",
       "      <td>0.40</td>\n",
       "      <td>3.6</td>\n",
       "      <td>0.110</td>\n",
       "      <td>12.0</td>\n",
       "      <td>24.0</td>\n",
       "      <td>0.9955</td>\n",
       "      <td>3.23</td>\n",
       "      <td>0.70</td>\n",
       "      <td>12.0</td>\n",
       "      <td>1</td>\n",
       "    </tr>\n",
       "    <tr>\n",
       "      <th>476</th>\n",
       "      <td>10.6</td>\n",
       "      <td>0.310</td>\n",
       "      <td>0.49</td>\n",
       "      <td>2.5</td>\n",
       "      <td>0.067</td>\n",
       "      <td>6.0</td>\n",
       "      <td>21.0</td>\n",
       "      <td>0.9987</td>\n",
       "      <td>3.26</td>\n",
       "      <td>0.86</td>\n",
       "      <td>10.7</td>\n",
       "      <td>1</td>\n",
       "    </tr>\n",
       "    <tr>\n",
       "      <th>1341</th>\n",
       "      <td>6.2</td>\n",
       "      <td>0.560</td>\n",
       "      <td>0.09</td>\n",
       "      <td>1.7</td>\n",
       "      <td>0.053</td>\n",
       "      <td>24.0</td>\n",
       "      <td>32.0</td>\n",
       "      <td>0.9940</td>\n",
       "      <td>3.54</td>\n",
       "      <td>0.60</td>\n",
       "      <td>11.3</td>\n",
       "      <td>0</td>\n",
       "    </tr>\n",
       "    <tr>\n",
       "      <th>190</th>\n",
       "      <td>7.8</td>\n",
       "      <td>0.735</td>\n",
       "      <td>0.08</td>\n",
       "      <td>2.4</td>\n",
       "      <td>0.092</td>\n",
       "      <td>10.0</td>\n",
       "      <td>41.0</td>\n",
       "      <td>0.9974</td>\n",
       "      <td>3.24</td>\n",
       "      <td>0.71</td>\n",
       "      <td>9.8</td>\n",
       "      <td>1</td>\n",
       "    </tr>\n",
       "    <tr>\n",
       "      <th>377</th>\n",
       "      <td>11.9</td>\n",
       "      <td>0.370</td>\n",
       "      <td>0.69</td>\n",
       "      <td>2.3</td>\n",
       "      <td>0.078</td>\n",
       "      <td>12.0</td>\n",
       "      <td>24.0</td>\n",
       "      <td>0.9958</td>\n",
       "      <td>3.00</td>\n",
       "      <td>0.65</td>\n",
       "      <td>12.8</td>\n",
       "      <td>1</td>\n",
       "    </tr>\n",
       "    <tr>\n",
       "      <th>905</th>\n",
       "      <td>10.2</td>\n",
       "      <td>0.290</td>\n",
       "      <td>0.65</td>\n",
       "      <td>2.4</td>\n",
       "      <td>0.075</td>\n",
       "      <td>6.0</td>\n",
       "      <td>17.0</td>\n",
       "      <td>0.9957</td>\n",
       "      <td>3.22</td>\n",
       "      <td>0.63</td>\n",
       "      <td>11.8</td>\n",
       "      <td>1</td>\n",
       "    </tr>\n",
       "    <tr>\n",
       "      <th>1063</th>\n",
       "      <td>6.9</td>\n",
       "      <td>0.410</td>\n",
       "      <td>0.33</td>\n",
       "      <td>2.2</td>\n",
       "      <td>0.081</td>\n",
       "      <td>22.0</td>\n",
       "      <td>36.0</td>\n",
       "      <td>0.9949</td>\n",
       "      <td>3.41</td>\n",
       "      <td>0.75</td>\n",
       "      <td>11.1</td>\n",
       "      <td>1</td>\n",
       "    </tr>\n",
       "  </tbody>\n",
       "</table>\n",
       "</div>"
      ],
      "text/plain": [
       "      fixed acidity  volatile acidity  citric acid  residual sugar  chlorides  \\\n",
       "625             7.6             0.420         0.08             2.7      0.084   \n",
       "1080            6.9             0.410         0.31             2.0      0.079   \n",
       "1243            7.3             0.480         0.32             2.1      0.062   \n",
       "857             8.9             0.350         0.40             3.6      0.110   \n",
       "476            10.6             0.310         0.49             2.5      0.067   \n",
       "1341            6.2             0.560         0.09             1.7      0.053   \n",
       "190             7.8             0.735         0.08             2.4      0.092   \n",
       "377            11.9             0.370         0.69             2.3      0.078   \n",
       "905            10.2             0.290         0.65             2.4      0.075   \n",
       "1063            6.9             0.410         0.33             2.2      0.081   \n",
       "\n",
       "      free sulfur dioxide  total sulfur dioxide  density    pH  sulphates  \\\n",
       "625                  15.0                  48.0   0.9968  3.21       0.59   \n",
       "1080                 21.0                  51.0   0.9967  3.47       0.55   \n",
       "1243                 31.0                  54.0   0.9973  3.30       0.65   \n",
       "857                  12.0                  24.0   0.9955  3.23       0.70   \n",
       "476                   6.0                  21.0   0.9987  3.26       0.86   \n",
       "1341                 24.0                  32.0   0.9940  3.54       0.60   \n",
       "190                  10.0                  41.0   0.9974  3.24       0.71   \n",
       "377                  12.0                  24.0   0.9958  3.00       0.65   \n",
       "905                   6.0                  17.0   0.9957  3.22       0.63   \n",
       "1063                 22.0                  36.0   0.9949  3.41       0.75   \n",
       "\n",
       "      alcohol quality  \n",
       "625      10.0       0  \n",
       "1080      9.5       1  \n",
       "1243     10.0       1  \n",
       "857      12.0       1  \n",
       "476      10.7       1  \n",
       "1341     11.3       0  \n",
       "190       9.8       1  \n",
       "377      12.8       1  \n",
       "905      11.8       1  \n",
       "1063     11.1       1  "
      ]
     },
     "execution_count": 19,
     "metadata": {},
     "output_type": "execute_result"
    }
   ],
   "source": [
    "val_df = pd.concat([Xval.loc[samp],yval.loc[samp]],axis=1)\n",
    "val_df.head(10)"
   ]
  },
  {
   "cell_type": "markdown",
   "id": "aa4d9217-7e27-4154-8d90-87302a77344d",
   "metadata": {},
   "source": [
    "### 8.2 Prediction on Validation Data"
   ]
  },
  {
   "cell_type": "code",
   "execution_count": 20,
   "id": "d5d657fd-91da-46e2-a368-f0907a60db41",
   "metadata": {
    "tags": []
   },
   "outputs": [
    {
     "name": "stdout",
     "output_type": "stream",
     "text": [
      "Test Data with Index : 625 is Selected for Prediction: \n",
      "\n",
      "\"fixed acidity\" ---:--- 7.6\n",
      "\"volatile acidity\" ---:--- 0.42\n",
      "\"citric acid\" ---:--- 0.08\n",
      "\"residual sugar\" ---:--- 2.7\n",
      "\"chlorides\" ---:--- 0.084\n",
      "\"free sulfur dioxide\" ---:--- 15.0\n",
      "\"total sulfur dioxide\" ---:--- 48.0\n",
      "\"density\" ---:--- 0.9968\n",
      "\"pH\" ---:--- 3.21\n",
      "\"sulphates\" ---:--- 0.59\n",
      "\"alcohol\" ---:--- 10.0\n"
     ]
    }
   ],
   "source": [
    "#inp_data = (13.7,0.415,0.68,2.9,0.085,17.0,43.0,1.0014,3.06,0.80,10.0)\n",
    "#inp_data = np.array(inp_data).reshape(1,-1)\n",
    "\n",
    "idx = val_df.sample().index.values\n",
    "inp_data = Xval.loc[idx].values \n",
    "\n",
    "print(f'Test Data with Index : {idx[0]} is Selected for Prediction: \\n')\n",
    "\n",
    "for fea_name, fea_val in zip(Xval.columns.tolist(), inp_data[0]):\n",
    "    print(f'\"{fea_name}\" ---:--- {fea_val}')"
   ]
  },
  {
   "cell_type": "code",
   "execution_count": 21,
   "id": "bb84cb8a-b716-4b67-a172-bc548b7a69a3",
   "metadata": {
    "tags": []
   },
   "outputs": [
    {
     "name": "stdout",
     "output_type": "stream",
     "text": [
      "------------- Prediction for Validation Data with Index : 625 --------------------\n",
      "\n",
      "Actual Wine Quality for the Selected Data : 0 \n",
      "\n",
      "Predicted Wine Quality : 0 (Low Quality Wine)\n"
     ]
    }
   ],
   "source": [
    "print(f'------------- Prediction for Validation Data with Index : {idx[0]} --------------------\\n')\n",
    "\n",
    "print(f'Actual Wine Quality for the Selected Data : {yval[idx[0]]} \\n')\n",
    "\n",
    "pipe = load(open('wine_quality_mdl_fe_hyper.pkl','rb'))\n",
    "pred = pipe.predict(inp_data)\n",
    "\n",
    "if (pred[0] == 1):\n",
    "    print(f'Predicted Wine Quality : {pred[0]} (High Quality Wine)')\n",
    "else:\n",
    "    print(f'Predicted Wine Quality : {pred[0]} (Low Quality Wine)')"
   ]
  },
  {
   "cell_type": "code",
   "execution_count": null,
   "id": "21d4c222-e30c-4eaa-b05b-619ccd2e7d22",
   "metadata": {},
   "outputs": [],
   "source": []
  }
 ],
 "metadata": {
  "kernelspec": {
   "display_name": "Python 3 (ipykernel)",
   "language": "python",
   "name": "python3"
  },
  "language_info": {
   "codemirror_mode": {
    "name": "ipython",
    "version": 3
   },
   "file_extension": ".py",
   "mimetype": "text/x-python",
   "name": "python",
   "nbconvert_exporter": "python",
   "pygments_lexer": "ipython3",
   "version": "3.12.8"
  }
 },
 "nbformat": 4,
 "nbformat_minor": 5
}
