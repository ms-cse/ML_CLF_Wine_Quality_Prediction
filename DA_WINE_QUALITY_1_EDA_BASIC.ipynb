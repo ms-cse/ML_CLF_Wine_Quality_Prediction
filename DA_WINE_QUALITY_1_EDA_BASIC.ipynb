{
 "cells": [
  {
   "cell_type": "markdown",
   "id": "ffff472f-5c43-4055-bf3e-0a46b076c6b8",
   "metadata": {},
   "source": [
    "# BASIC EDA - {\"RED WINE QUALITY\" DATASET} "
   ]
  },
  {
   "cell_type": "markdown",
   "id": "80eb321a-891e-4e06-b059-16adabdcd094",
   "metadata": {},
   "source": [
    "## 1. Import Modules and Configuration Settings"
   ]
  },
  {
   "cell_type": "code",
   "execution_count": 1,
   "id": "1ee589eb-3303-4edb-bea4-be4291cb7c96",
   "metadata": {},
   "outputs": [],
   "source": [
    "import warnings\n",
    "warnings.filterwarnings('ignore')\n",
    "\n",
    "import numpy as np\n",
    "import pandas as pd"
   ]
  },
  {
   "cell_type": "code",
   "execution_count": 2,
   "id": "f4e179ea-7edd-4629-9d8d-94a81acc566d",
   "metadata": {},
   "outputs": [],
   "source": [
    "# PD Options\n",
    "\n",
    "pd.set_option('display.min_rows', 5)\n",
    "pd.set_option('display.max_rows', 25)\n",
    "pd.set_option('display.precision', 4)"
   ]
  },
  {
   "cell_type": "markdown",
   "id": "a29dba6a-830e-4d0f-acf8-1f5bd2d1c3ba",
   "metadata": {},
   "source": [
    "## 2. Import Dataset"
   ]
  },
  {
   "cell_type": "code",
   "execution_count": 3,
   "id": "4eba44df-5698-4719-af96-3e055155ed65",
   "metadata": {},
   "outputs": [],
   "source": [
    "data = pd.read_csv('winequality_red.csv')\n",
    "df = data.copy()"
   ]
  },
  {
   "cell_type": "markdown",
   "id": "1e69e2a2-6400-4c48-a354-d742879ccd92",
   "metadata": {},
   "source": [
    "## 3. Basic EDA"
   ]
  },
  {
   "cell_type": "markdown",
   "id": "d3016b26-5ea0-44da-be39-bad1500ec49d",
   "metadata": {},
   "source": [
    "### 3.1 Sample of the Dataset"
   ]
  },
  {
   "cell_type": "code",
   "execution_count": 4,
   "id": "a1730c37-5687-46fd-8cce-2b656bd00733",
   "metadata": {},
   "outputs": [
    {
     "data": {
      "text/html": [
       "<div>\n",
       "<style scoped>\n",
       "    .dataframe tbody tr th:only-of-type {\n",
       "        vertical-align: middle;\n",
       "    }\n",
       "\n",
       "    .dataframe tbody tr th {\n",
       "        vertical-align: top;\n",
       "    }\n",
       "\n",
       "    .dataframe thead th {\n",
       "        text-align: right;\n",
       "    }\n",
       "</style>\n",
       "<table border=\"1\" class=\"dataframe\">\n",
       "  <thead>\n",
       "    <tr style=\"text-align: right;\">\n",
       "      <th></th>\n",
       "      <th>fixed acidity</th>\n",
       "      <th>volatile acidity</th>\n",
       "      <th>citric acid</th>\n",
       "      <th>residual sugar</th>\n",
       "      <th>chlorides</th>\n",
       "      <th>free sulfur dioxide</th>\n",
       "      <th>total sulfur dioxide</th>\n",
       "      <th>density</th>\n",
       "      <th>pH</th>\n",
       "      <th>sulphates</th>\n",
       "      <th>alcohol</th>\n",
       "      <th>quality</th>\n",
       "    </tr>\n",
       "  </thead>\n",
       "  <tbody>\n",
       "    <tr>\n",
       "      <th>884</th>\n",
       "      <td>8.8</td>\n",
       "      <td>0.61</td>\n",
       "      <td>0.19</td>\n",
       "      <td>4.0</td>\n",
       "      <td>0.094</td>\n",
       "      <td>30.0</td>\n",
       "      <td>69.0</td>\n",
       "      <td>0.9979</td>\n",
       "      <td>3.22</td>\n",
       "      <td>0.50</td>\n",
       "      <td>10.0</td>\n",
       "      <td>6</td>\n",
       "    </tr>\n",
       "    <tr>\n",
       "      <th>1508</th>\n",
       "      <td>7.1</td>\n",
       "      <td>0.27</td>\n",
       "      <td>0.60</td>\n",
       "      <td>2.1</td>\n",
       "      <td>0.074</td>\n",
       "      <td>17.0</td>\n",
       "      <td>25.0</td>\n",
       "      <td>0.9981</td>\n",
       "      <td>3.38</td>\n",
       "      <td>0.72</td>\n",
       "      <td>10.6</td>\n",
       "      <td>6</td>\n",
       "    </tr>\n",
       "    <tr>\n",
       "      <th>451</th>\n",
       "      <td>8.4</td>\n",
       "      <td>0.37</td>\n",
       "      <td>0.53</td>\n",
       "      <td>1.8</td>\n",
       "      <td>0.413</td>\n",
       "      <td>9.0</td>\n",
       "      <td>26.0</td>\n",
       "      <td>0.9979</td>\n",
       "      <td>3.06</td>\n",
       "      <td>1.06</td>\n",
       "      <td>9.1</td>\n",
       "      <td>6</td>\n",
       "    </tr>\n",
       "    <tr>\n",
       "      <th>1134</th>\n",
       "      <td>8.5</td>\n",
       "      <td>0.28</td>\n",
       "      <td>0.35</td>\n",
       "      <td>1.7</td>\n",
       "      <td>0.061</td>\n",
       "      <td>6.0</td>\n",
       "      <td>15.0</td>\n",
       "      <td>0.9952</td>\n",
       "      <td>3.30</td>\n",
       "      <td>0.74</td>\n",
       "      <td>11.8</td>\n",
       "      <td>7</td>\n",
       "    </tr>\n",
       "    <tr>\n",
       "      <th>360</th>\n",
       "      <td>8.2</td>\n",
       "      <td>0.70</td>\n",
       "      <td>0.23</td>\n",
       "      <td>2.0</td>\n",
       "      <td>0.099</td>\n",
       "      <td>14.0</td>\n",
       "      <td>81.0</td>\n",
       "      <td>0.9973</td>\n",
       "      <td>3.19</td>\n",
       "      <td>0.70</td>\n",
       "      <td>9.4</td>\n",
       "      <td>5</td>\n",
       "    </tr>\n",
       "  </tbody>\n",
       "</table>\n",
       "</div>"
      ],
      "text/plain": [
       "      fixed acidity  volatile acidity  citric acid  residual sugar  chlorides  \\\n",
       "884             8.8              0.61         0.19             4.0      0.094   \n",
       "1508            7.1              0.27         0.60             2.1      0.074   \n",
       "451             8.4              0.37         0.53             1.8      0.413   \n",
       "1134            8.5              0.28         0.35             1.7      0.061   \n",
       "360             8.2              0.70         0.23             2.0      0.099   \n",
       "\n",
       "      free sulfur dioxide  total sulfur dioxide  density    pH  sulphates  \\\n",
       "884                  30.0                  69.0   0.9979  3.22       0.50   \n",
       "1508                 17.0                  25.0   0.9981  3.38       0.72   \n",
       "451                   9.0                  26.0   0.9979  3.06       1.06   \n",
       "1134                  6.0                  15.0   0.9952  3.30       0.74   \n",
       "360                  14.0                  81.0   0.9973  3.19       0.70   \n",
       "\n",
       "      alcohol  quality  \n",
       "884      10.0        6  \n",
       "1508     10.6        6  \n",
       "451       9.1        6  \n",
       "1134     11.8        7  \n",
       "360       9.4        5  "
      ]
     },
     "execution_count": 4,
     "metadata": {},
     "output_type": "execute_result"
    }
   ],
   "source": [
    "df.sample(5)"
   ]
  },
  {
   "cell_type": "markdown",
   "id": "e4bd81aa-aef6-4a3a-99bd-93d62c4ccf3a",
   "metadata": {},
   "source": [
    "### 3.2 Shape of the Dataset"
   ]
  },
  {
   "cell_type": "code",
   "execution_count": 5,
   "id": "32b769d3-634b-4c84-b502-7a7c4e5c7ab7",
   "metadata": {},
   "outputs": [
    {
     "name": "stdout",
     "output_type": "stream",
     "text": [
      "No. of Observations (rows) : 1599\n",
      "No. of Features (columns)  : 12\n"
     ]
    }
   ],
   "source": [
    "print(f'No. of Observations (rows) : {df.shape[0]}')\n",
    "print(f'No. of Features (columns)  : {df.shape[1]}')"
   ]
  },
  {
   "cell_type": "markdown",
   "id": "2855e902-5f7d-4388-886b-17b16226253b",
   "metadata": {},
   "source": [
    "### 3.3 Dataset Information"
   ]
  },
  {
   "cell_type": "code",
   "execution_count": 6,
   "id": "d955ce84-9cbc-4947-9b09-d07ab2405e41",
   "metadata": {},
   "outputs": [
    {
     "name": "stdout",
     "output_type": "stream",
     "text": [
      "<class 'pandas.core.frame.DataFrame'>\n",
      "RangeIndex: 1599 entries, 0 to 1598\n",
      "Data columns (total 12 columns):\n",
      " #   Column                Non-Null Count  Dtype  \n",
      "---  ------                --------------  -----  \n",
      " 0   fixed acidity         1599 non-null   float64\n",
      " 1   volatile acidity      1599 non-null   float64\n",
      " 2   citric acid           1599 non-null   float64\n",
      " 3   residual sugar        1599 non-null   float64\n",
      " 4   chlorides             1599 non-null   float64\n",
      " 5   free sulfur dioxide   1599 non-null   float64\n",
      " 6   total sulfur dioxide  1599 non-null   float64\n",
      " 7   density               1599 non-null   float64\n",
      " 8   pH                    1599 non-null   float64\n",
      " 9   sulphates             1599 non-null   float64\n",
      " 10  alcohol               1599 non-null   float64\n",
      " 11  quality               1599 non-null   int64  \n",
      "dtypes: float64(11), int64(1)\n",
      "memory usage: 150.0 KB\n"
     ]
    }
   ],
   "source": [
    "df.info()"
   ]
  },
  {
   "cell_type": "markdown",
   "id": "ce1a2e48-5618-4861-90c7-db1789714e39",
   "metadata": {},
   "source": [
    "### 3.4 Checking Any Missing Values in the Dataset"
   ]
  },
  {
   "cell_type": "code",
   "execution_count": 7,
   "id": "3b4a8f76-4822-4ce6-94e0-11cf1f1ddb3f",
   "metadata": {},
   "outputs": [
    {
     "data": {
      "text/html": [
       "<div>\n",
       "<style scoped>\n",
       "    .dataframe tbody tr th:only-of-type {\n",
       "        vertical-align: middle;\n",
       "    }\n",
       "\n",
       "    .dataframe tbody tr th {\n",
       "        vertical-align: top;\n",
       "    }\n",
       "\n",
       "    .dataframe thead th {\n",
       "        text-align: right;\n",
       "    }\n",
       "</style>\n",
       "<table border=\"1\" class=\"dataframe\">\n",
       "  <thead>\n",
       "    <tr style=\"text-align: right;\">\n",
       "      <th></th>\n",
       "      <th>Features</th>\n",
       "      <th>Missing Count</th>\n",
       "      <th>Missing PCT</th>\n",
       "    </tr>\n",
       "  </thead>\n",
       "  <tbody>\n",
       "    <tr>\n",
       "      <th>0</th>\n",
       "      <td>fixed acidity</td>\n",
       "      <td>0</td>\n",
       "      <td>0.0</td>\n",
       "    </tr>\n",
       "    <tr>\n",
       "      <th>1</th>\n",
       "      <td>volatile acidity</td>\n",
       "      <td>0</td>\n",
       "      <td>0.0</td>\n",
       "    </tr>\n",
       "    <tr>\n",
       "      <th>2</th>\n",
       "      <td>citric acid</td>\n",
       "      <td>0</td>\n",
       "      <td>0.0</td>\n",
       "    </tr>\n",
       "    <tr>\n",
       "      <th>3</th>\n",
       "      <td>residual sugar</td>\n",
       "      <td>0</td>\n",
       "      <td>0.0</td>\n",
       "    </tr>\n",
       "    <tr>\n",
       "      <th>4</th>\n",
       "      <td>chlorides</td>\n",
       "      <td>0</td>\n",
       "      <td>0.0</td>\n",
       "    </tr>\n",
       "    <tr>\n",
       "      <th>5</th>\n",
       "      <td>free sulfur dioxide</td>\n",
       "      <td>0</td>\n",
       "      <td>0.0</td>\n",
       "    </tr>\n",
       "    <tr>\n",
       "      <th>6</th>\n",
       "      <td>total sulfur dioxide</td>\n",
       "      <td>0</td>\n",
       "      <td>0.0</td>\n",
       "    </tr>\n",
       "    <tr>\n",
       "      <th>7</th>\n",
       "      <td>density</td>\n",
       "      <td>0</td>\n",
       "      <td>0.0</td>\n",
       "    </tr>\n",
       "    <tr>\n",
       "      <th>8</th>\n",
       "      <td>pH</td>\n",
       "      <td>0</td>\n",
       "      <td>0.0</td>\n",
       "    </tr>\n",
       "    <tr>\n",
       "      <th>9</th>\n",
       "      <td>sulphates</td>\n",
       "      <td>0</td>\n",
       "      <td>0.0</td>\n",
       "    </tr>\n",
       "    <tr>\n",
       "      <th>10</th>\n",
       "      <td>alcohol</td>\n",
       "      <td>0</td>\n",
       "      <td>0.0</td>\n",
       "    </tr>\n",
       "    <tr>\n",
       "      <th>11</th>\n",
       "      <td>quality</td>\n",
       "      <td>0</td>\n",
       "      <td>0.0</td>\n",
       "    </tr>\n",
       "  </tbody>\n",
       "</table>\n",
       "</div>"
      ],
      "text/plain": [
       "                Features  Missing Count  Missing PCT\n",
       "0          fixed acidity              0          0.0\n",
       "1       volatile acidity              0          0.0\n",
       "2            citric acid              0          0.0\n",
       "3         residual sugar              0          0.0\n",
       "4              chlorides              0          0.0\n",
       "5    free sulfur dioxide              0          0.0\n",
       "6   total sulfur dioxide              0          0.0\n",
       "7                density              0          0.0\n",
       "8                     pH              0          0.0\n",
       "9              sulphates              0          0.0\n",
       "10               alcohol              0          0.0\n",
       "11               quality              0          0.0"
      ]
     },
     "execution_count": 7,
     "metadata": {},
     "output_type": "execute_result"
    }
   ],
   "source": [
    "miss_cnt = df.isna().sum().reset_index().rename(columns={'index':'Features', 0:'Missing Count'})\n",
    "miss_cnt['Missing PCT'] = miss_cnt['Missing Count'].apply(lambda x: (x/df.shape[0])*100)\n",
    "miss_cnt"
   ]
  },
  {
   "cell_type": "markdown",
   "id": "a70748cb-e7af-4720-9e05-de69ff842cd0",
   "metadata": {},
   "source": [
    "### 3.5 Checking Unique Values for Individual Features"
   ]
  },
  {
   "cell_type": "code",
   "execution_count": 8,
   "id": "68e6e952-7d19-4e61-bd53-dba3935b27e3",
   "metadata": {
    "tags": []
   },
   "outputs": [
    {
     "data": {
      "text/html": [
       "<div>\n",
       "<style scoped>\n",
       "    .dataframe tbody tr th:only-of-type {\n",
       "        vertical-align: middle;\n",
       "    }\n",
       "\n",
       "    .dataframe tbody tr th {\n",
       "        vertical-align: top;\n",
       "    }\n",
       "\n",
       "    .dataframe thead th {\n",
       "        text-align: right;\n",
       "    }\n",
       "</style>\n",
       "<table border=\"1\" class=\"dataframe\">\n",
       "  <thead>\n",
       "    <tr style=\"text-align: right;\">\n",
       "      <th></th>\n",
       "      <th>Features</th>\n",
       "      <th>Unique Values</th>\n",
       "      <th>Unique Values PCT</th>\n",
       "    </tr>\n",
       "  </thead>\n",
       "  <tbody>\n",
       "    <tr>\n",
       "      <th>0</th>\n",
       "      <td>fixed acidity</td>\n",
       "      <td>96</td>\n",
       "      <td>6.0038</td>\n",
       "    </tr>\n",
       "    <tr>\n",
       "      <th>1</th>\n",
       "      <td>volatile acidity</td>\n",
       "      <td>143</td>\n",
       "      <td>8.9431</td>\n",
       "    </tr>\n",
       "    <tr>\n",
       "      <th>2</th>\n",
       "      <td>citric acid</td>\n",
       "      <td>80</td>\n",
       "      <td>5.0031</td>\n",
       "    </tr>\n",
       "    <tr>\n",
       "      <th>3</th>\n",
       "      <td>residual sugar</td>\n",
       "      <td>91</td>\n",
       "      <td>5.6911</td>\n",
       "    </tr>\n",
       "    <tr>\n",
       "      <th>4</th>\n",
       "      <td>chlorides</td>\n",
       "      <td>153</td>\n",
       "      <td>9.5685</td>\n",
       "    </tr>\n",
       "    <tr>\n",
       "      <th>5</th>\n",
       "      <td>free sulfur dioxide</td>\n",
       "      <td>60</td>\n",
       "      <td>3.7523</td>\n",
       "    </tr>\n",
       "    <tr>\n",
       "      <th>6</th>\n",
       "      <td>total sulfur dioxide</td>\n",
       "      <td>144</td>\n",
       "      <td>9.0056</td>\n",
       "    </tr>\n",
       "    <tr>\n",
       "      <th>7</th>\n",
       "      <td>density</td>\n",
       "      <td>436</td>\n",
       "      <td>27.2670</td>\n",
       "    </tr>\n",
       "    <tr>\n",
       "      <th>8</th>\n",
       "      <td>pH</td>\n",
       "      <td>89</td>\n",
       "      <td>5.5660</td>\n",
       "    </tr>\n",
       "    <tr>\n",
       "      <th>9</th>\n",
       "      <td>sulphates</td>\n",
       "      <td>96</td>\n",
       "      <td>6.0038</td>\n",
       "    </tr>\n",
       "    <tr>\n",
       "      <th>10</th>\n",
       "      <td>alcohol</td>\n",
       "      <td>65</td>\n",
       "      <td>4.0650</td>\n",
       "    </tr>\n",
       "    <tr>\n",
       "      <th>11</th>\n",
       "      <td>quality</td>\n",
       "      <td>6</td>\n",
       "      <td>0.3752</td>\n",
       "    </tr>\n",
       "  </tbody>\n",
       "</table>\n",
       "</div>"
      ],
      "text/plain": [
       "                Features  Unique Values  Unique Values PCT\n",
       "0          fixed acidity             96             6.0038\n",
       "1       volatile acidity            143             8.9431\n",
       "2            citric acid             80             5.0031\n",
       "3         residual sugar             91             5.6911\n",
       "4              chlorides            153             9.5685\n",
       "5    free sulfur dioxide             60             3.7523\n",
       "6   total sulfur dioxide            144             9.0056\n",
       "7                density            436            27.2670\n",
       "8                     pH             89             5.5660\n",
       "9              sulphates             96             6.0038\n",
       "10               alcohol             65             4.0650\n",
       "11               quality              6             0.3752"
      ]
     },
     "execution_count": 8,
     "metadata": {},
     "output_type": "execute_result"
    }
   ],
   "source": [
    "unq_cnt = df.nunique().reset_index().rename(columns={'index':'Features', 0:'Unique Values'})\n",
    "unq_cnt['Unique Values PCT'] = unq_cnt['Unique Values'].apply(lambda x: (x/df.shape[0])*100)\n",
    "unq_cnt"
   ]
  },
  {
   "cell_type": "markdown",
   "id": "e206f192-1b1e-4cfb-a785-641e97c66252",
   "metadata": {},
   "source": [
    "### 3.6 Checking Any Duplicate Records"
   ]
  },
  {
   "cell_type": "code",
   "execution_count": 9,
   "id": "b5eab8f8-c8a1-4270-8c5f-addadc8e4279",
   "metadata": {},
   "outputs": [
    {
     "name": "stdout",
     "output_type": "stream",
     "text": [
      "Total No. of Duplicated Observations in the Dataset : 240\n"
     ]
    }
   ],
   "source": [
    "print(f'Total No. of Duplicated Observations in the Dataset : {df.duplicated().sum()}')"
   ]
  },
  {
   "cell_type": "markdown",
   "id": "9dcced66-5ac4-4d10-9b3a-881e8d76bcc4",
   "metadata": {},
   "source": [
    "### 3.7 Generating Statistical Summary on Numerical Columns"
   ]
  },
  {
   "cell_type": "code",
   "execution_count": 10,
   "id": "a09922d4-74e6-475d-91ed-1f96d370ed3c",
   "metadata": {},
   "outputs": [
    {
     "data": {
      "text/html": [
       "<div>\n",
       "<style scoped>\n",
       "    .dataframe tbody tr th:only-of-type {\n",
       "        vertical-align: middle;\n",
       "    }\n",
       "\n",
       "    .dataframe tbody tr th {\n",
       "        vertical-align: top;\n",
       "    }\n",
       "\n",
       "    .dataframe thead th {\n",
       "        text-align: right;\n",
       "    }\n",
       "</style>\n",
       "<table border=\"1\" class=\"dataframe\">\n",
       "  <thead>\n",
       "    <tr style=\"text-align: right;\">\n",
       "      <th></th>\n",
       "      <th>fixed acidity</th>\n",
       "      <th>volatile acidity</th>\n",
       "      <th>citric acid</th>\n",
       "      <th>residual sugar</th>\n",
       "      <th>chlorides</th>\n",
       "      <th>free sulfur dioxide</th>\n",
       "      <th>total sulfur dioxide</th>\n",
       "      <th>density</th>\n",
       "      <th>pH</th>\n",
       "      <th>sulphates</th>\n",
       "      <th>alcohol</th>\n",
       "      <th>quality</th>\n",
       "    </tr>\n",
       "  </thead>\n",
       "  <tbody>\n",
       "    <tr>\n",
       "      <th>count</th>\n",
       "      <td>1599.0000</td>\n",
       "      <td>1599.0000</td>\n",
       "      <td>1599.0000</td>\n",
       "      <td>1599.0000</td>\n",
       "      <td>1599.0000</td>\n",
       "      <td>1599.0000</td>\n",
       "      <td>1599.0000</td>\n",
       "      <td>1599.0000</td>\n",
       "      <td>1599.0000</td>\n",
       "      <td>1599.0000</td>\n",
       "      <td>1599.0000</td>\n",
       "      <td>1599.0000</td>\n",
       "    </tr>\n",
       "    <tr>\n",
       "      <th>mean</th>\n",
       "      <td>8.3196</td>\n",
       "      <td>0.5278</td>\n",
       "      <td>0.2710</td>\n",
       "      <td>2.5388</td>\n",
       "      <td>0.0875</td>\n",
       "      <td>15.8749</td>\n",
       "      <td>46.4678</td>\n",
       "      <td>0.9967</td>\n",
       "      <td>3.3111</td>\n",
       "      <td>0.6581</td>\n",
       "      <td>10.4230</td>\n",
       "      <td>5.6360</td>\n",
       "    </tr>\n",
       "    <tr>\n",
       "      <th>std</th>\n",
       "      <td>1.7411</td>\n",
       "      <td>0.1791</td>\n",
       "      <td>0.1948</td>\n",
       "      <td>1.4099</td>\n",
       "      <td>0.0471</td>\n",
       "      <td>10.4602</td>\n",
       "      <td>32.8953</td>\n",
       "      <td>0.0019</td>\n",
       "      <td>0.1544</td>\n",
       "      <td>0.1695</td>\n",
       "      <td>1.0657</td>\n",
       "      <td>0.8076</td>\n",
       "    </tr>\n",
       "    <tr>\n",
       "      <th>min</th>\n",
       "      <td>4.6000</td>\n",
       "      <td>0.1200</td>\n",
       "      <td>0.0000</td>\n",
       "      <td>0.9000</td>\n",
       "      <td>0.0120</td>\n",
       "      <td>1.0000</td>\n",
       "      <td>6.0000</td>\n",
       "      <td>0.9901</td>\n",
       "      <td>2.7400</td>\n",
       "      <td>0.3300</td>\n",
       "      <td>8.4000</td>\n",
       "      <td>3.0000</td>\n",
       "    </tr>\n",
       "    <tr>\n",
       "      <th>25%</th>\n",
       "      <td>7.1000</td>\n",
       "      <td>0.3900</td>\n",
       "      <td>0.0900</td>\n",
       "      <td>1.9000</td>\n",
       "      <td>0.0700</td>\n",
       "      <td>7.0000</td>\n",
       "      <td>22.0000</td>\n",
       "      <td>0.9956</td>\n",
       "      <td>3.2100</td>\n",
       "      <td>0.5500</td>\n",
       "      <td>9.5000</td>\n",
       "      <td>5.0000</td>\n",
       "    </tr>\n",
       "    <tr>\n",
       "      <th>50%</th>\n",
       "      <td>7.9000</td>\n",
       "      <td>0.5200</td>\n",
       "      <td>0.2600</td>\n",
       "      <td>2.2000</td>\n",
       "      <td>0.0790</td>\n",
       "      <td>14.0000</td>\n",
       "      <td>38.0000</td>\n",
       "      <td>0.9968</td>\n",
       "      <td>3.3100</td>\n",
       "      <td>0.6200</td>\n",
       "      <td>10.2000</td>\n",
       "      <td>6.0000</td>\n",
       "    </tr>\n",
       "    <tr>\n",
       "      <th>75%</th>\n",
       "      <td>9.2000</td>\n",
       "      <td>0.6400</td>\n",
       "      <td>0.4200</td>\n",
       "      <td>2.6000</td>\n",
       "      <td>0.0900</td>\n",
       "      <td>21.0000</td>\n",
       "      <td>62.0000</td>\n",
       "      <td>0.9978</td>\n",
       "      <td>3.4000</td>\n",
       "      <td>0.7300</td>\n",
       "      <td>11.1000</td>\n",
       "      <td>6.0000</td>\n",
       "    </tr>\n",
       "    <tr>\n",
       "      <th>max</th>\n",
       "      <td>15.9000</td>\n",
       "      <td>1.5800</td>\n",
       "      <td>1.0000</td>\n",
       "      <td>15.5000</td>\n",
       "      <td>0.6110</td>\n",
       "      <td>72.0000</td>\n",
       "      <td>289.0000</td>\n",
       "      <td>1.0037</td>\n",
       "      <td>4.0100</td>\n",
       "      <td>2.0000</td>\n",
       "      <td>14.9000</td>\n",
       "      <td>8.0000</td>\n",
       "    </tr>\n",
       "  </tbody>\n",
       "</table>\n",
       "</div>"
      ],
      "text/plain": [
       "       fixed acidity  volatile acidity  citric acid  residual sugar  \\\n",
       "count      1599.0000         1599.0000    1599.0000       1599.0000   \n",
       "mean          8.3196            0.5278       0.2710          2.5388   \n",
       "std           1.7411            0.1791       0.1948          1.4099   \n",
       "min           4.6000            0.1200       0.0000          0.9000   \n",
       "25%           7.1000            0.3900       0.0900          1.9000   \n",
       "50%           7.9000            0.5200       0.2600          2.2000   \n",
       "75%           9.2000            0.6400       0.4200          2.6000   \n",
       "max          15.9000            1.5800       1.0000         15.5000   \n",
       "\n",
       "       chlorides  free sulfur dioxide  total sulfur dioxide    density  \\\n",
       "count  1599.0000            1599.0000             1599.0000  1599.0000   \n",
       "mean      0.0875              15.8749               46.4678     0.9967   \n",
       "std       0.0471              10.4602               32.8953     0.0019   \n",
       "min       0.0120               1.0000                6.0000     0.9901   \n",
       "25%       0.0700               7.0000               22.0000     0.9956   \n",
       "50%       0.0790              14.0000               38.0000     0.9968   \n",
       "75%       0.0900              21.0000               62.0000     0.9978   \n",
       "max       0.6110              72.0000              289.0000     1.0037   \n",
       "\n",
       "              pH  sulphates    alcohol    quality  \n",
       "count  1599.0000  1599.0000  1599.0000  1599.0000  \n",
       "mean      3.3111     0.6581    10.4230     5.6360  \n",
       "std       0.1544     0.1695     1.0657     0.8076  \n",
       "min       2.7400     0.3300     8.4000     3.0000  \n",
       "25%       3.2100     0.5500     9.5000     5.0000  \n",
       "50%       3.3100     0.6200    10.2000     6.0000  \n",
       "75%       3.4000     0.7300    11.1000     6.0000  \n",
       "max       4.0100     2.0000    14.9000     8.0000  "
      ]
     },
     "execution_count": 10,
     "metadata": {},
     "output_type": "execute_result"
    }
   ],
   "source": [
    "df.describe()"
   ]
  },
  {
   "cell_type": "markdown",
   "id": "ac464aa2-805d-4c0c-b072-eb87f59bb937",
   "metadata": {},
   "source": [
    "### 3.8 Features Specific to a Datatype"
   ]
  },
  {
   "cell_type": "code",
   "execution_count": 11,
   "id": "82d1983e-fa07-472f-90d7-3a133da33e14",
   "metadata": {
    "tags": []
   },
   "outputs": [
    {
     "name": "stdout",
     "output_type": "stream",
     "text": [
      "Number of Unique Data Types : 2\n",
      "Unique Data Types : [dtype('float64'), dtype('int64')]\n"
     ]
    }
   ],
   "source": [
    "print(f'Number of Unique Data Types : {df.dtypes.nunique()}')\n",
    "print(f'Unique Data Types : {df.dtypes.unique().tolist()}')"
   ]
  },
  {
   "cell_type": "code",
   "execution_count": 12,
   "id": "3b1827db-b6eb-4323-9746-8c8e08359dce",
   "metadata": {},
   "outputs": [
    {
     "name": "stdout",
     "output_type": "stream",
     "text": [
      "Float Type Features    : 11 \n",
      "['fixed acidity', 'volatile acidity', 'citric acid', 'residual sugar', 'chlorides', 'free sulfur dioxide', 'total sulfur dioxide', 'density', 'pH', 'sulphates', 'alcohol'] \n",
      "\n",
      "\n",
      "Integer Type Features  : 1 \n",
      "['quality']\n"
     ]
    }
   ],
   "source": [
    "fea_flo = df.select_dtypes(include='float64').columns.values.tolist()\n",
    "fea_int = df.select_dtypes(include='int64').columns.values.tolist()\n",
    "\n",
    "print(f'Float Type Features    : {len(fea_flo)} \\n{fea_flo} \\n\\n')\n",
    "print(f'Integer Type Features  : {len(fea_int)} \\n{fea_int}')"
   ]
  },
  {
   "cell_type": "code",
   "execution_count": null,
   "id": "7a16c76c-069f-47ed-ad24-87fa1a105af3",
   "metadata": {},
   "outputs": [],
   "source": []
  }
 ],
 "metadata": {
  "kernelspec": {
   "display_name": "Python 3 (ipykernel)",
   "language": "python",
   "name": "python3"
  },
  "language_info": {
   "codemirror_mode": {
    "name": "ipython",
    "version": 3
   },
   "file_extension": ".py",
   "mimetype": "text/x-python",
   "name": "python",
   "nbconvert_exporter": "python",
   "pygments_lexer": "ipython3",
   "version": "3.10.10"
  }
 },
 "nbformat": 4,
 "nbformat_minor": 5
}
