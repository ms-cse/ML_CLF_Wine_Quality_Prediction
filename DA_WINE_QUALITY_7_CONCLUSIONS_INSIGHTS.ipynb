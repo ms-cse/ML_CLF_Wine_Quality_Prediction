{
 "cells": [
  {
   "cell_type": "markdown",
   "id": "38a4ff0d-93a7-4d10-8806-11e6eae345c2",
   "metadata": {},
   "source": [
    "# CONCLUSIONS AND INSIGHTS - {\"RED WINE QUALITY\" DATASET}"
   ]
  },
  {
   "cell_type": "markdown",
   "id": "5683c1bb-e259-409e-8d8b-c17d9c5522a6",
   "metadata": {
    "tags": []
   },
   "source": [
    "## A. UNI-VARIATE EDA"
   ]
  },
  {
   "cell_type": "markdown",
   "id": "916e9edd-4be0-4e9e-a293-f248e4a3363f",
   "metadata": {
    "tags": [],
    "toc-hr-collapsed": true
   },
   "source": [
    "### a. 'float' type features"
   ]
  },
  {
   "cell_type": "markdown",
   "id": "3f8085c3-869a-44b6-a432-b4e987a11a71",
   "metadata": {},
   "source": [
    "#### 1. 'fixed acidity'\n",
    "\n",
    "##### - skew = 0.94 (moderately right/positively skewed) as between 0.5-1.\n",
    "##### - kurt = 1.13 (platykurtic/negative kurtosis) as below 3.\n",
    "\n",
    "##### - missing values = 0 = 0.0 %\n",
    "\n",
    "##### - outliers = 34 = 0+34 (lb+ub) = 2.93 %\n",
    "\n",
    "##### - more data points are available around (7-7.9, 8-8.9) of fixed acidity."
   ]
  },
  {
   "cell_type": "markdown",
   "id": "ace9473b-3dd4-4148-9f09-13bd6b94febb",
   "metadata": {},
   "source": [
    "#### 2. 'volatile acidity'\n",
    "\n",
    "##### - skew = 0.58 (moderately right/positively skewed) as between 0.5-1.\n",
    "##### - kurt = 0.42 (platykurtic/negative kurtosis) as below 3.\n",
    "\n",
    "##### - missing values = 0 = 0.0 %\n",
    "\n",
    "##### - outliers = 11 = 0+11 (lb+ub) = 0.9491 %\n",
    "\n",
    "##### - more data points are available around (0.3-0.39,0.4-0.49,0.5-0.59,0.6-0.69) of volatile acidity."
   ]
  },
  {
   "cell_type": "markdown",
   "id": "b943b8c2-22e5-49fd-aa43-aaa37159b559",
   "metadata": {},
   "source": [
    "#### 3. 'citric acid'\n",
    "\n",
    "##### - skew = 0.28 (slightly right/positively skewed) as between (0-0.5).\n",
    "##### - kurt = -0.79 (platykurtic/negative kurtosis) as below 3.\n",
    "\n",
    "##### - missing values = 0 = 0.0 %\n",
    "\n",
    "##### - outliers = 1 = 0+1 (lb+ub) = 0.0863 %\n",
    "\n",
    "##### - more data points are available around (0.00-0.54) of citric acid."
   ]
  },
  {
   "cell_type": "markdown",
   "id": "b738de06-82da-48d5-84d3-bb7ad8f7b95a",
   "metadata": {},
   "source": [
    "#### 4. 'residual sugar'\n",
    "\n",
    "##### - skew = 4.33 (extremely right/positively skewed) as above 1.\n",
    "##### - kurt = 27.13 (leptokurtic/positive kurtosis) as above 3.\n",
    "\n",
    "##### - missing values = 0 = 0.0 %\n",
    "\n",
    "##### - outliers = 107 = 0+107 (lb+ub) = 9.23%\n",
    "\n",
    "##### - more data points are available around (1-2.99) of residual sugar."
   ]
  },
  {
   "cell_type": "markdown",
   "id": "6e9219a2-0350-4969-8c85-8ded86a2c115",
   "metadata": {},
   "source": [
    "#### 5. 'chlorides'\n",
    "\n",
    "##### - skew = 5.52 (extremely right/positively skewed) as above 1.\n",
    "##### - kurt = 38.08 (leptokurtic/positive kurtosis) as above 3.\n",
    "\n",
    "##### - missing values = 0 = 0.0 %\n",
    "\n",
    "##### - outliers = 73 = 3+70 (lb+ub) = 6.29 %\n",
    "\n",
    "##### - more data points are available around (0.05-0.09) value of chlorides."
   ]
  },
  {
   "cell_type": "markdown",
   "id": "46cc879c-eeb0-4ea4-bede-09dcf5652056",
   "metadata": {},
   "source": [
    "#### 6. 'free sulfur dioxide'\n",
    "\n",
    "##### - skew = 1.24 (extremely right/positively skewed) as above 1.\n",
    "##### - kurt = 1.90 (platykurtic/negative kurtosis) as below 3.\n",
    "\n",
    "##### - missing values = 0 = 0.0 %\n",
    "\n",
    "##### - outliers = 24 = 0+24 (lb+ub) = 2.07 %\n",
    "\n",
    "##### - more data points are available around (5-24) value of free sulfur dioxide."
   ]
  },
  {
   "cell_type": "markdown",
   "id": "ccaac90e-4315-4592-b353-5e6ed26e1bd9",
   "metadata": {},
   "source": [
    "#### 7. 'total sulfur dioxide'\n",
    "\n",
    "##### - skew = 1.58 (extremely right/positively skewed) as above 1.\n",
    "##### - kurt = 4.49 (leptokurtic/positive kurtosis) as above 3.\n",
    "\n",
    "##### - missing values = 0 = 0.0 %\n",
    "\n",
    "##### - outliers = 38 = 0+38 (lb+ub) = 3.27 %\n",
    "\n",
    "##### - more data points are available around (0-59) value of total sulfur dioxide."
   ]
  },
  {
   "cell_type": "markdown",
   "id": "a25bdc90-bc03-47a8-abd1-305ae2cea78e",
   "metadata": {},
   "source": [
    "#### 8. 'density'\n",
    "\n",
    "##### - skew = 0.04 (slightly right/positively skewed) as between (0-0.5).\n",
    "##### - kurt = 0.95 (platykurtic/negative kurtosis) as below 3.\n",
    "\n",
    "##### - missing values = 0 = 0.0 %\n",
    "\n",
    "##### - outliers = 31 = 16+15 (lb+ub) = 2.67 %\n",
    "\n",
    "##### - more data points are available around (0.995-0.998) value of density."
   ]
  },
  {
   "cell_type": "markdown",
   "id": "94a20515-6bd2-4c76-99ef-4436f48a07b8",
   "metadata": {},
   "source": [
    "#### 9. 'pH'\n",
    "\n",
    "##### - skew = 0.26 (slightly right/positively skewed) as between (0-0.5).\n",
    "##### - kurt = 0.91 (platykurtic/negative kurtosis) as below 3.\n",
    "\n",
    "##### - missing values = 0 = 0.0 %\n",
    "\n",
    "##### - outliers = 19 = 6+13 (lb+ub) = 1.63 %\n",
    "\n",
    "##### - more data points are available around (3.1-3.49) value of pH."
   ]
  },
  {
   "cell_type": "markdown",
   "id": "5bd96982-8c0d-4ba8-82fc-695cad6a8b26",
   "metadata": {},
   "source": [
    "#### 10. 'sulphates'\n",
    "\n",
    "##### - skew = 2.28 (extremely right/positively skewed) as above 1.\n",
    "##### - kurt = 9.75 (leptokurtic/positive kurtosis) as above 3.\n",
    "\n",
    "##### - missing values = 0 = 0.0 %\n",
    "\n",
    "##### - outliers = 47 = 0+47 (lb+ub) = 4.05 %\n",
    "\n",
    "##### - more data points are available around (0.45-0.84) value of sulphates."
   ]
  },
  {
   "cell_type": "markdown",
   "id": "a0e7eb75-7f09-4848-94e4-16639b3b3cbd",
   "metadata": {},
   "source": [
    "#### 11. 'alcohol'\n",
    "\n",
    "##### - skew = 0.87 (moderately right/positively skewed) as between (0.5-1).\n",
    "##### - kurt = 0.20 (platykurtic/negative kurtosis) as below 3.\n",
    "\n",
    "##### - missing values = 0 = 0.0 %\n",
    "\n",
    "##### - outliers = 12 = 0+12 (lb+ub) = 1.03 %\n",
    "\n",
    "##### - more data points are available around (9.0-10.49) value of alcohol."
   ]
  },
  {
   "cell_type": "markdown",
   "id": "070beeef-b7ed-4fdf-9f6b-3cbc5dbbd5a1",
   "metadata": {
    "toc-hr-collapsed": true
   },
   "source": [
    "### b. 'category' type features"
   ]
  },
  {
   "cell_type": "markdown",
   "id": "1edd1dce-543e-45fd-b493-dfee046e6052",
   "metadata": {},
   "source": [
    "#### 1. 'quality' (target feature)\n",
    "#### - When considering 'quality' (target) as a categorical type feature, instead of integer type.\n",
    "##### - total  labels = 6 \n",
    "##### - labels = (3,4,5,6,7,8)\n",
    "##### - mode (for label 5) = (491)\n",
    "\n",
    "##### - missing values = 0 = 0.0 %"
   ]
  },
  {
   "cell_type": "markdown",
   "id": "de2f6c41-cad5-4c8c-a1ea-6e9e79705f70",
   "metadata": {},
   "source": [
    "## B. BI / MULTI-VARIATE EDA"
   ]
  },
  {
   "cell_type": "markdown",
   "id": "f29ac073-5e4f-4be0-ac15-478f634cdde1",
   "metadata": {
    "tags": [],
    "toc-hr-collapsed": true
   },
   "source": [
    "### a. Numerical-Numerical\n",
    "#### Correlation Range Interpretation:\n",
    "##### - (0.0-0.10) - very low/weak correlation\n",
    "##### - (0.11-0.40) - low/weak correlation\n",
    "##### - (0.41-0.80) - moderate correlation\n",
    "##### - (0.81-1.0) - high correlation"
   ]
  },
  {
   "cell_type": "markdown",
   "id": "538d7695-d6db-4582-a7c7-9c4a209cafdc",
   "metadata": {
    "toc-hr-collapsed": true
   },
   "source": [
    "#### 1. Correlation of other numerical columns w.r.t. target feature ('quality') as integer type.\n",
    "\n",
    "##### y {fixed acidity} - x {quality} : low positive correlation with a value of 0.135. With increase in fixed acidity, quality increases.\n",
    "\n",
    "##### y {volatile acidity} - x {quality} : moderate negative correlation with a value of -0.4014. With increase in volatile acidity, quality decreases.\n",
    "\n",
    "##### y {citric acid} - x {quality} : low positive correlation with a value of 0.2478. With increase in citric acid, quality increases.\n",
    "\n",
    "##### y {residual sugar} - x {quality} : very low positive correlation with a value of 0.0222. With increase in residual sugar, quality increases.\n",
    "\n",
    "##### y {chlorides} - x {quality} : low negative correlation with a value of -0.1276. With increase in chlorides, quality decreases.\n",
    "\n",
    "##### y {free sulfur dioxide} - x {quality} : very low negative correlation with a value of -0.0500. With increase in free sulfur dioxide, quality decreases.\n",
    "\n",
    "##### y {total sulfur dioxide} - x {quality} : low negative correlation with a value of -0.1695. With increase in total sulfur dioxide, quality decreases.\n",
    "\n",
    "##### y {density} - x {quality} : low negative correlation with a value of -0.1786. With increase in density, quality decreases.\n",
    "\n",
    "##### y {pH} - x {quality} : very low negative correlation with a value of -0.0684. With increase in pH, quality decreases.\n",
    "\n",
    "##### y {sulphates} - x {quality} : low positive correlation with a value of 0.2554. With increase in sulphates, quality increases.\n",
    "\n",
    "##### y {alcohol} - x {quality} : moderate positive correlation with a value of 0.4874. With increase in alcohol, quality increases."
   ]
  },
  {
   "cell_type": "markdown",
   "id": "dafc0fd6-1280-43b6-9455-977598b1bf8b",
   "metadata": {
    "tags": [],
    "toc-hr-collapsed": true
   },
   "source": [
    "### b. Categorical-Numerical\n",
    "#### - Considering wine qualities (3,4,5) as 'low' and (6,7,8) as 'high'\n",
    "#### - Exploration of numerical features w.r.t. target feature ('quality') as categorical type."
   ]
  },
  {
   "cell_type": "markdown",
   "id": "48b4cd07-1596-4a9b-82dd-d9738ea8dad3",
   "metadata": {
    "tags": []
   },
   "source": [
    "#### 1. y {fixed acidity} - x {quality}\n",
    "##### a) Oultiers for labels 4,5,6,7 above upper bound.\n",
    "##### b) Average value of 'fixed acidity' for high quality wines is little higher than low quality wines.\n",
    "\n",
    "\n",
    "#### 2.  y {volatile acidity} - x {quality}\n",
    "##### a) Oultiers for labels 5,6,7,8 above upper bound.\n",
    "##### b) Average value of 'volatile acidity' decreases with increasing wine qualities. i.e., negative correlation.\n",
    "\n",
    "\n",
    "#### 3.  y {citric acid} - x {quality}\n",
    "##### a) Oultiers for labels 3,4 above upper bound and for label 7 below lower bound.\n",
    "##### b) Average value of 'citric acid' increases with increasing wine qualities. i.e., positive correlation.\n",
    "\n",
    "\n",
    "#### 4.  y {residual sugar} - x {quality}\n",
    "##### a) Oultiers for labels 4,5,7,8 above upper bound and for label 6 on both lower and upper bounds.\n",
    "##### b) Average value of 'residual sugar' is near about same for different wine qualities.\n",
    "\n",
    "\n",
    "#### 5.  y {chlorides} - x {quality}\n",
    "##### a) Oultiers for labels 4 above upper bound and for label 5,6,7 on both lower and upper bounds.\n",
    "##### b) Average value of 'chlorides' decreases with increasing wine qualities. i.e., negative correlation.\n",
    "\n",
    "\n",
    "#### 6.  y {free sulfur dioxide} - x {quality}\n",
    "##### a) Oultiers for all labels above upper bound except label 3 (no outliers).\n",
    "##### b) Average value of 'free sulfur dioxide' increases with increasing wine quality from 3 to 5 (positive correlation) and then decreases with increasing wine qualities from 6 to 8 (negative correlation).\n",
    "##### c) The average value of 'free sulfur dioxide' is still higher for labels 6,7,8 in comparison to labels 3,4 except 5. So, higher quality wines have higher content of 'free sulfur dioxide'.\n",
    "\n",
    "\n",
    "#### 7.  y {total sulfur dioxide} - x {quality}\n",
    "##### a) Oultiers for label 4,6,7 above upper bound.\n",
    "##### b) Average value of 'total sulfur dioxide' increases with increasing wine quality from 3 to 5 (positive correlation) and then decreases with increasing wine qualities from 6 to 8 (negative correlation).\n",
    "##### c) The average value of 'total sulfur dioxide' is still higher for labels 6,7,8 in comparison to labels 3,4 except 5. So, higher quality wines have higher content of 'total sulfur dioxide'.\n",
    "\n",
    "\n",
    "#### 8.  y {density} - x {quality}\n",
    "##### a) Oultiers for labels 4 above upper bound and for label 5,6,7 on both lower and upper bounds.\n",
    "##### b) Average value of 'density' is near about same for different wine qualities.\n",
    "\n",
    "\n",
    "#### 9.  y {pH} - x {quality}\n",
    "##### a) Oultiers for labels 4,5,6,8 on both lower and upper bounds, and label 7 has on upper bound.\n",
    "##### b) Average value of 'pH' is little bit lower for labels 6,7,8 in comparison to 3,4,5 (negative correlation).\n",
    "\n",
    "\n",
    "#### 10.  y {sulphates} - x {quality}\n",
    "##### a) Oultiers for labels 3,4,5,6,7,8 above upper bound.\n",
    "##### b) Average value of 'sulphates' increases with increasing value of wine qualities (positive correlation).\n",
    "\n",
    "\n",
    "#### 11.  y {alcohol} - x {quality}\n",
    "##### a) Oultiers for labels 5,6 above upper bounds.\n",
    "##### b) Average value of 'alcohol' increases with increasing value of wine qualities (positive correlation)."
   ]
  },
  {
   "cell_type": "markdown",
   "id": "be126b89-9f83-4b5b-b70e-24b1dd330547",
   "metadata": {},
   "source": [
    "## C. Conclusions"
   ]
  },
  {
   "cell_type": "markdown",
   "id": "4107d284-844b-4614-8b94-b2839a7d914b",
   "metadata": {
    "toc-hr-collapsed": true
   },
   "source": [
    "### a. Uni-Variate EDA conclusions\n",
    "\n",
    "#### . Numerical Features\n",
    "##### - There are no missing values in any of the features.\n",
    "##### - More features have moderate to high skewed distribution i.e., features are not Normally Distributed.\n",
    "##### - Outliers vary in the range of (0.5-10) % for the features.\n",
    "\n",
    "#### . Categorical Features \n",
    "##### - 'quality' is considered as a categorical type feature, instead of integer type.\n",
    "##### - 'quality' has label '5' with mode value = 491, and no missing values."
   ]
  },
  {
   "cell_type": "markdown",
   "id": "c31a49b7-f90a-41dc-bd17-a94b0241af64",
   "metadata": {
    "tags": [],
    "toc-hr-collapsed": true
   },
   "source": [
    "### b. Bi/Multi Variate EDA conclusions\n",
    "\n",
    "#### . Numerical-Numerical\n",
    "##### -> 'quality' vs others\n",
    "###### - High : positive(), negative()\n",
    "###### - Moderate : positive(alcohol), negative(volatile acidity)\n",
    "###### - Low : positive(fixed acidity, citric acid, sulphates), negative(chlorides, total sulfur dioxide, density)\n",
    "###### - Very Low : positive(residual sugar), negative(free sulfur dioxide, pH)\n",
    "\n",
    "#### . Categorical-Numerical\n",
    "##### -> 'quality' vs others\n",
    "###### - Outliers for different labels of quality.\n",
    "###### - Features contributing for high quality wine are alcohol, sulphates, fixed acidity, citric acid, residual sugar.\n",
    "###### - Features contributing for low quality wine are pH, chlorides, volatile acidity, total sulfur dioxide, density, free sulfur dioxide."
   ]
  },
  {
   "cell_type": "code",
   "execution_count": null,
   "id": "098ae4a0-f7c4-4115-b9bb-2ffec4d62636",
   "metadata": {},
   "outputs": [],
   "source": []
  }
 ],
 "metadata": {
  "kernelspec": {
   "display_name": "Python 3 (ipykernel)",
   "language": "python",
   "name": "python3"
  },
  "language_info": {
   "codemirror_mode": {
    "name": "ipython",
    "version": 3
   },
   "file_extension": ".py",
   "mimetype": "text/x-python",
   "name": "python",
   "nbconvert_exporter": "python",
   "pygments_lexer": "ipython3",
   "version": "3.12.8"
  }
 },
 "nbformat": 4,
 "nbformat_minor": 5
}
