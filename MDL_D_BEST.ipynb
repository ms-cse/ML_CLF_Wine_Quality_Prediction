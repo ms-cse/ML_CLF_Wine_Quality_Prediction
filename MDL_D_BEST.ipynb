{
 "cells": [
  {
   "cell_type": "markdown",
   "id": "f6079c98-4e48-499e-894f-c50109507c87",
   "metadata": {
    "id": "f6079c98-4e48-499e-894f-c50109507c87"
   },
   "source": [
    "# ML CLASSIFICATION - {\"RED WINE QUALITY\" DATASET}"
   ]
  },
  {
   "cell_type": "markdown",
   "id": "a6709c06-804a-47d1-b0df-5aee8b18f5a3",
   "metadata": {
    "id": "a6709c06-804a-47d1-b0df-5aee8b18f5a3"
   },
   "source": [
    "## 1. Importing Modules and Setting Configurations"
   ]
  },
  {
   "cell_type": "code",
   "execution_count": 1,
   "id": "36db63e5-2d56-407a-b8c0-22812c099423",
   "metadata": {
    "id": "36db63e5-2d56-407a-b8c0-22812c099423",
    "tags": []
   },
   "outputs": [],
   "source": [
    "import numpy as np\n",
    "import pandas as pd\n",
    "\n",
    "import matplotlib.pyplot as plt\n",
    "import seaborn as sb\n",
    "\n",
    "from sklearn.preprocessing import PowerTransformer, StandardScaler\n",
    "from sklearn.compose import ColumnTransformer\n",
    "\n",
    "from sklearn.feature_selection import SelectKBest, mutual_info_classif\n",
    "\n",
    "from sklearn.linear_model import LogisticRegression\n",
    "from sklearn.neighbors import KNeighborsClassifier\n",
    "from sklearn.svm import SVC\n",
    "from sklearn.tree import DecisionTreeClassifier\n",
    "from sklearn.ensemble import BaggingClassifier\n",
    "from sklearn.ensemble import RandomForestClassifier\n",
    "from sklearn.ensemble import GradientBoostingClassifier\n",
    "from sklearn.ensemble import HistGradientBoostingClassifier\n",
    "from xgboost import XGBClassifier\n",
    "\n",
    "from sklearn.pipeline import Pipeline\n",
    "\n",
    "from sklearn.model_selection import StratifiedKFold, cross_val_score, cross_validate\n",
    "\n",
    "from sklearn.model_selection import GridSearchCV\n",
    "\n",
    "from sklearn.metrics import accuracy_score, confusion_matrix, classification_report\n",
    "\n",
    "from pickle import dump, load\n",
    "\n",
    "import warnings\n",
    "warnings.filterwarnings('ignore')\n",
    "\n",
    "from sklearn import set_config\n",
    "set_config(display='diagram')"
   ]
  },
  {
   "cell_type": "code",
   "execution_count": 2,
   "id": "b112b0e4-d8d7-439d-8a6c-b57e853f3a7e",
   "metadata": {
    "id": "b112b0e4-d8d7-439d-8a6c-b57e853f3a7e",
    "tags": []
   },
   "outputs": [],
   "source": [
    "# PD Options\n",
    "\n",
    "pd.set_option('display.min_rows', 5)\n",
    "pd.set_option('display.max_rows', 25)\n",
    "pd.set_option('display.precision', 4)\n",
    "\n",
    "# SB Options\n",
    "\n",
    "sb.set_theme(context='notebook', style='whitegrid', palette='pastel', font='times new roman', font_scale=1.25)"
   ]
  },
  {
   "cell_type": "markdown",
   "id": "5b60c742-f76a-4463-aff4-81be0075736f",
   "metadata": {
    "id": "5b60c742-f76a-4463-aff4-81be0075736f"
   },
   "source": [
    "## 2. Importing Train Dataset"
   ]
  },
  {
   "cell_type": "code",
   "execution_count": 3,
   "id": "9b662dfd-16ea-436c-b008-a31ae221d1a4",
   "metadata": {
    "colab": {
     "base_uri": "https://localhost:8080/",
     "height": 241
    },
    "id": "9b662dfd-16ea-436c-b008-a31ae221d1a4",
    "outputId": "bdf7fcbf-f014-4d0e-e83c-173f452d06bc",
    "tags": []
   },
   "outputs": [
    {
     "name": "stdout",
     "output_type": "stream",
     "text": [
      "Shape of the train dataset : (1230, 12)\n"
     ]
    },
    {
     "data": {
      "text/html": [
       "<div>\n",
       "<style scoped>\n",
       "    .dataframe tbody tr th:only-of-type {\n",
       "        vertical-align: middle;\n",
       "    }\n",
       "\n",
       "    .dataframe tbody tr th {\n",
       "        vertical-align: top;\n",
       "    }\n",
       "\n",
       "    .dataframe thead th {\n",
       "        text-align: right;\n",
       "    }\n",
       "</style>\n",
       "<table border=\"1\" class=\"dataframe\">\n",
       "  <thead>\n",
       "    <tr style=\"text-align: right;\">\n",
       "      <th></th>\n",
       "      <th>fixed acidity</th>\n",
       "      <th>volatile acidity</th>\n",
       "      <th>citric acid</th>\n",
       "      <th>residual sugar</th>\n",
       "      <th>chlorides</th>\n",
       "      <th>free sulfur dioxide</th>\n",
       "      <th>total sulfur dioxide</th>\n",
       "      <th>density</th>\n",
       "      <th>pH</th>\n",
       "      <th>sulphates</th>\n",
       "      <th>alcohol</th>\n",
       "      <th>quality</th>\n",
       "    </tr>\n",
       "  </thead>\n",
       "  <tbody>\n",
       "    <tr>\n",
       "      <th>0</th>\n",
       "      <td>6.5</td>\n",
       "      <td>0.510</td>\n",
       "      <td>0.15</td>\n",
       "      <td>3.0</td>\n",
       "      <td>0.064</td>\n",
       "      <td>12.0</td>\n",
       "      <td>27.0</td>\n",
       "      <td>0.9929</td>\n",
       "      <td>3.33</td>\n",
       "      <td>0.590</td>\n",
       "      <td>12.8</td>\n",
       "      <td>1</td>\n",
       "    </tr>\n",
       "    <tr>\n",
       "      <th>1</th>\n",
       "      <td>10.1</td>\n",
       "      <td>0.310</td>\n",
       "      <td>0.44</td>\n",
       "      <td>2.3</td>\n",
       "      <td>0.080</td>\n",
       "      <td>22.0</td>\n",
       "      <td>46.0</td>\n",
       "      <td>0.9988</td>\n",
       "      <td>3.32</td>\n",
       "      <td>0.670</td>\n",
       "      <td>9.7</td>\n",
       "      <td>1</td>\n",
       "    </tr>\n",
       "    <tr>\n",
       "      <th>2</th>\n",
       "      <td>10.5</td>\n",
       "      <td>0.510</td>\n",
       "      <td>0.64</td>\n",
       "      <td>2.4</td>\n",
       "      <td>0.107</td>\n",
       "      <td>6.0</td>\n",
       "      <td>15.0</td>\n",
       "      <td>0.9973</td>\n",
       "      <td>3.09</td>\n",
       "      <td>0.660</td>\n",
       "      <td>11.8</td>\n",
       "      <td>1</td>\n",
       "    </tr>\n",
       "    <tr>\n",
       "      <th>3</th>\n",
       "      <td>7.6</td>\n",
       "      <td>0.645</td>\n",
       "      <td>0.03</td>\n",
       "      <td>1.9</td>\n",
       "      <td>0.086</td>\n",
       "      <td>14.0</td>\n",
       "      <td>57.0</td>\n",
       "      <td>0.9969</td>\n",
       "      <td>3.37</td>\n",
       "      <td>0.460</td>\n",
       "      <td>10.3</td>\n",
       "      <td>0</td>\n",
       "    </tr>\n",
       "    <tr>\n",
       "      <th>4</th>\n",
       "      <td>10.7</td>\n",
       "      <td>0.670</td>\n",
       "      <td>0.22</td>\n",
       "      <td>2.7</td>\n",
       "      <td>0.107</td>\n",
       "      <td>17.0</td>\n",
       "      <td>34.0</td>\n",
       "      <td>1.0004</td>\n",
       "      <td>3.28</td>\n",
       "      <td>0.975</td>\n",
       "      <td>9.9</td>\n",
       "      <td>1</td>\n",
       "    </tr>\n",
       "  </tbody>\n",
       "</table>\n",
       "</div>"
      ],
      "text/plain": [
       "   fixed acidity  volatile acidity  citric acid  residual sugar  chlorides  \\\n",
       "0            6.5             0.510         0.15             3.0      0.064   \n",
       "1           10.1             0.310         0.44             2.3      0.080   \n",
       "2           10.5             0.510         0.64             2.4      0.107   \n",
       "3            7.6             0.645         0.03             1.9      0.086   \n",
       "4           10.7             0.670         0.22             2.7      0.107   \n",
       "\n",
       "   free sulfur dioxide  total sulfur dioxide  density    pH  sulphates  \\\n",
       "0                 12.0                  27.0   0.9929  3.33      0.590   \n",
       "1                 22.0                  46.0   0.9988  3.32      0.670   \n",
       "2                  6.0                  15.0   0.9973  3.09      0.660   \n",
       "3                 14.0                  57.0   0.9969  3.37      0.460   \n",
       "4                 17.0                  34.0   1.0004  3.28      0.975   \n",
       "\n",
       "   alcohol quality  \n",
       "0     12.8       1  \n",
       "1      9.7       1  \n",
       "2     11.8       1  \n",
       "3     10.3       0  \n",
       "4      9.9       1  "
      ]
     },
     "execution_count": 3,
     "metadata": {},
     "output_type": "execute_result"
    }
   ],
   "source": [
    "tr = pd.read_pickle('wine_quality_FE_final_train.pkl')\n",
    "\n",
    "print(f'Shape of the train dataset : {tr.shape}')\n",
    "tr.head(5)"
   ]
  },
  {
   "cell_type": "code",
   "execution_count": 4,
   "id": "f3aa1c1a-60c6-447e-beb8-7bb5989e050e",
   "metadata": {
    "id": "f3aa1c1a-60c6-447e-beb8-7bb5989e050e",
    "tags": []
   },
   "outputs": [],
   "source": [
    "Xtr = tr.drop(columns='quality')\n",
    "ytr = tr['quality']"
   ]
  },
  {
   "cell_type": "markdown",
   "id": "e239a446-33fd-4897-a8bd-12411415a5c5",
   "metadata": {
    "id": "e239a446-33fd-4897-a8bd-12411415a5c5"
   },
   "source": [
    "## 3. Comparing Performance of Hyper Parameter Tuned Models"
   ]
  },
  {
   "cell_type": "markdown",
   "id": "67942bf5-eba2-46e5-895f-bbe16a736895",
   "metadata": {
    "id": "67942bf5-eba2-46e5-895f-bbe16a736895"
   },
   "source": [
    "### 3.1 Dictionary of Models"
   ]
  },
  {
   "cell_type": "code",
   "execution_count": 5,
   "id": "522d2cfd-1664-4e45-9cae-ae7cf501629d",
   "metadata": {
    "colab": {
     "base_uri": "https://localhost:8080/"
    },
    "id": "522d2cfd-1664-4e45-9cae-ae7cf501629d",
    "outputId": "971028ba-7ad3-468c-f02e-a67baf86c6dc",
    "tags": []
   },
   "outputs": [
    {
     "name": "stdout",
     "output_type": "stream",
     "text": [
      "Models for Performance Comparison : \n",
      "\n",
      "Log_Reg : \n",
      " LogisticRegression(max_iter=50, random_state=46) \n",
      "\n",
      "KN_CLF : \n",
      " KNeighborsClassifier(algorithm='brute', metric='euclidean', n_neighbors=17,\n",
      "                     weights='distance') \n",
      "\n",
      "SV_CLF : \n",
      " SVC(C=0.1, degree=2, gamma='auto', random_state=46) \n",
      "\n",
      "DT_CLF : \n",
      " DecisionTreeClassifier(criterion='entropy', max_depth=5, min_samples_split=0.3,\n",
      "                       random_state=46, splitter='random') \n",
      "\n",
      "BAG_CLF : \n",
      " BaggingClassifier(estimator=DecisionTreeClassifier(), max_samples=0.5,\n",
      "                  n_estimators=200, oob_score=True, random_state=46) \n",
      "\n",
      "RF_CLF : \n",
      " RandomForestClassifier(criterion='entropy', max_depth=5, max_samples=0.5,\n",
      "                       n_estimators=200, oob_score=True, random_state=46) \n",
      "\n",
      "GB_CLF : \n",
      " GradientBoostingClassifier(learning_rate=0.01, max_depth=5, n_estimators=200,\n",
      "                           random_state=46, subsample=0.5) \n",
      "\n",
      "HGB_CLF : \n",
      " HistGradientBoostingClassifier(max_depth=5, max_iter=200, max_leaf_nodes=25,\n",
      "                               random_state=46) \n",
      "\n",
      "XGB_CLF : \n",
      " XGBClassifier(base_score=None, booster=None, callbacks=None,\n",
      "              colsample_bylevel=None, colsample_bynode=None,\n",
      "              colsample_bytree=None, device=None, early_stopping_rounds=None,\n",
      "              enable_categorical=False, eta=0.1, eval_metric='auc',\n",
      "              feature_types=None, gamma=0.01, grow_policy=None,\n",
      "              importance_type=None, interaction_constraints=None,\n",
      "              learning_rate=None, max_bin=None, max_cat_threshold=None,\n",
      "              max_cat_to_onehot=None, max_delta_step=None, max_depth=5,\n",
      "              max_leaves=None, min_child_weight=None, missing=nan,\n",
      "              monotone_constraints=None, multi_strategy=None, n_estimators=50,\n",
      "              n_jobs=None, num_parallel_tree=None, ...) \n",
      "\n"
     ]
    }
   ],
   "source": [
    "mdl_dict = {\n",
    "    'Log_Reg':LogisticRegression(C=1.0, max_iter=50, penalty='l2', solver='lbfgs', random_state=46),\n",
    "\n",
    "    'KN_CLF':KNeighborsClassifier(algorithm='brute', metric='euclidean', n_neighbors=17, weights='distance'),\n",
    "\n",
    "    'SV_CLF':SVC(C=0.1, degree=2, gamma='auto', kernel='rbf', random_state=46),\n",
    "\n",
    "    'DT_CLF':DecisionTreeClassifier(criterion='entropy', max_depth=5, min_impurity_decrease=0.0, min_samples_split=0.3, splitter='random', random_state=46),\n",
    "\n",
    "    'BAG_CLF':BaggingClassifier(bootstrap=True, estimator=DecisionTreeClassifier(), max_samples=0.5, n_estimators=200, oob_score=True, random_state=46),\n",
    "\n",
    "    'RF_CLF':RandomForestClassifier(bootstrap=True, criterion='entropy', max_depth=5, max_samples=0.5, n_estimators=200, oob_score=True, random_state=46),\n",
    "\n",
    "    'GB_CLF':GradientBoostingClassifier(learning_rate=0.01, max_depth=5, n_estimators=200, subsample=0.5, random_state=46),\n",
    "\n",
    "    'HGB_CLF':HistGradientBoostingClassifier(learning_rate=0.1, max_depth=5, max_iter=200, max_leaf_nodes=25, random_state=46),\n",
    "\n",
    "    'XGB_CLF':XGBClassifier(eta=0.1, gamma=0.01, max_depth=5, n_estimators=50, subsample=0.5, objective='binary:logistic',\n",
    "                            eval_metric='auc', seed=46)\n",
    "    }\n",
    "\n",
    "print(f'Models for Performance Comparison : \\n')\n",
    "for model_name, model in mdl_dict.items():\n",
    "    print(f'{model_name} : \\n {model} \\n')"
   ]
  },
  {
   "cell_type": "markdown",
   "id": "ac8d79d4-42f8-4024-902e-57cbb69e18e0",
   "metadata": {
    "id": "ac8d79d4-42f8-4024-902e-57cbb69e18e0"
   },
   "source": [
    "### 3.2 Calculating Model Preformance"
   ]
  },
  {
   "cell_type": "code",
   "execution_count": 6,
   "id": "47540fef-8815-4751-961c-8a48d0a711a5",
   "metadata": {
    "id": "47540fef-8815-4751-961c-8a48d0a711a5",
    "tags": []
   },
   "outputs": [],
   "source": [
    "# Pre Processors -------------------------------------------------------------------------------------------------------------\n",
    "ct_preproc = ColumnTransformer([\n",
    "    ('yj',PowerTransformer(method='yeo-johnson', standardize=False),slice(0,11)),\n",
    "    ('ss',StandardScaler(),slice(0,11))\n",
    "    ], remainder='passthrough')\n",
    "\n",
    "\n",
    "# Feature Selection -----------------------------------------------------------------------------------------------------------\n",
    "skb = SelectKBest(mutual_info_classif, k='all')\n",
    "\n",
    "\n",
    "# Function to calculate models performance using Pre-Processors, Feature Selection, and Estimators in the Pipeline -------------\n",
    "def mdl_scores(mod_name, mod):\n",
    "\n",
    "    output = []\n",
    "    output.append(mod_name)\n",
    "\n",
    "    #-----------------------------------------------------------------------------\n",
    "    steps = [('ct_preproc',ct_preproc),\n",
    "         ('skb',skb),\n",
    "         ('mdl',mod)]\n",
    "    pipe = Pipeline(steps)\n",
    "\n",
    "    #----------------------------------------------------------------------------\n",
    "    # K-fold cross-validation\n",
    "    kfold = StratifiedKFold(n_splits=10, shuffle=True, random_state=46)\n",
    "    scores = cross_val_score(pipe, Xtr, ytr, cv=kfold, scoring='accuracy')\n",
    "    output.append(scores.mean()*100)\n",
    "\n",
    "    #----------------------------------------------------------------------------\n",
    "    return output"
   ]
  },
  {
   "cell_type": "markdown",
   "id": "dd663c35-fb67-4ebf-8126-8a929b8af28f",
   "metadata": {
    "id": "dd663c35-fb67-4ebf-8126-8a929b8af28f"
   },
   "source": [
    "### 3.3 Comparing Model Performance"
   ]
  },
  {
   "cell_type": "code",
   "execution_count": 7,
   "id": "728f290d-673b-492c-a2c2-a74ab7a8404f",
   "metadata": {
    "colab": {
     "base_uri": "https://localhost:8080/",
     "height": 366
    },
    "id": "728f290d-673b-492c-a2c2-a74ab7a8404f",
    "outputId": "d9aefabc-6c08-4c1d-97b8-b12310814059",
    "tags": []
   },
   "outputs": [
    {
     "name": "stdout",
     "output_type": "stream",
     "text": [
      "Comparsion of Model Performance : \n",
      "\n"
     ]
    },
    {
     "data": {
      "text/html": [
       "<div>\n",
       "<style scoped>\n",
       "    .dataframe tbody tr th:only-of-type {\n",
       "        vertical-align: middle;\n",
       "    }\n",
       "\n",
       "    .dataframe tbody tr th {\n",
       "        vertical-align: top;\n",
       "    }\n",
       "\n",
       "    .dataframe thead th {\n",
       "        text-align: right;\n",
       "    }\n",
       "</style>\n",
       "<table border=\"1\" class=\"dataframe\">\n",
       "  <thead>\n",
       "    <tr style=\"text-align: right;\">\n",
       "      <th></th>\n",
       "      <th>Model</th>\n",
       "      <th>Acc_Score</th>\n",
       "    </tr>\n",
       "  </thead>\n",
       "  <tbody>\n",
       "    <tr>\n",
       "      <th>6</th>\n",
       "      <td>GB_CLF</td>\n",
       "      <td>77.2358</td>\n",
       "    </tr>\n",
       "    <tr>\n",
       "      <th>8</th>\n",
       "      <td>XGB_CLF</td>\n",
       "      <td>77.0732</td>\n",
       "    </tr>\n",
       "    <tr>\n",
       "      <th>5</th>\n",
       "      <td>RF_CLF</td>\n",
       "      <td>76.6667</td>\n",
       "    </tr>\n",
       "    <tr>\n",
       "      <th>4</th>\n",
       "      <td>BAG_CLF</td>\n",
       "      <td>76.5854</td>\n",
       "    </tr>\n",
       "    <tr>\n",
       "      <th>0</th>\n",
       "      <td>Log_Reg</td>\n",
       "      <td>76.2602</td>\n",
       "    </tr>\n",
       "    <tr>\n",
       "      <th>1</th>\n",
       "      <td>KN_CLF</td>\n",
       "      <td>76.1789</td>\n",
       "    </tr>\n",
       "    <tr>\n",
       "      <th>7</th>\n",
       "      <td>HGB_CLF</td>\n",
       "      <td>76.0163</td>\n",
       "    </tr>\n",
       "    <tr>\n",
       "      <th>2</th>\n",
       "      <td>SV_CLF</td>\n",
       "      <td>75.3659</td>\n",
       "    </tr>\n",
       "    <tr>\n",
       "      <th>3</th>\n",
       "      <td>DT_CLF</td>\n",
       "      <td>72.3577</td>\n",
       "    </tr>\n",
       "  </tbody>\n",
       "</table>\n",
       "</div>"
      ],
      "text/plain": [
       "     Model  Acc_Score\n",
       "6   GB_CLF    77.2358\n",
       "8  XGB_CLF    77.0732\n",
       "5   RF_CLF    76.6667\n",
       "4  BAG_CLF    76.5854\n",
       "0  Log_Reg    76.2602\n",
       "1   KN_CLF    76.1789\n",
       "7  HGB_CLF    76.0163\n",
       "2   SV_CLF    75.3659\n",
       "3   DT_CLF    72.3577"
      ]
     },
     "execution_count": 7,
     "metadata": {},
     "output_type": "execute_result"
    }
   ],
   "source": [
    "mdl_output = []\n",
    "\n",
    "for mdl_name,mdl in mdl_dict.items():\n",
    "    mdl_output.append(mdl_scores(mdl_name, mdl))\n",
    "\n",
    "mdl_perf = pd.DataFrame(mdl_output, columns=['Model','Acc_Score'])\n",
    "\n",
    "print(f'Comparsion of Model Performance : \\n')\n",
    "mdl_perf.sort_values(['Acc_Score'], ascending=False)"
   ]
  },
  {
   "cell_type": "markdown",
   "id": "bf6ea48b-d4aa-4aac-85bf-81cda4b7ee30",
   "metadata": {
    "id": "bf6ea48b-d4aa-4aac-85bf-81cda4b7ee30"
   },
   "source": [
    "## 4. Best Model With Hyper-Parameters Tuned"
   ]
  },
  {
   "cell_type": "code",
   "execution_count": 8,
   "id": "da444f60-95f0-40cf-83fb-a5d8013252c7",
   "metadata": {
    "colab": {
     "base_uri": "https://localhost:8080/",
     "height": 227
    },
    "id": "da444f60-95f0-40cf-83fb-a5d8013252c7",
    "outputId": "5cbdcc3b-def7-4255-a3a8-58ed41aaf438",
    "tags": []
   },
   "outputs": [
    {
     "data": {
      "text/html": [
       "<style>#sk-container-id-1 {color: black;background-color: white;}#sk-container-id-1 pre{padding: 0;}#sk-container-id-1 div.sk-toggleable {background-color: white;}#sk-container-id-1 label.sk-toggleable__label {cursor: pointer;display: block;width: 100%;margin-bottom: 0;padding: 0.3em;box-sizing: border-box;text-align: center;}#sk-container-id-1 label.sk-toggleable__label-arrow:before {content: \"▸\";float: left;margin-right: 0.25em;color: #696969;}#sk-container-id-1 label.sk-toggleable__label-arrow:hover:before {color: black;}#sk-container-id-1 div.sk-estimator:hover label.sk-toggleable__label-arrow:before {color: black;}#sk-container-id-1 div.sk-toggleable__content {max-height: 0;max-width: 0;overflow: hidden;text-align: left;background-color: #f0f8ff;}#sk-container-id-1 div.sk-toggleable__content pre {margin: 0.2em;color: black;border-radius: 0.25em;background-color: #f0f8ff;}#sk-container-id-1 input.sk-toggleable__control:checked~div.sk-toggleable__content {max-height: 200px;max-width: 100%;overflow: auto;}#sk-container-id-1 input.sk-toggleable__control:checked~label.sk-toggleable__label-arrow:before {content: \"▾\";}#sk-container-id-1 div.sk-estimator input.sk-toggleable__control:checked~label.sk-toggleable__label {background-color: #d4ebff;}#sk-container-id-1 div.sk-label input.sk-toggleable__control:checked~label.sk-toggleable__label {background-color: #d4ebff;}#sk-container-id-1 input.sk-hidden--visually {border: 0;clip: rect(1px 1px 1px 1px);clip: rect(1px, 1px, 1px, 1px);height: 1px;margin: -1px;overflow: hidden;padding: 0;position: absolute;width: 1px;}#sk-container-id-1 div.sk-estimator {font-family: monospace;background-color: #f0f8ff;border: 1px dotted black;border-radius: 0.25em;box-sizing: border-box;margin-bottom: 0.5em;}#sk-container-id-1 div.sk-estimator:hover {background-color: #d4ebff;}#sk-container-id-1 div.sk-parallel-item::after {content: \"\";width: 100%;border-bottom: 1px solid gray;flex-grow: 1;}#sk-container-id-1 div.sk-label:hover label.sk-toggleable__label {background-color: #d4ebff;}#sk-container-id-1 div.sk-serial::before {content: \"\";position: absolute;border-left: 1px solid gray;box-sizing: border-box;top: 0;bottom: 0;left: 50%;z-index: 0;}#sk-container-id-1 div.sk-serial {display: flex;flex-direction: column;align-items: center;background-color: white;padding-right: 0.2em;padding-left: 0.2em;position: relative;}#sk-container-id-1 div.sk-item {position: relative;z-index: 1;}#sk-container-id-1 div.sk-parallel {display: flex;align-items: stretch;justify-content: center;background-color: white;position: relative;}#sk-container-id-1 div.sk-item::before, #sk-container-id-1 div.sk-parallel-item::before {content: \"\";position: absolute;border-left: 1px solid gray;box-sizing: border-box;top: 0;bottom: 0;left: 50%;z-index: -1;}#sk-container-id-1 div.sk-parallel-item {display: flex;flex-direction: column;z-index: 1;position: relative;background-color: white;}#sk-container-id-1 div.sk-parallel-item:first-child::after {align-self: flex-end;width: 50%;}#sk-container-id-1 div.sk-parallel-item:last-child::after {align-self: flex-start;width: 50%;}#sk-container-id-1 div.sk-parallel-item:only-child::after {width: 0;}#sk-container-id-1 div.sk-dashed-wrapped {border: 1px dashed gray;margin: 0 0.4em 0.5em 0.4em;box-sizing: border-box;padding-bottom: 0.4em;background-color: white;}#sk-container-id-1 div.sk-label label {font-family: monospace;font-weight: bold;display: inline-block;line-height: 1.2em;}#sk-container-id-1 div.sk-label-container {text-align: center;}#sk-container-id-1 div.sk-container {/* jupyter's `normalize.less` sets `[hidden] { display: none; }` but bootstrap.min.css set `[hidden] { display: none !important; }` so we also need the `!important` here to be able to override the default hidden behavior on the sphinx rendered scikit-learn.org. See: https://github.com/scikit-learn/scikit-learn/issues/21755 */display: inline-block !important;position: relative;}#sk-container-id-1 div.sk-text-repr-fallback {display: none;}</style><div id=\"sk-container-id-1\" class=\"sk-top-container\"><div class=\"sk-text-repr-fallback\"><pre>Pipeline(steps=[(&#x27;ct_preproc&#x27;,\n",
       "                 ColumnTransformer(remainder=&#x27;passthrough&#x27;,\n",
       "                                   transformers=[(&#x27;yj&#x27;,\n",
       "                                                  PowerTransformer(standardize=False),\n",
       "                                                  slice(0, 11, None)),\n",
       "                                                 (&#x27;ss&#x27;, StandardScaler(),\n",
       "                                                  slice(0, 11, None))])),\n",
       "                (&#x27;skb&#x27;,\n",
       "                 SelectKBest(k=&#x27;all&#x27;,\n",
       "                             score_func=&lt;function mutual_info_classif at 0x0000019E09078C10&gt;)),\n",
       "                (&#x27;mdl&#x27;,\n",
       "                 GradientBoostingClassifier(learning_rate=0.01, max_depth=5,\n",
       "                                            n_estimators=200, random_state=46,\n",
       "                                            subsample=0.5))])</pre><b>In a Jupyter environment, please rerun this cell to show the HTML representation or trust the notebook. <br />On GitHub, the HTML representation is unable to render, please try loading this page with nbviewer.org.</b></div><div class=\"sk-container\" hidden><div class=\"sk-item sk-dashed-wrapped\"><div class=\"sk-label-container\"><div class=\"sk-label sk-toggleable\"><input class=\"sk-toggleable__control sk-hidden--visually\" id=\"sk-estimator-id-1\" type=\"checkbox\" ><label for=\"sk-estimator-id-1\" class=\"sk-toggleable__label sk-toggleable__label-arrow\">Pipeline</label><div class=\"sk-toggleable__content\"><pre>Pipeline(steps=[(&#x27;ct_preproc&#x27;,\n",
       "                 ColumnTransformer(remainder=&#x27;passthrough&#x27;,\n",
       "                                   transformers=[(&#x27;yj&#x27;,\n",
       "                                                  PowerTransformer(standardize=False),\n",
       "                                                  slice(0, 11, None)),\n",
       "                                                 (&#x27;ss&#x27;, StandardScaler(),\n",
       "                                                  slice(0, 11, None))])),\n",
       "                (&#x27;skb&#x27;,\n",
       "                 SelectKBest(k=&#x27;all&#x27;,\n",
       "                             score_func=&lt;function mutual_info_classif at 0x0000019E09078C10&gt;)),\n",
       "                (&#x27;mdl&#x27;,\n",
       "                 GradientBoostingClassifier(learning_rate=0.01, max_depth=5,\n",
       "                                            n_estimators=200, random_state=46,\n",
       "                                            subsample=0.5))])</pre></div></div></div><div class=\"sk-serial\"><div class=\"sk-item sk-dashed-wrapped\"><div class=\"sk-label-container\"><div class=\"sk-label sk-toggleable\"><input class=\"sk-toggleable__control sk-hidden--visually\" id=\"sk-estimator-id-2\" type=\"checkbox\" ><label for=\"sk-estimator-id-2\" class=\"sk-toggleable__label sk-toggleable__label-arrow\">ct_preproc: ColumnTransformer</label><div class=\"sk-toggleable__content\"><pre>ColumnTransformer(remainder=&#x27;passthrough&#x27;,\n",
       "                  transformers=[(&#x27;yj&#x27;, PowerTransformer(standardize=False),\n",
       "                                 slice(0, 11, None)),\n",
       "                                (&#x27;ss&#x27;, StandardScaler(), slice(0, 11, None))])</pre></div></div></div><div class=\"sk-parallel\"><div class=\"sk-parallel-item\"><div class=\"sk-item\"><div class=\"sk-label-container\"><div class=\"sk-label sk-toggleable\"><input class=\"sk-toggleable__control sk-hidden--visually\" id=\"sk-estimator-id-3\" type=\"checkbox\" ><label for=\"sk-estimator-id-3\" class=\"sk-toggleable__label sk-toggleable__label-arrow\">yj</label><div class=\"sk-toggleable__content\"><pre>slice(0, 11, None)</pre></div></div></div><div class=\"sk-serial\"><div class=\"sk-item\"><div class=\"sk-estimator sk-toggleable\"><input class=\"sk-toggleable__control sk-hidden--visually\" id=\"sk-estimator-id-4\" type=\"checkbox\" ><label for=\"sk-estimator-id-4\" class=\"sk-toggleable__label sk-toggleable__label-arrow\">PowerTransformer</label><div class=\"sk-toggleable__content\"><pre>PowerTransformer(standardize=False)</pre></div></div></div></div></div></div><div class=\"sk-parallel-item\"><div class=\"sk-item\"><div class=\"sk-label-container\"><div class=\"sk-label sk-toggleable\"><input class=\"sk-toggleable__control sk-hidden--visually\" id=\"sk-estimator-id-5\" type=\"checkbox\" ><label for=\"sk-estimator-id-5\" class=\"sk-toggleable__label sk-toggleable__label-arrow\">ss</label><div class=\"sk-toggleable__content\"><pre>slice(0, 11, None)</pre></div></div></div><div class=\"sk-serial\"><div class=\"sk-item\"><div class=\"sk-estimator sk-toggleable\"><input class=\"sk-toggleable__control sk-hidden--visually\" id=\"sk-estimator-id-6\" type=\"checkbox\" ><label for=\"sk-estimator-id-6\" class=\"sk-toggleable__label sk-toggleable__label-arrow\">StandardScaler</label><div class=\"sk-toggleable__content\"><pre>StandardScaler()</pre></div></div></div></div></div></div><div class=\"sk-parallel-item\"><div class=\"sk-item\"><div class=\"sk-label-container\"><div class=\"sk-label sk-toggleable\"><input class=\"sk-toggleable__control sk-hidden--visually\" id=\"sk-estimator-id-7\" type=\"checkbox\" ><label for=\"sk-estimator-id-7\" class=\"sk-toggleable__label sk-toggleable__label-arrow\">remainder</label><div class=\"sk-toggleable__content\"><pre>[]</pre></div></div></div><div class=\"sk-serial\"><div class=\"sk-item\"><div class=\"sk-estimator sk-toggleable\"><input class=\"sk-toggleable__control sk-hidden--visually\" id=\"sk-estimator-id-8\" type=\"checkbox\" ><label for=\"sk-estimator-id-8\" class=\"sk-toggleable__label sk-toggleable__label-arrow\">passthrough</label><div class=\"sk-toggleable__content\"><pre>passthrough</pre></div></div></div></div></div></div></div></div><div class=\"sk-item\"><div class=\"sk-estimator sk-toggleable\"><input class=\"sk-toggleable__control sk-hidden--visually\" id=\"sk-estimator-id-9\" type=\"checkbox\" ><label for=\"sk-estimator-id-9\" class=\"sk-toggleable__label sk-toggleable__label-arrow\">SelectKBest</label><div class=\"sk-toggleable__content\"><pre>SelectKBest(k=&#x27;all&#x27;,\n",
       "            score_func=&lt;function mutual_info_classif at 0x0000019E09078C10&gt;)</pre></div></div></div><div class=\"sk-item\"><div class=\"sk-estimator sk-toggleable\"><input class=\"sk-toggleable__control sk-hidden--visually\" id=\"sk-estimator-id-10\" type=\"checkbox\" ><label for=\"sk-estimator-id-10\" class=\"sk-toggleable__label sk-toggleable__label-arrow\">GradientBoostingClassifier</label><div class=\"sk-toggleable__content\"><pre>GradientBoostingClassifier(learning_rate=0.01, max_depth=5, n_estimators=200,\n",
       "                           random_state=46, subsample=0.5)</pre></div></div></div></div></div></div></div>"
      ],
      "text/plain": [
       "Pipeline(steps=[('ct_preproc',\n",
       "                 ColumnTransformer(remainder='passthrough',\n",
       "                                   transformers=[('yj',\n",
       "                                                  PowerTransformer(standardize=False),\n",
       "                                                  slice(0, 11, None)),\n",
       "                                                 ('ss', StandardScaler(),\n",
       "                                                  slice(0, 11, None))])),\n",
       "                ('skb',\n",
       "                 SelectKBest(k='all',\n",
       "                             score_func=<function mutual_info_classif at 0x0000019E09078C10>)),\n",
       "                ('mdl',\n",
       "                 GradientBoostingClassifier(learning_rate=0.01, max_depth=5,\n",
       "                                            n_estimators=200, random_state=46,\n",
       "                                            subsample=0.5))])"
      ]
     },
     "execution_count": 8,
     "metadata": {},
     "output_type": "execute_result"
    }
   ],
   "source": [
    "# Pre Processors -------------------------------------------------------------------------------------------------------------\n",
    "ct_preproc = ColumnTransformer([\n",
    "    ('yj',PowerTransformer(method='yeo-johnson', standardize=False),slice(0,11)),\n",
    "    ('ss',StandardScaler(),slice(0,11))\n",
    "    ], remainder='passthrough')\n",
    "\n",
    "\n",
    "# Feature Selection -----------------------------------------------------------------------------------------------------------\n",
    "skb = SelectKBest(mutual_info_classif, k='all')\n",
    "\n",
    "\n",
    "# ML Pipeline -----------------------------------------------------------------------------------------------------------------\n",
    "steps = [('ct_preproc',ct_preproc),\n",
    "     ('skb',skb),\n",
    "     ('mdl',GradientBoostingClassifier(learning_rate=0.01, max_depth=5, n_estimators=200, subsample=0.5, random_state=46))]\n",
    "pipe_best = Pipeline(steps)\n",
    "\n",
    "pipe_best.fit(Xtr,ytr)"
   ]
  },
  {
   "cell_type": "markdown",
   "id": "8cde1adc-80d9-4e4c-8e85-563a32d328a0",
   "metadata": {
    "id": "8cde1adc-80d9-4e4c-8e85-563a32d328a0"
   },
   "source": [
    "### 4.1 Best Model Evaluation with cross_val_score using scoring='accuracy'"
   ]
  },
  {
   "cell_type": "code",
   "execution_count": 9,
   "id": "9b7717c2-d379-43be-a081-2544a019f420",
   "metadata": {
    "colab": {
     "base_uri": "https://localhost:8080/"
    },
    "id": "9b7717c2-d379-43be-a081-2544a019f420",
    "outputId": "8c79a0ea-349f-424c-df7f-8f319d99aab9",
    "tags": []
   },
   "outputs": [
    {
     "name": "stdout",
     "output_type": "stream",
     "text": [
      "KFold Setting : \n",
      " StratifiedKFold(n_splits=10, random_state=46, shuffle=True) \n",
      "\n",
      "Cross Validation Score is : 77.2358 %\n"
     ]
    }
   ],
   "source": [
    "### Cross Val Score using 'accuracy' metrics\n",
    "\n",
    "kfold = StratifiedKFold(n_splits=10, shuffle=True, random_state=46)\n",
    "print(f'KFold Setting : \\n {kfold} \\n')\n",
    "\n",
    "cv_score = cross_val_score(pipe_best, Xtr, ytr, cv=kfold, scoring='accuracy').mean()\n",
    "print(f'Cross Validation Score is : {round(cv_score*100,4)} %')"
   ]
  },
  {
   "cell_type": "markdown",
   "id": "6d28f11c-7bd3-4853-ad35-14b9ba59a9fa",
   "metadata": {
    "id": "6d28f11c-7bd3-4853-ad35-14b9ba59a9fa"
   },
   "source": [
    "### 4.2 Best Model Evaluation with cross_validate using scoring=['accuracy','f1','roc_auc']"
   ]
  },
  {
   "cell_type": "code",
   "execution_count": 10,
   "id": "9b5be4b7-f140-40ac-a4c3-a161ec50a073",
   "metadata": {
    "colab": {
     "base_uri": "https://localhost:8080/",
     "height": 380
    },
    "id": "9b5be4b7-f140-40ac-a4c3-a161ec50a073",
    "outputId": "7d97feec-e68d-46df-db9e-bc6ce2e7cb84",
    "tags": []
   },
   "outputs": [
    {
     "name": "stdout",
     "output_type": "stream",
     "text": [
      "KFold Setting : \n",
      " StratifiedKFold(n_splits=10, random_state=46, shuffle=True) \n",
      "\n",
      "Scoring Metrics : \n",
      " ['accuracy', 'f1', 'roc_auc'] \n",
      "\n",
      "Keys in the Score : \n",
      " ['fit_time', 'score_time', 'test_accuracy', 'test_f1', 'test_roc_auc'] \n",
      "\n",
      "Result of Cross Validation : mean of score keys\n"
     ]
    },
    {
     "data": {
      "text/html": [
       "<div>\n",
       "<style scoped>\n",
       "    .dataframe tbody tr th:only-of-type {\n",
       "        vertical-align: middle;\n",
       "    }\n",
       "\n",
       "    .dataframe tbody tr th {\n",
       "        vertical-align: top;\n",
       "    }\n",
       "\n",
       "    .dataframe thead th {\n",
       "        text-align: right;\n",
       "    }\n",
       "</style>\n",
       "<table border=\"1\" class=\"dataframe\">\n",
       "  <thead>\n",
       "    <tr style=\"text-align: right;\">\n",
       "      <th></th>\n",
       "      <th>Keys</th>\n",
       "      <th>Mean Score</th>\n",
       "    </tr>\n",
       "  </thead>\n",
       "  <tbody>\n",
       "    <tr>\n",
       "      <th>0</th>\n",
       "      <td>fit_time</td>\n",
       "      <td>2.5948</td>\n",
       "    </tr>\n",
       "    <tr>\n",
       "      <th>1</th>\n",
       "      <td>score_time</td>\n",
       "      <td>0.0283</td>\n",
       "    </tr>\n",
       "    <tr>\n",
       "      <th>2</th>\n",
       "      <td>test_accuracy</td>\n",
       "      <td>0.7724</td>\n",
       "    </tr>\n",
       "    <tr>\n",
       "      <th>3</th>\n",
       "      <td>test_f1</td>\n",
       "      <td>0.7660</td>\n",
       "    </tr>\n",
       "    <tr>\n",
       "      <th>4</th>\n",
       "      <td>test_roc_auc</td>\n",
       "      <td>0.8386</td>\n",
       "    </tr>\n",
       "  </tbody>\n",
       "</table>\n",
       "</div>"
      ],
      "text/plain": [
       "            Keys  Mean Score\n",
       "0       fit_time      2.5948\n",
       "1     score_time      0.0283\n",
       "2  test_accuracy      0.7724\n",
       "3        test_f1      0.7660\n",
       "4   test_roc_auc      0.8386"
      ]
     },
     "execution_count": 10,
     "metadata": {},
     "output_type": "execute_result"
    }
   ],
   "source": [
    "### Cross Validate Score using ['accuracy', 'f1','roc_auc'] metrics\n",
    "\n",
    "kfold = StratifiedKFold(n_splits=10, shuffle=True, random_state=46)\n",
    "print(f'KFold Setting : \\n {kfold} \\n')\n",
    "\n",
    "scoring = ['accuracy', 'f1','roc_auc']\n",
    "print(f'Scoring Metrics : \\n {scoring} \\n')\n",
    "\n",
    "scores = cross_validate(pipe_best, Xtr, ytr, cv=kfold, scoring=scoring)\n",
    "print(f'Keys in the Score : \\n {sorted(scores.keys())} \\n')\n",
    "\n",
    "res = pd.DataFrame(scores)\n",
    "print(f'Result of Cross Validation : mean of score keys')\n",
    "res.mean().reset_index().rename(columns={'index':'Keys',0:'Mean Score'})"
   ]
  },
  {
   "cell_type": "markdown",
   "id": "cd4fad69-8542-4bc4-aa44-7fc5a3dae385",
   "metadata": {
    "id": "cd4fad69-8542-4bc4-aa44-7fc5a3dae385"
   },
   "source": [
    "## 5. Model Save/Export"
   ]
  },
  {
   "cell_type": "code",
   "execution_count": 11,
   "id": "4cb5df2f-3141-4242-b163-5668530466f0",
   "metadata": {
    "colab": {
     "base_uri": "https://localhost:8080/"
    },
    "id": "4cb5df2f-3141-4242-b163-5668530466f0",
    "outputId": "db951bfe-1d6e-4de6-d736-cdd288612eff",
    "tags": []
   },
   "outputs": [
    {
     "name": "stdout",
     "output_type": "stream",
     "text": [
      "Model Object Saved Successfully \n",
      "\n",
      "\"X\" Features Saved Successfully\n"
     ]
    }
   ],
   "source": [
    "dump(pipe_best, open('wine_quality_mdl_best.pkl','wb'))\n",
    "print('Model Object Saved Successfully \\n')\n",
    "\n",
    "dump(Xtr, open('wine_quality_X_best.pkl','wb'))\n",
    "print('\"X\" Features Saved Successfully')"
   ]
  },
  {
   "cell_type": "markdown",
   "id": "f78a708a-1710-485f-ba1e-2bb5a0c14b9e",
   "metadata": {
    "id": "f78a708a-1710-485f-ba1e-2bb5a0c14b9e"
   },
   "source": [
    "## 6. Simple Prediction System"
   ]
  },
  {
   "cell_type": "markdown",
   "id": "2d107360-fe14-4cd9-8f15-99f833ece0e3",
   "metadata": {},
   "source": [
    "### 6.1 Load Best Model"
   ]
  },
  {
   "cell_type": "code",
   "execution_count": 12,
   "id": "23557b0c-388f-47f8-bafc-a0dc68602c96",
   "metadata": {
    "tags": []
   },
   "outputs": [],
   "source": [
    "mdl_pipe = load(open('wine_quality_mdl_best.pkl','rb'))"
   ]
  },
  {
   "cell_type": "markdown",
   "id": "d6708f93-99c5-48bf-833c-a9b22dee2945",
   "metadata": {
    "id": "d6708f93-99c5-48bf-833c-a9b22dee2945"
   },
   "source": [
    "### 6.2 Validation Dataset "
   ]
  },
  {
   "cell_type": "markdown",
   "id": "232f9a5f-116c-4749-8add-8e9d966d5f06",
   "metadata": {},
   "source": [
    "#### 6.2.1 Importing Dataset"
   ]
  },
  {
   "cell_type": "code",
   "execution_count": 13,
   "id": "c7021150-301b-4a11-8475-d96d7abcbc7e",
   "metadata": {},
   "outputs": [
    {
     "name": "stdout",
     "output_type": "stream",
     "text": [
      "Shape of the validation dataset : (100, 12)\n"
     ]
    }
   ],
   "source": [
    "val = pd.read_pickle('wine_quality_FE_final_valid.pkl')\n",
    "\n",
    "print(f'Shape of the validation dataset : {val.shape}')\n",
    "val.head(5)\n",
    "\n",
    "Xval = val.drop(columns='quality')\n",
    "yval = val['quality']"
   ]
  },
  {
   "cell_type": "markdown",
   "id": "7279b6ab-8d20-4bcc-a4bb-aa91b8921df4",
   "metadata": {
    "id": "3OePbrwKCw_G"
   },
   "source": [
    "#### 6.2.2 Overall Result on Validation Data"
   ]
  },
  {
   "cell_type": "code",
   "execution_count": 14,
   "id": "00b2a848-4cc6-4986-96cd-a17bcba209d8",
   "metadata": {},
   "outputs": [
    {
     "name": "stdout",
     "output_type": "stream",
     "text": [
      "Accuracy Score on Validation Data : 75.0 % \n",
      "\n",
      "Confusion Matrix on Validation Data : \n",
      " [[35 13]\n",
      " [12 40]] \n",
      "\n",
      "Classification Report on Validation Data : \n",
      "\n",
      "               precision    recall  f1-score   support\n",
      "\n",
      "           0       0.74      0.73      0.74        48\n",
      "           1       0.75      0.77      0.76        52\n",
      "\n",
      "    accuracy                           0.75       100\n",
      "   macro avg       0.75      0.75      0.75       100\n",
      "weighted avg       0.75      0.75      0.75       100\n",
      "\n"
     ]
    }
   ],
   "source": [
    "yval_pred = mdl_pipe.predict(Xval)\n",
    "\n",
    "print(f'Accuracy Score on Validation Data : {round(accuracy_score(yval, yval_pred)*100,4)} % \\n')\n",
    "\n",
    "print(f'Confusion Matrix on Validation Data : \\n {confusion_matrix(yval, yval_pred)} \\n')\n",
    "\n",
    "print(f'Classification Report on Validation Data : \\n\\n {classification_report(yval, yval_pred)}')"
   ]
  },
  {
   "cell_type": "markdown",
   "id": "b4d746ce-cb55-453f-a469-de3e807d94f2",
   "metadata": {},
   "source": [
    "#### 6.2.3 Predictions on Validation Samples"
   ]
  },
  {
   "cell_type": "code",
   "execution_count": 15,
   "id": "2f88d177-a4e9-4c93-a137-e71524c9d682",
   "metadata": {},
   "outputs": [
    {
     "data": {
      "text/html": [
       "<div>\n",
       "<style scoped>\n",
       "    .dataframe tbody tr th:only-of-type {\n",
       "        vertical-align: middle;\n",
       "    }\n",
       "\n",
       "    .dataframe tbody tr th {\n",
       "        vertical-align: top;\n",
       "    }\n",
       "\n",
       "    .dataframe thead th {\n",
       "        text-align: right;\n",
       "    }\n",
       "</style>\n",
       "<table border=\"1\" class=\"dataframe\">\n",
       "  <thead>\n",
       "    <tr style=\"text-align: right;\">\n",
       "      <th></th>\n",
       "      <th>fixed acidity</th>\n",
       "      <th>volatile acidity</th>\n",
       "      <th>citric acid</th>\n",
       "      <th>residual sugar</th>\n",
       "      <th>chlorides</th>\n",
       "      <th>free sulfur dioxide</th>\n",
       "      <th>total sulfur dioxide</th>\n",
       "      <th>density</th>\n",
       "      <th>pH</th>\n",
       "      <th>sulphates</th>\n",
       "      <th>alcohol</th>\n",
       "      <th>quality</th>\n",
       "    </tr>\n",
       "  </thead>\n",
       "  <tbody>\n",
       "    <tr>\n",
       "      <th>958</th>\n",
       "      <td>5.8</td>\n",
       "      <td>0.29</td>\n",
       "      <td>0.26</td>\n",
       "      <td>1.7</td>\n",
       "      <td>0.063</td>\n",
       "      <td>3.0</td>\n",
       "      <td>11.0</td>\n",
       "      <td>0.9915</td>\n",
       "      <td>3.39</td>\n",
       "      <td>0.54</td>\n",
       "      <td>13.5</td>\n",
       "      <td>1</td>\n",
       "    </tr>\n",
       "    <tr>\n",
       "      <th>208</th>\n",
       "      <td>8.2</td>\n",
       "      <td>1.00</td>\n",
       "      <td>0.09</td>\n",
       "      <td>2.3</td>\n",
       "      <td>0.065</td>\n",
       "      <td>7.0</td>\n",
       "      <td>37.0</td>\n",
       "      <td>0.9969</td>\n",
       "      <td>3.32</td>\n",
       "      <td>0.55</td>\n",
       "      <td>9.0</td>\n",
       "      <td>1</td>\n",
       "    </tr>\n",
       "    <tr>\n",
       "      <th>1336</th>\n",
       "      <td>5.6</td>\n",
       "      <td>0.31</td>\n",
       "      <td>0.78</td>\n",
       "      <td>13.9</td>\n",
       "      <td>0.074</td>\n",
       "      <td>23.0</td>\n",
       "      <td>92.0</td>\n",
       "      <td>0.9968</td>\n",
       "      <td>3.39</td>\n",
       "      <td>0.48</td>\n",
       "      <td>10.5</td>\n",
       "      <td>1</td>\n",
       "    </tr>\n",
       "    <tr>\n",
       "      <th>69</th>\n",
       "      <td>9.7</td>\n",
       "      <td>0.32</td>\n",
       "      <td>0.54</td>\n",
       "      <td>2.5</td>\n",
       "      <td>0.094</td>\n",
       "      <td>28.0</td>\n",
       "      <td>83.0</td>\n",
       "      <td>0.9984</td>\n",
       "      <td>3.28</td>\n",
       "      <td>0.82</td>\n",
       "      <td>9.6</td>\n",
       "      <td>0</td>\n",
       "    </tr>\n",
       "    <tr>\n",
       "      <th>727</th>\n",
       "      <td>10.6</td>\n",
       "      <td>0.50</td>\n",
       "      <td>0.45</td>\n",
       "      <td>2.6</td>\n",
       "      <td>0.119</td>\n",
       "      <td>34.0</td>\n",
       "      <td>68.0</td>\n",
       "      <td>0.9971</td>\n",
       "      <td>3.23</td>\n",
       "      <td>0.72</td>\n",
       "      <td>10.9</td>\n",
       "      <td>1</td>\n",
       "    </tr>\n",
       "    <tr>\n",
       "      <th>477</th>\n",
       "      <td>12.4</td>\n",
       "      <td>0.35</td>\n",
       "      <td>0.49</td>\n",
       "      <td>2.6</td>\n",
       "      <td>0.079</td>\n",
       "      <td>27.0</td>\n",
       "      <td>69.0</td>\n",
       "      <td>0.9994</td>\n",
       "      <td>3.12</td>\n",
       "      <td>0.75</td>\n",
       "      <td>10.4</td>\n",
       "      <td>1</td>\n",
       "    </tr>\n",
       "    <tr>\n",
       "      <th>962</th>\n",
       "      <td>9.1</td>\n",
       "      <td>0.60</td>\n",
       "      <td>0.00</td>\n",
       "      <td>1.9</td>\n",
       "      <td>0.058</td>\n",
       "      <td>5.0</td>\n",
       "      <td>10.0</td>\n",
       "      <td>0.9977</td>\n",
       "      <td>3.18</td>\n",
       "      <td>0.63</td>\n",
       "      <td>10.4</td>\n",
       "      <td>1</td>\n",
       "    </tr>\n",
       "    <tr>\n",
       "      <th>1063</th>\n",
       "      <td>6.9</td>\n",
       "      <td>0.41</td>\n",
       "      <td>0.33</td>\n",
       "      <td>2.2</td>\n",
       "      <td>0.081</td>\n",
       "      <td>22.0</td>\n",
       "      <td>36.0</td>\n",
       "      <td>0.9949</td>\n",
       "      <td>3.41</td>\n",
       "      <td>0.75</td>\n",
       "      <td>11.1</td>\n",
       "      <td>1</td>\n",
       "    </tr>\n",
       "    <tr>\n",
       "      <th>280</th>\n",
       "      <td>7.8</td>\n",
       "      <td>0.62</td>\n",
       "      <td>0.05</td>\n",
       "      <td>2.3</td>\n",
       "      <td>0.079</td>\n",
       "      <td>6.0</td>\n",
       "      <td>18.0</td>\n",
       "      <td>0.9973</td>\n",
       "      <td>3.29</td>\n",
       "      <td>0.63</td>\n",
       "      <td>9.3</td>\n",
       "      <td>0</td>\n",
       "    </tr>\n",
       "    <tr>\n",
       "      <th>754</th>\n",
       "      <td>7.1</td>\n",
       "      <td>0.47</td>\n",
       "      <td>0.00</td>\n",
       "      <td>2.2</td>\n",
       "      <td>0.067</td>\n",
       "      <td>7.0</td>\n",
       "      <td>14.0</td>\n",
       "      <td>0.9952</td>\n",
       "      <td>3.40</td>\n",
       "      <td>0.58</td>\n",
       "      <td>10.9</td>\n",
       "      <td>0</td>\n",
       "    </tr>\n",
       "  </tbody>\n",
       "</table>\n",
       "</div>"
      ],
      "text/plain": [
       "      fixed acidity  volatile acidity  citric acid  residual sugar  chlorides  \\\n",
       "958             5.8              0.29         0.26             1.7      0.063   \n",
       "208             8.2              1.00         0.09             2.3      0.065   \n",
       "1336            5.6              0.31         0.78            13.9      0.074   \n",
       "69              9.7              0.32         0.54             2.5      0.094   \n",
       "727            10.6              0.50         0.45             2.6      0.119   \n",
       "477            12.4              0.35         0.49             2.6      0.079   \n",
       "962             9.1              0.60         0.00             1.9      0.058   \n",
       "1063            6.9              0.41         0.33             2.2      0.081   \n",
       "280             7.8              0.62         0.05             2.3      0.079   \n",
       "754             7.1              0.47         0.00             2.2      0.067   \n",
       "\n",
       "      free sulfur dioxide  total sulfur dioxide  density    pH  sulphates  \\\n",
       "958                   3.0                  11.0   0.9915  3.39       0.54   \n",
       "208                   7.0                  37.0   0.9969  3.32       0.55   \n",
       "1336                 23.0                  92.0   0.9968  3.39       0.48   \n",
       "69                   28.0                  83.0   0.9984  3.28       0.82   \n",
       "727                  34.0                  68.0   0.9971  3.23       0.72   \n",
       "477                  27.0                  69.0   0.9994  3.12       0.75   \n",
       "962                   5.0                  10.0   0.9977  3.18       0.63   \n",
       "1063                 22.0                  36.0   0.9949  3.41       0.75   \n",
       "280                   6.0                  18.0   0.9973  3.29       0.63   \n",
       "754                   7.0                  14.0   0.9952  3.40       0.58   \n",
       "\n",
       "      alcohol quality  \n",
       "958      13.5       1  \n",
       "208       9.0       1  \n",
       "1336     10.5       1  \n",
       "69        9.6       0  \n",
       "727      10.9       1  \n",
       "477      10.4       1  \n",
       "962      10.4       1  \n",
       "1063     11.1       1  \n",
       "280       9.3       0  \n",
       "754      10.9       0  "
      ]
     },
     "execution_count": 15,
     "metadata": {},
     "output_type": "execute_result"
    }
   ],
   "source": [
    "samp = Xval.sample(10).index.values.tolist()\n",
    "samp\n",
    "\n",
    "val_df = pd.concat([Xval.loc[samp],yval.loc[samp]],axis=1)\n",
    "val_df.head(10)"
   ]
  },
  {
   "cell_type": "code",
   "execution_count": 16,
   "id": "8c897186-8299-42fd-bc08-461b05245886",
   "metadata": {
    "colab": {
     "base_uri": "https://localhost:8080/"
    },
    "id": "8c897186-8299-42fd-bc08-461b05245886",
    "outputId": "4244f6d6-58cf-48ce-cfa9-188e47a381ae",
    "tags": []
   },
   "outputs": [
    {
     "name": "stdout",
     "output_type": "stream",
     "text": [
      "Validation Data with Index : 477 is Selected for Prediction: \n",
      "\n",
      "\"fixed acidity\" ---:--- 12.4\n",
      "\"volatile acidity\" ---:--- 0.35\n",
      "\"citric acid\" ---:--- 0.49\n",
      "\"residual sugar\" ---:--- 2.6\n",
      "\"chlorides\" ---:--- 0.079\n",
      "\"free sulfur dioxide\" ---:--- 27.0\n",
      "\"total sulfur dioxide\" ---:--- 69.0\n",
      "\"density\" ---:--- 0.9994\n",
      "\"pH\" ---:--- 3.12\n",
      "\"sulphates\" ---:--- 0.75\n",
      "\"alcohol\" ---:--- 10.4\n"
     ]
    }
   ],
   "source": [
    "#inp_data = (13.7,0.415,0.68,2.9,0.085,17.0,43.0,1.0014,3.06,0.80,10.0)\n",
    "#inp_data = np.array(inp_data).reshape(1,-1)\n",
    "\n",
    "idx = val_df.sample().index.values\n",
    "inp_data = Xval.loc[idx].values\n",
    "\n",
    "print(f'Validation Data with Index : {idx[0]} is Selected for Prediction: \\n')\n",
    "\n",
    "for fea_name, fea_val in zip(Xval.columns.tolist(), inp_data[0]):\n",
    "    print(f'\"{fea_name}\" ---:--- {fea_val}')"
   ]
  },
  {
   "cell_type": "code",
   "execution_count": 17,
   "id": "f36b7136-0f28-4dde-a4a2-759610dd0b33",
   "metadata": {
    "colab": {
     "base_uri": "https://localhost:8080/"
    },
    "id": "f36b7136-0f28-4dde-a4a2-759610dd0b33",
    "outputId": "d802e49a-8899-40ab-8466-9c1fb8daae7c",
    "tags": []
   },
   "outputs": [
    {
     "name": "stdout",
     "output_type": "stream",
     "text": [
      "------------- Prediction for Validation Data with Index : 477 --------------------\n",
      "\n",
      "Actual Wine Quality for the Selected Data : 1 \n",
      "\n",
      "Predicted Wine Quality : 1 (High Quality Wine)\n"
     ]
    }
   ],
   "source": [
    "print(f'------------- Prediction for Validation Data with Index : {idx[0]} --------------------\\n')\n",
    "\n",
    "print(f'Actual Wine Quality for the Selected Data : {yval[idx[0]]} \\n')\n",
    "\n",
    "pred = mdl_pipe.predict(inp_data)\n",
    "\n",
    "if (pred[0] == 1):\n",
    "    print(f'Predicted Wine Quality : {pred[0]} (High Quality Wine)')\n",
    "else:\n",
    "    print(f'Predicted Wine Quality : {pred[0]} (Low Quality Wine)')"
   ]
  },
  {
   "cell_type": "markdown",
   "id": "3ab49553-7f37-4f40-989e-6289ff6ba05a",
   "metadata": {
    "id": "3OePbrwKCw_G"
   },
   "source": [
    "### 6.3 Test Data"
   ]
  },
  {
   "cell_type": "markdown",
   "id": "cfd13b56-c582-4693-b81d-fc9749055f68",
   "metadata": {},
   "source": [
    "#### 6.2.1 Importing Dataset"
   ]
  },
  {
   "cell_type": "code",
   "execution_count": 18,
   "id": "eb5c3e9f-b047-46d2-a1ac-20ec8b5981c7",
   "metadata": {
    "tags": []
   },
   "outputs": [
    {
     "name": "stdout",
     "output_type": "stream",
     "text": [
      "Shape of the test dataset : (100, 12)\n"
     ]
    }
   ],
   "source": [
    "te = pd.read_pickle('wine_quality_FE_final_test.pkl')\n",
    "\n",
    "print(f'Shape of the test dataset : {te.shape}')\n",
    "te.head(5)\n",
    "\n",
    "Xte = te.drop(columns='quality')\n",
    "yte = te['quality']"
   ]
  },
  {
   "cell_type": "markdown",
   "id": "fadd2a48-e6b8-44ab-8a52-6e7a178190c8",
   "metadata": {
    "id": "3OePbrwKCw_G"
   },
   "source": [
    "#### 6.2.2 Overall Result on Test Data"
   ]
  },
  {
   "cell_type": "code",
   "execution_count": 19,
   "id": "g0_HhvnaEvIi",
   "metadata": {
    "id": "g0_HhvnaEvIi",
    "tags": []
   },
   "outputs": [
    {
     "name": "stdout",
     "output_type": "stream",
     "text": [
      "Shape of the Test Data : (100, 12) \n",
      "\n",
      "Accuracy Score on Test Data : 76.0 % \n",
      "\n",
      "Confusion Matrix on Test Data : \n",
      " [[34 14]\n",
      " [10 42]] \n",
      "\n",
      "Classification Report on Test Data : \n",
      "\n",
      "               precision    recall  f1-score   support\n",
      "\n",
      "           0       0.77      0.71      0.74        48\n",
      "           1       0.75      0.81      0.78        52\n",
      "\n",
      "    accuracy                           0.76       100\n",
      "   macro avg       0.76      0.76      0.76       100\n",
      "weighted avg       0.76      0.76      0.76       100\n",
      "\n"
     ]
    }
   ],
   "source": [
    "yte_pred = mdl_pipe.predict(Xte)\n",
    "\n",
    "print(f'Shape of the Test Data : {te.shape} \\n')\n",
    "\n",
    "print(f'Accuracy Score on Test Data : {round(accuracy_score(yte, yte_pred)*100,4)} % \\n')\n",
    "\n",
    "print(f'Confusion Matrix on Test Data : \\n {confusion_matrix(yte, yte_pred)} \\n')\n",
    "\n",
    "print(f'Classification Report on Test Data : \\n\\n {classification_report(yte, yte_pred)}')"
   ]
  },
  {
   "cell_type": "markdown",
   "id": "f7b410f6-a974-4ba7-8e80-354c0bbc3b2a",
   "metadata": {},
   "source": [
    "#### 6.2.3 Predictions on Test Samples"
   ]
  },
  {
   "cell_type": "code",
   "execution_count": 20,
   "id": "fcf362c4-2abd-4dd7-80f7-7e24054b6f0d",
   "metadata": {},
   "outputs": [
    {
     "data": {
      "text/html": [
       "<div>\n",
       "<style scoped>\n",
       "    .dataframe tbody tr th:only-of-type {\n",
       "        vertical-align: middle;\n",
       "    }\n",
       "\n",
       "    .dataframe tbody tr th {\n",
       "        vertical-align: top;\n",
       "    }\n",
       "\n",
       "    .dataframe thead th {\n",
       "        text-align: right;\n",
       "    }\n",
       "</style>\n",
       "<table border=\"1\" class=\"dataframe\">\n",
       "  <thead>\n",
       "    <tr style=\"text-align: right;\">\n",
       "      <th></th>\n",
       "      <th>fixed acidity</th>\n",
       "      <th>volatile acidity</th>\n",
       "      <th>citric acid</th>\n",
       "      <th>residual sugar</th>\n",
       "      <th>chlorides</th>\n",
       "      <th>free sulfur dioxide</th>\n",
       "      <th>total sulfur dioxide</th>\n",
       "      <th>density</th>\n",
       "      <th>pH</th>\n",
       "      <th>sulphates</th>\n",
       "      <th>alcohol</th>\n",
       "      <th>quality</th>\n",
       "    </tr>\n",
       "  </thead>\n",
       "  <tbody>\n",
       "    <tr>\n",
       "      <th>403</th>\n",
       "      <td>11.0</td>\n",
       "      <td>0.26</td>\n",
       "      <td>0.68</td>\n",
       "      <td>2.55</td>\n",
       "      <td>0.085</td>\n",
       "      <td>10.0</td>\n",
       "      <td>25.0</td>\n",
       "      <td>0.9970</td>\n",
       "      <td>3.18</td>\n",
       "      <td>0.61</td>\n",
       "      <td>11.8</td>\n",
       "      <td>0</td>\n",
       "    </tr>\n",
       "    <tr>\n",
       "      <th>261</th>\n",
       "      <td>7.5</td>\n",
       "      <td>0.53</td>\n",
       "      <td>0.06</td>\n",
       "      <td>2.60</td>\n",
       "      <td>0.086</td>\n",
       "      <td>20.0</td>\n",
       "      <td>44.0</td>\n",
       "      <td>0.9965</td>\n",
       "      <td>3.38</td>\n",
       "      <td>0.59</td>\n",
       "      <td>10.7</td>\n",
       "      <td>1</td>\n",
       "    </tr>\n",
       "    <tr>\n",
       "      <th>930</th>\n",
       "      <td>9.2</td>\n",
       "      <td>0.31</td>\n",
       "      <td>0.36</td>\n",
       "      <td>2.20</td>\n",
       "      <td>0.079</td>\n",
       "      <td>11.0</td>\n",
       "      <td>31.0</td>\n",
       "      <td>0.9961</td>\n",
       "      <td>3.33</td>\n",
       "      <td>0.86</td>\n",
       "      <td>12.0</td>\n",
       "      <td>1</td>\n",
       "    </tr>\n",
       "    <tr>\n",
       "      <th>1066</th>\n",
       "      <td>7.1</td>\n",
       "      <td>0.72</td>\n",
       "      <td>0.00</td>\n",
       "      <td>1.80</td>\n",
       "      <td>0.123</td>\n",
       "      <td>6.0</td>\n",
       "      <td>14.0</td>\n",
       "      <td>0.9963</td>\n",
       "      <td>3.45</td>\n",
       "      <td>0.58</td>\n",
       "      <td>9.8</td>\n",
       "      <td>0</td>\n",
       "    </tr>\n",
       "    <tr>\n",
       "      <th>646</th>\n",
       "      <td>7.3</td>\n",
       "      <td>0.51</td>\n",
       "      <td>0.18</td>\n",
       "      <td>2.10</td>\n",
       "      <td>0.070</td>\n",
       "      <td>12.0</td>\n",
       "      <td>28.0</td>\n",
       "      <td>0.9977</td>\n",
       "      <td>3.52</td>\n",
       "      <td>0.73</td>\n",
       "      <td>9.5</td>\n",
       "      <td>1</td>\n",
       "    </tr>\n",
       "    <tr>\n",
       "      <th>1260</th>\n",
       "      <td>6.8</td>\n",
       "      <td>0.68</td>\n",
       "      <td>0.21</td>\n",
       "      <td>2.10</td>\n",
       "      <td>0.070</td>\n",
       "      <td>9.0</td>\n",
       "      <td>23.0</td>\n",
       "      <td>0.9955</td>\n",
       "      <td>3.38</td>\n",
       "      <td>0.60</td>\n",
       "      <td>10.3</td>\n",
       "      <td>0</td>\n",
       "    </tr>\n",
       "    <tr>\n",
       "      <th>1188</th>\n",
       "      <td>7.9</td>\n",
       "      <td>0.69</td>\n",
       "      <td>0.21</td>\n",
       "      <td>2.10</td>\n",
       "      <td>0.080</td>\n",
       "      <td>33.0</td>\n",
       "      <td>141.0</td>\n",
       "      <td>0.9962</td>\n",
       "      <td>3.25</td>\n",
       "      <td>0.51</td>\n",
       "      <td>9.9</td>\n",
       "      <td>0</td>\n",
       "    </tr>\n",
       "    <tr>\n",
       "      <th>449</th>\n",
       "      <td>12.5</td>\n",
       "      <td>0.60</td>\n",
       "      <td>0.49</td>\n",
       "      <td>4.30</td>\n",
       "      <td>0.100</td>\n",
       "      <td>5.0</td>\n",
       "      <td>14.0</td>\n",
       "      <td>1.0010</td>\n",
       "      <td>3.25</td>\n",
       "      <td>0.74</td>\n",
       "      <td>11.9</td>\n",
       "      <td>1</td>\n",
       "    </tr>\n",
       "    <tr>\n",
       "      <th>894</th>\n",
       "      <td>9.3</td>\n",
       "      <td>0.50</td>\n",
       "      <td>0.36</td>\n",
       "      <td>1.80</td>\n",
       "      <td>0.084</td>\n",
       "      <td>6.0</td>\n",
       "      <td>17.0</td>\n",
       "      <td>0.9970</td>\n",
       "      <td>3.27</td>\n",
       "      <td>0.77</td>\n",
       "      <td>10.8</td>\n",
       "      <td>1</td>\n",
       "    </tr>\n",
       "    <tr>\n",
       "      <th>1282</th>\n",
       "      <td>6.4</td>\n",
       "      <td>0.79</td>\n",
       "      <td>0.04</td>\n",
       "      <td>2.20</td>\n",
       "      <td>0.061</td>\n",
       "      <td>11.0</td>\n",
       "      <td>17.0</td>\n",
       "      <td>0.9959</td>\n",
       "      <td>3.53</td>\n",
       "      <td>0.65</td>\n",
       "      <td>10.4</td>\n",
       "      <td>1</td>\n",
       "    </tr>\n",
       "  </tbody>\n",
       "</table>\n",
       "</div>"
      ],
      "text/plain": [
       "      fixed acidity  volatile acidity  citric acid  residual sugar  chlorides  \\\n",
       "403            11.0              0.26         0.68            2.55      0.085   \n",
       "261             7.5              0.53         0.06            2.60      0.086   \n",
       "930             9.2              0.31         0.36            2.20      0.079   \n",
       "1066            7.1              0.72         0.00            1.80      0.123   \n",
       "646             7.3              0.51         0.18            2.10      0.070   \n",
       "1260            6.8              0.68         0.21            2.10      0.070   \n",
       "1188            7.9              0.69         0.21            2.10      0.080   \n",
       "449            12.5              0.60         0.49            4.30      0.100   \n",
       "894             9.3              0.50         0.36            1.80      0.084   \n",
       "1282            6.4              0.79         0.04            2.20      0.061   \n",
       "\n",
       "      free sulfur dioxide  total sulfur dioxide  density    pH  sulphates  \\\n",
       "403                  10.0                  25.0   0.9970  3.18       0.61   \n",
       "261                  20.0                  44.0   0.9965  3.38       0.59   \n",
       "930                  11.0                  31.0   0.9961  3.33       0.86   \n",
       "1066                  6.0                  14.0   0.9963  3.45       0.58   \n",
       "646                  12.0                  28.0   0.9977  3.52       0.73   \n",
       "1260                  9.0                  23.0   0.9955  3.38       0.60   \n",
       "1188                 33.0                 141.0   0.9962  3.25       0.51   \n",
       "449                   5.0                  14.0   1.0010  3.25       0.74   \n",
       "894                   6.0                  17.0   0.9970  3.27       0.77   \n",
       "1282                 11.0                  17.0   0.9959  3.53       0.65   \n",
       "\n",
       "      alcohol quality  \n",
       "403      11.8       0  \n",
       "261      10.7       1  \n",
       "930      12.0       1  \n",
       "1066      9.8       0  \n",
       "646       9.5       1  \n",
       "1260     10.3       0  \n",
       "1188      9.9       0  \n",
       "449      11.9       1  \n",
       "894      10.8       1  \n",
       "1282     10.4       1  "
      ]
     },
     "execution_count": 20,
     "metadata": {},
     "output_type": "execute_result"
    }
   ],
   "source": [
    "samp = Xte.sample(10).index.values.tolist()\n",
    "samp\n",
    "\n",
    "te_df = pd.concat([Xte.loc[samp],yte.loc[samp]],axis=1)\n",
    "te_df.head(10)"
   ]
  },
  {
   "cell_type": "code",
   "execution_count": 21,
   "id": "7645b534-f730-49ef-9fc9-0f1a77ae62fd",
   "metadata": {
    "colab": {
     "base_uri": "https://localhost:8080/"
    },
    "id": "8c897186-8299-42fd-bc08-461b05245886",
    "outputId": "4244f6d6-58cf-48ce-cfa9-188e47a381ae",
    "tags": []
   },
   "outputs": [
    {
     "name": "stdout",
     "output_type": "stream",
     "text": [
      "Test Data with Index : 261 is Selected for Prediction: \n",
      "\n",
      "\"fixed acidity\" ---:--- 7.5\n",
      "\"volatile acidity\" ---:--- 0.53\n",
      "\"citric acid\" ---:--- 0.06\n",
      "\"residual sugar\" ---:--- 2.6\n",
      "\"chlorides\" ---:--- 0.086\n",
      "\"free sulfur dioxide\" ---:--- 20.0\n",
      "\"total sulfur dioxide\" ---:--- 44.0\n",
      "\"density\" ---:--- 0.9965\n",
      "\"pH\" ---:--- 3.38\n",
      "\"sulphates\" ---:--- 0.59\n",
      "\"alcohol\" ---:--- 10.7\n"
     ]
    }
   ],
   "source": [
    "#inp_data = (13.7,0.415,0.68,2.9,0.085,17.0,43.0,1.0014,3.06,0.80,10.0)\n",
    "#inp_data = np.array(inp_data).reshape(1,-1)\n",
    "\n",
    "idx = te_df.sample().index.values\n",
    "inp_data = Xte.loc[idx].values\n",
    "\n",
    "print(f'Test Data with Index : {idx[0]} is Selected for Prediction: \\n')\n",
    "\n",
    "for fea_name, fea_val in zip(Xte.columns.tolist(), inp_data[0]):\n",
    "    print(f'\"{fea_name}\" ---:--- {fea_val}')"
   ]
  },
  {
   "cell_type": "code",
   "execution_count": 22,
   "id": "b5edd2c2-08fd-488d-82d4-8e1c0b21b298",
   "metadata": {
    "colab": {
     "base_uri": "https://localhost:8080/"
    },
    "id": "f36b7136-0f28-4dde-a4a2-759610dd0b33",
    "outputId": "d802e49a-8899-40ab-8466-9c1fb8daae7c",
    "tags": []
   },
   "outputs": [
    {
     "name": "stdout",
     "output_type": "stream",
     "text": [
      "------------- Prediction for Test Data with Index : 261 --------------------\n",
      "\n",
      "Actual Wine Quality for the Selected Data : 1 \n",
      "\n",
      "Predicted Wine Quality : 1 (High Quality Wine)\n"
     ]
    }
   ],
   "source": [
    "print(f'------------- Prediction for Test Data with Index : {idx[0]} --------------------\\n')\n",
    "\n",
    "print(f'Actual Wine Quality for the Selected Data : {yte[idx[0]]} \\n')\n",
    "\n",
    "pred = mdl_pipe.predict(inp_data)\n",
    "\n",
    "if (pred[0] == 1):\n",
    "    print(f'Predicted Wine Quality : {pred[0]} (High Quality Wine)')\n",
    "else:\n",
    "    print(f'Predicted Wine Quality : {pred[0]} (Low Quality Wine)')"
   ]
  },
  {
   "cell_type": "code",
   "execution_count": null,
   "id": "2f1e13fe-b35a-469c-b9d6-02aae0e82c2f",
   "metadata": {},
   "outputs": [],
   "source": []
  }
 ],
 "metadata": {
  "colab": {
   "provenance": []
  },
  "kernelspec": {
   "display_name": "Python 3 (ipykernel)",
   "language": "python",
   "name": "python3"
  },
  "language_info": {
   "codemirror_mode": {
    "name": "ipython",
    "version": 3
   },
   "file_extension": ".py",
   "mimetype": "text/x-python",
   "name": "python",
   "nbconvert_exporter": "python",
   "pygments_lexer": "ipython3",
   "version": "3.12.8"
  }
 },
 "nbformat": 4,
 "nbformat_minor": 5
}
