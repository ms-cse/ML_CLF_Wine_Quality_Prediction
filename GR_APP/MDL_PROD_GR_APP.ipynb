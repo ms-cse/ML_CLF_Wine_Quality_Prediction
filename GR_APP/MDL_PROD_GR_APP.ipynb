{
 "cells": [
  {
   "cell_type": "markdown",
   "id": "75a0ba21-e186-4f12-97e0-8711764f45db",
   "metadata": {},
   "source": [
    "# ML DEPLOYMENT WITH GRADIO - {\"RED WINE QUALITY\" DATASET}"
   ]
  },
  {
   "cell_type": "markdown",
   "id": "35962799-8b05-4e63-bc25-ed8c3bca55a0",
   "metadata": {},
   "source": [
    "## 1. Importing Modules"
   ]
  },
  {
   "cell_type": "code",
   "execution_count": 1,
   "id": "ad956dd3-454e-478f-870b-7b63b3ed83d3",
   "metadata": {},
   "outputs": [],
   "source": [
    "import numpy as np\n",
    "import pandas as pd\n",
    "\n",
    "from pickle import dump, load\n",
    "\n",
    "import gradio as gr\n",
    "\n",
    "import warnings\n",
    "warnings.filterwarnings('ignore')"
   ]
  },
  {
   "cell_type": "markdown",
   "id": "812c6698-2be8-4c02-8e8a-daf818dab8b8",
   "metadata": {},
   "source": [
    "## 2. Loading Data and Model"
   ]
  },
  {
   "cell_type": "markdown",
   "id": "7ec6fee8-cf34-43dc-b87c-7ca1cb3b9c84",
   "metadata": {},
   "source": [
    "### 2.1 Loading Xtrain and Model"
   ]
  },
  {
   "cell_type": "code",
   "execution_count": 2,
   "id": "52f06387-e3c3-4e21-81e1-54502c217ba8",
   "metadata": {},
   "outputs": [],
   "source": [
    "X = load(open('wine_quality_X_prod.pkl','rb'))\n",
    "pipe = load(open('wine_quality_mdl_prod.pkl','rb'))"
   ]
  },
  {
   "cell_type": "markdown",
   "id": "6b66d8e8-22b1-4607-b93d-dc87dea8eecf",
   "metadata": {},
   "source": [
    "### 2.2 Loading Test Data"
   ]
  },
  {
   "cell_type": "code",
   "execution_count": 3,
   "id": "b1e5f834-54e4-499a-b658-77d75e76a34d",
   "metadata": {
    "tags": []
   },
   "outputs": [
    {
     "name": "stdout",
     "output_type": "stream",
     "text": [
      "Shape of the test dataset : (100, 12)\n"
     ]
    }
   ],
   "source": [
    "te = pd.read_pickle('wine_quality_FE_prod_test.pkl')\n",
    "\n",
    "print(f'Shape of the test dataset : {te.shape}')"
   ]
  },
  {
   "cell_type": "markdown",
   "id": "572673d9-cd7f-4b3a-bfb2-1728a84ef318",
   "metadata": {},
   "source": [
    "### 2.3 Preparing App Samples from Test Data"
   ]
  },
  {
   "cell_type": "code",
   "execution_count": 4,
   "id": "588d9f8b-ecb7-4df1-918b-791765f405b0",
   "metadata": {
    "tags": []
   },
   "outputs": [
    {
     "name": "stdout",
     "output_type": "stream",
     "text": [
      "App Samples with Labels ...\n"
     ]
    }
   ],
   "source": [
    "Xte = te.drop(columns='quality')\n",
    "yte = te['quality']\n",
    "\n",
    "samp = Xte.sample(10).index.values.tolist()\n",
    "samp\n",
    "\n",
    "print('App Samples with Labels ...')\n",
    "te_df = pd.concat([Xte.loc[samp],yte.loc[samp]],axis=1).head(10)"
   ]
  },
  {
   "cell_type": "code",
   "execution_count": 5,
   "id": "028014d9-47b5-4ce0-94cb-6e54fbf234f0",
   "metadata": {
    "tags": []
   },
   "outputs": [
    {
     "name": "stdout",
     "output_type": "stream",
     "text": [
      "App Samples without Labels ...\n"
     ]
    }
   ],
   "source": [
    "print('App Samples without Labels ...')\n",
    "gr_samples = Xte.loc[samp].values.tolist()"
   ]
  },
  {
   "cell_type": "markdown",
   "id": "7102a810-851a-4099-90ed-5b216ade0da9",
   "metadata": {},
   "source": [
    "## 3. Gradio App Development"
   ]
  },
  {
   "cell_type": "markdown",
   "id": "434904ee-7594-442a-93fa-7da1385e52be",
   "metadata": {},
   "source": [
    "### 3.1 Gradio App Prediction Function"
   ]
  },
  {
   "cell_type": "code",
   "execution_count": 6,
   "id": "611cb88e-cac8-4044-b8d6-6d32be5df16f",
   "metadata": {},
   "outputs": [],
   "source": [
    "def wine_quality_prediction(Fixed_Acidity, Volatile_Acidity, Citric_Acid, Residual_Sugar, Chlorides, Free_Sulfur_Dioxide, Total_Sulfur_Dioxide, Density, pH, Sulphates, Alcohol):\n",
    "    Fixed_Acidity = float(Fixed_Acidity)\n",
    "    Volatile_Acidity = float(Volatile_Acidity)\n",
    "    Citric_Acid = float(Citric_Acid)\n",
    "    Residual_Sugar = float(Residual_Sugar)\n",
    "    Chlorides = float(Chlorides)\n",
    "    Free_Sulfur_Dioxide = float(Free_Sulfur_Dioxide)\n",
    "    Total_Sulfur_Dioxide = float(Total_Sulfur_Dioxide)\n",
    "    Density = float(Density)\n",
    "    pH = float(pH)\n",
    "    Sulphates = float(Sulphates)\n",
    "    Alcohol = float(Alcohol)\n",
    "    \n",
    "    \n",
    "    data = np.array([Fixed_Acidity, Volatile_Acidity, Citric_Acid, Residual_Sugar, Chlorides, Free_Sulfur_Dioxide, Total_Sulfur_Dioxide, Density, pH, Sulphates, Alcohol],dtype=object).reshape(1,11)\n",
    "    \n",
    "    res = pipe.predict(data)\n",
    "    \n",
    "    if res[0] == 1:\n",
    "        return 'High Quality Wine'\n",
    "    else:\n",
    "        return 'Low Quality Wine'"
   ]
  },
  {
   "cell_type": "markdown",
   "id": "124b24f1-fed8-4e64-9609-3fb4074c90b0",
   "metadata": {},
   "source": [
    "### 3.2 Gradio App Interface for Input and Output"
   ]
  },
  {
   "cell_type": "code",
   "execution_count": 7,
   "id": "8659c74b-2a7d-4212-9ffb-79df88db80c3",
   "metadata": {},
   "outputs": [],
   "source": [
    "iface = gr.Interface(wine_quality_prediction, \n",
    "        inputs=[gr.inputs.Slider(X[X.columns[0]].min(),X[X.columns[0]].max(),0.1),\n",
    "               gr.inputs.Slider(X[X.columns[1]].min(),X[X.columns[1]].max(),0.01),\n",
    "               gr.inputs.Textbox(default=None),\n",
    "               gr.inputs.Slider(X[X.columns[3]].min(),X[X.columns[3]].max(),0.1),\n",
    "               gr.inputs.Textbox(default=None),\n",
    "               gr.inputs.Textbox(default=None),\n",
    "               gr.inputs.Textbox(default=None),\n",
    "               gr.inputs.Textbox(default=None),\n",
    "               gr.inputs.Slider(X[X.columns[8]].min(),X[X.columns[8]].max(),0.01),\n",
    "               gr.inputs.Slider(X[X.columns[9]].min(),X[X.columns[9]].max(),0.01),\n",
    "               gr.inputs.Slider(X[X.columns[10]].min(),X[X.columns[10]].max(),0.1)], \n",
    "        outputs=\"text\",\n",
    "        layout='horizontal', theme='peach', \n",
    "        title='Wine Quality Predictor App', \n",
    "        description='Enter Details of the Wine Sample', \n",
    "        article='Created by: Manish Sharma',\n",
    "        examples=gr_samples) "
   ]
  },
  {
   "cell_type": "markdown",
   "id": "aefa5c17-2058-438a-b519-a054001e0962",
   "metadata": {},
   "source": [
    "### 3.3 Gradio App Launch"
   ]
  },
  {
   "cell_type": "code",
   "execution_count": 8,
   "id": "9dd5ddb5-5656-42b6-8bcc-c09c7401b380",
   "metadata": {
    "tags": []
   },
   "outputs": [
    {
     "data": {
      "text/html": [
       "<div>\n",
       "<style scoped>\n",
       "    .dataframe tbody tr th:only-of-type {\n",
       "        vertical-align: middle;\n",
       "    }\n",
       "\n",
       "    .dataframe tbody tr th {\n",
       "        vertical-align: top;\n",
       "    }\n",
       "\n",
       "    .dataframe thead th {\n",
       "        text-align: right;\n",
       "    }\n",
       "</style>\n",
       "<table border=\"1\" class=\"dataframe\">\n",
       "  <thead>\n",
       "    <tr style=\"text-align: right;\">\n",
       "      <th></th>\n",
       "      <th>fixed acidity</th>\n",
       "      <th>volatile acidity</th>\n",
       "      <th>citric acid</th>\n",
       "      <th>residual sugar</th>\n",
       "      <th>chlorides</th>\n",
       "      <th>free sulfur dioxide</th>\n",
       "      <th>total sulfur dioxide</th>\n",
       "      <th>density</th>\n",
       "      <th>pH</th>\n",
       "      <th>sulphates</th>\n",
       "      <th>alcohol</th>\n",
       "      <th>quality</th>\n",
       "    </tr>\n",
       "  </thead>\n",
       "  <tbody>\n",
       "    <tr>\n",
       "      <th>1066</th>\n",
       "      <td>7.1</td>\n",
       "      <td>0.72</td>\n",
       "      <td>0.00</td>\n",
       "      <td>1.8</td>\n",
       "      <td>0.123</td>\n",
       "      <td>6.0</td>\n",
       "      <td>14.0</td>\n",
       "      <td>0.99627</td>\n",
       "      <td>3.45</td>\n",
       "      <td>0.58</td>\n",
       "      <td>9.8</td>\n",
       "      <td>0</td>\n",
       "    </tr>\n",
       "    <tr>\n",
       "      <th>646</th>\n",
       "      <td>7.3</td>\n",
       "      <td>0.51</td>\n",
       "      <td>0.18</td>\n",
       "      <td>2.1</td>\n",
       "      <td>0.070</td>\n",
       "      <td>12.0</td>\n",
       "      <td>28.0</td>\n",
       "      <td>0.99768</td>\n",
       "      <td>3.52</td>\n",
       "      <td>0.73</td>\n",
       "      <td>9.5</td>\n",
       "      <td>1</td>\n",
       "    </tr>\n",
       "    <tr>\n",
       "      <th>1307</th>\n",
       "      <td>7.2</td>\n",
       "      <td>0.39</td>\n",
       "      <td>0.32</td>\n",
       "      <td>1.8</td>\n",
       "      <td>0.065</td>\n",
       "      <td>34.0</td>\n",
       "      <td>60.0</td>\n",
       "      <td>0.99714</td>\n",
       "      <td>3.46</td>\n",
       "      <td>0.78</td>\n",
       "      <td>9.9</td>\n",
       "      <td>0</td>\n",
       "    </tr>\n",
       "    <tr>\n",
       "      <th>473</th>\n",
       "      <td>14.3</td>\n",
       "      <td>0.31</td>\n",
       "      <td>0.74</td>\n",
       "      <td>1.8</td>\n",
       "      <td>0.075</td>\n",
       "      <td>6.0</td>\n",
       "      <td>15.0</td>\n",
       "      <td>1.00080</td>\n",
       "      <td>2.86</td>\n",
       "      <td>0.79</td>\n",
       "      <td>8.4</td>\n",
       "      <td>1</td>\n",
       "    </tr>\n",
       "    <tr>\n",
       "      <th>1140</th>\n",
       "      <td>8.2</td>\n",
       "      <td>0.44</td>\n",
       "      <td>0.24</td>\n",
       "      <td>2.3</td>\n",
       "      <td>0.063</td>\n",
       "      <td>10.0</td>\n",
       "      <td>28.0</td>\n",
       "      <td>0.99613</td>\n",
       "      <td>3.25</td>\n",
       "      <td>0.53</td>\n",
       "      <td>10.2</td>\n",
       "      <td>1</td>\n",
       "    </tr>\n",
       "    <tr>\n",
       "      <th>1064</th>\n",
       "      <td>7.1</td>\n",
       "      <td>0.60</td>\n",
       "      <td>0.01</td>\n",
       "      <td>2.3</td>\n",
       "      <td>0.079</td>\n",
       "      <td>24.0</td>\n",
       "      <td>37.0</td>\n",
       "      <td>0.99514</td>\n",
       "      <td>3.40</td>\n",
       "      <td>0.61</td>\n",
       "      <td>10.9</td>\n",
       "      <td>1</td>\n",
       "    </tr>\n",
       "    <tr>\n",
       "      <th>812</th>\n",
       "      <td>10.2</td>\n",
       "      <td>0.34</td>\n",
       "      <td>0.48</td>\n",
       "      <td>2.1</td>\n",
       "      <td>0.052</td>\n",
       "      <td>5.0</td>\n",
       "      <td>9.0</td>\n",
       "      <td>0.99458</td>\n",
       "      <td>3.20</td>\n",
       "      <td>0.69</td>\n",
       "      <td>12.1</td>\n",
       "      <td>1</td>\n",
       "    </tr>\n",
       "    <tr>\n",
       "      <th>797</th>\n",
       "      <td>7.6</td>\n",
       "      <td>0.40</td>\n",
       "      <td>0.29</td>\n",
       "      <td>1.9</td>\n",
       "      <td>0.078</td>\n",
       "      <td>29.0</td>\n",
       "      <td>66.0</td>\n",
       "      <td>0.99710</td>\n",
       "      <td>3.45</td>\n",
       "      <td>0.59</td>\n",
       "      <td>9.5</td>\n",
       "      <td>1</td>\n",
       "    </tr>\n",
       "    <tr>\n",
       "      <th>800</th>\n",
       "      <td>7.2</td>\n",
       "      <td>0.38</td>\n",
       "      <td>0.38</td>\n",
       "      <td>2.8</td>\n",
       "      <td>0.068</td>\n",
       "      <td>23.0</td>\n",
       "      <td>42.0</td>\n",
       "      <td>0.99356</td>\n",
       "      <td>3.34</td>\n",
       "      <td>0.72</td>\n",
       "      <td>12.9</td>\n",
       "      <td>1</td>\n",
       "    </tr>\n",
       "    <tr>\n",
       "      <th>328</th>\n",
       "      <td>14.0</td>\n",
       "      <td>0.41</td>\n",
       "      <td>0.63</td>\n",
       "      <td>3.8</td>\n",
       "      <td>0.089</td>\n",
       "      <td>6.0</td>\n",
       "      <td>47.0</td>\n",
       "      <td>1.00140</td>\n",
       "      <td>3.01</td>\n",
       "      <td>0.81</td>\n",
       "      <td>10.8</td>\n",
       "      <td>1</td>\n",
       "    </tr>\n",
       "  </tbody>\n",
       "</table>\n",
       "</div>"
      ],
      "text/plain": [
       "      fixed acidity  volatile acidity  citric acid  residual sugar  chlorides  \\\n",
       "1066            7.1              0.72         0.00             1.8      0.123   \n",
       "646             7.3              0.51         0.18             2.1      0.070   \n",
       "1307            7.2              0.39         0.32             1.8      0.065   \n",
       "473            14.3              0.31         0.74             1.8      0.075   \n",
       "1140            8.2              0.44         0.24             2.3      0.063   \n",
       "1064            7.1              0.60         0.01             2.3      0.079   \n",
       "812            10.2              0.34         0.48             2.1      0.052   \n",
       "797             7.6              0.40         0.29             1.9      0.078   \n",
       "800             7.2              0.38         0.38             2.8      0.068   \n",
       "328            14.0              0.41         0.63             3.8      0.089   \n",
       "\n",
       "      free sulfur dioxide  total sulfur dioxide  density    pH  sulphates  \\\n",
       "1066                  6.0                  14.0  0.99627  3.45       0.58   \n",
       "646                  12.0                  28.0  0.99768  3.52       0.73   \n",
       "1307                 34.0                  60.0  0.99714  3.46       0.78   \n",
       "473                   6.0                  15.0  1.00080  2.86       0.79   \n",
       "1140                 10.0                  28.0  0.99613  3.25       0.53   \n",
       "1064                 24.0                  37.0  0.99514  3.40       0.61   \n",
       "812                   5.0                   9.0  0.99458  3.20       0.69   \n",
       "797                  29.0                  66.0  0.99710  3.45       0.59   \n",
       "800                  23.0                  42.0  0.99356  3.34       0.72   \n",
       "328                   6.0                  47.0  1.00140  3.01       0.81   \n",
       "\n",
       "      alcohol quality  \n",
       "1066      9.8       0  \n",
       "646       9.5       1  \n",
       "1307      9.9       0  \n",
       "473       8.4       1  \n",
       "1140     10.2       1  \n",
       "1064     10.9       1  \n",
       "812      12.1       1  \n",
       "797       9.5       1  \n",
       "800      12.9       1  \n",
       "328      10.8       1  "
      ]
     },
     "execution_count": 8,
     "metadata": {},
     "output_type": "execute_result"
    }
   ],
   "source": [
    "te_df"
   ]
  },
  {
   "cell_type": "code",
   "execution_count": 9,
   "id": "10375a13-6722-4be7-b46c-db93d1e3794f",
   "metadata": {},
   "outputs": [
    {
     "name": "stdout",
     "output_type": "stream",
     "text": [
      "Running on local URL:  http://127.0.0.1:7860\n",
      "\n",
      "To create a public link, set `share=True` in `launch()`.\n"
     ]
    },
    {
     "data": {
      "text/html": [
       "<div><iframe src=\"http://127.0.0.1:7860/\" width=\"1125\" height=\"750\" allow=\"autoplay; camera; microphone; clipboard-read; clipboard-write;\" frameborder=\"0\" allowfullscreen></iframe></div>"
      ],
      "text/plain": [
       "<IPython.core.display.HTML object>"
      ]
     },
     "metadata": {},
     "output_type": "display_data"
    },
    {
     "name": "stdout",
     "output_type": "stream",
     "text": [
      "Keyboard interruption in main thread... closing server.\n"
     ]
    },
    {
     "data": {
      "text/plain": []
     },
     "execution_count": 9,
     "metadata": {},
     "output_type": "execute_result"
    }
   ],
   "source": [
    "iface.launch(share=False, debug=True, width=1125, height=750)"
   ]
  }
 ],
 "metadata": {
  "kernelspec": {
   "display_name": "Python 3 (ipykernel)",
   "language": "python",
   "name": "python3"
  },
  "language_info": {
   "codemirror_mode": {
    "name": "ipython",
    "version": 3
   },
   "file_extension": ".py",
   "mimetype": "text/x-python",
   "name": "python",
   "nbconvert_exporter": "python",
   "pygments_lexer": "ipython3",
   "version": "3.10.10"
  }
 },
 "nbformat": 4,
 "nbformat_minor": 5
}
