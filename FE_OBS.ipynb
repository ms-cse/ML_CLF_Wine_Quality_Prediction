{
 "cells": [
  {
   "cell_type": "markdown",
   "id": "38a4ff0d-93a7-4d10-8806-11e6eae345c2",
   "metadata": {},
   "source": [
    "# FEATURE ENGINEERING OBSERVATIONS - {\"RED WINE QUALITY\" DATASET}"
   ]
  },
  {
   "cell_type": "markdown",
   "id": "4356391f-028f-4d8a-b496-c4a7dd812f17",
   "metadata": {},
   "source": [
    "## A. Observations\n",
    "#### 1. Target feature \"quality\" should be remapped as \"low\" for (3,4,5) and \"high\" for (6,7,8) labels.\n",
    "#### 2. \"SMOTE\" oversampling technique should to be applied to balance the class distribution.\n",
    "#### 3. Outliers are present in the range of [0-10] %. Should apply outliers handling techniques.\n",
    "#### 4. Data in numerical columns is skewed. Should treat feature with transformation operations.\n",
    "#### 5. Check if the features are multi-collinear or not.\n",
    "#### 6. Feature scaling techniques must be applied to bring the dataset in the suitable form for model building.\n",
    "#### 7. Feature selection techniques must be applied to have better performance of the model."
   ]
  },
  {
   "cell_type": "markdown",
   "id": "b4ed16b9-9a24-4f5f-9034-9247e89eb97a",
   "metadata": {},
   "source": [
    "## B. Steps of Feature Engineering\n",
    "#### 1. Binarization of target feature 'quality' as 'Low' and 'High' for Train, Validation and Test dataset.\n",
    "#### 2. Applying the SMOTE oversampling technique on the Train dataset to balance the distribution of target feature 'quality'.\n",
    "\n",
    "#### 3. Oultier Detection and Handling using Capping Technique\n",
    "##### - 'fixed acidity', 'volatile acidity','citric acid','residual sugar','chlorides','free sulfur dioxide','total sulfur dioxide','density','pH','sulphates','alcohol'\n",
    "\n",
    "##### - Detect and handle outliers in numerical features of Train dataset only.\n",
    "\n",
    "#### 4. Feature Transformation (to be applied in pipeline)\n",
    "#### - Checking various features transformations: (Log), (Square), (Reciprocal), (Square Root), (Exponential), (Yeo-Johnson)\n",
    "##### - 'fixed acidity', 'volatile acidity','citric acid','residual sugar','chlorides','free sulfur dioxide','total sulfur dioxide','density','pH','sulphates','alcohol'\n",
    "\n",
    "##### - 'Yeo-Johnson' Transformation is performing better in comparison to other transformations.\n",
    "##### - Apply 'Yeo-Johnson' on numerical features of Train, Validation, and Test dataset.\n",
    "\n",
    "#### 5. Multi-Colllinearity Check using VIF \n",
    "##### - VIF of other features is too high except 4 features ('total sulfur dioxide', 'free sulfur dioxide', 'volatile acidity', 'citric acid').\n",
    "##### - High multi-collinearity exists between the other features.\n",
    "\n",
    "#### 6. Scaling (StandardScaler / MinMaxScaler) (to be applied in pipeline)\n",
    "\n",
    "##### - 'fixed acidity', 'volatile acidity','citric acid','residual sugar','chlorides','free sulfur dioxide','total sulfur dioxide','density','pH','sulphates','alcohol'\n",
    "##### - Apply 'StandardScaler' on numerical features of Train, Validation, and Test dataset to reduce the skew.\n",
    "\n",
    "#### 7. Feature Selection Techniques (to be applied in pipeline)\n",
    "##### - Apply SelectKBest with mutual_info_classif to select the top k features for Model Building using estimators.\n",
    "##### - Treat Train, Validation, and Test dataset with feature selection strategy."
   ]
  },
  {
   "cell_type": "markdown",
   "id": "3d938dff-c558-49f8-af0c-9ba544f66505",
   "metadata": {},
   "source": [
    "## C. Saving the feature engineered train and test datasets into CSV and PKL files\n",
    "#### - Train dataset is saved after outlier detection and handling step.\n",
    "##### - 'wine_quality_FE_final_train.csv'\n",
    "##### - 'wine_quality_FE_final_train.pkl'\n",
    "\n",
    "#### - Validation and Test data is saved after target labeling step.\n",
    "##### - 'wine_quality_FE_final_valid.csv'\n",
    "##### - 'wine_quality_FE_final_valid.pkl'\n",
    "##### - 'wine_quality_FE_final_test.csv'\n",
    "##### - 'wine_quality_FE_final_test.pkl'"
   ]
  },
  {
   "cell_type": "code",
   "execution_count": null,
   "id": "b57f9751-2038-455a-adb3-2eec062888b1",
   "metadata": {},
   "outputs": [],
   "source": []
  }
 ],
 "metadata": {
  "kernelspec": {
   "display_name": "Python 3 (ipykernel)",
   "language": "python",
   "name": "python3"
  },
  "language_info": {
   "codemirror_mode": {
    "name": "ipython",
    "version": 3
   },
   "file_extension": ".py",
   "mimetype": "text/x-python",
   "name": "python",
   "nbconvert_exporter": "python",
   "pygments_lexer": "ipython3",
   "version": "3.10.10"
  }
 },
 "nbformat": 4,
 "nbformat_minor": 5
}
