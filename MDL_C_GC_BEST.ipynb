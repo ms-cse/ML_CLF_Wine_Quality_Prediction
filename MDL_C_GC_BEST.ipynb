{
 "cells": [
  {
   "cell_type": "markdown",
   "id": "f6079c98-4e48-499e-894f-c50109507c87",
   "metadata": {
    "id": "f6079c98-4e48-499e-894f-c50109507c87"
   },
   "source": [
    "# ML CLASSIFICATION - {\"RED WINE QUALITY\" DATASET}"
   ]
  },
  {
   "cell_type": "markdown",
   "id": "a6709c06-804a-47d1-b0df-5aee8b18f5a3",
   "metadata": {
    "id": "a6709c06-804a-47d1-b0df-5aee8b18f5a3"
   },
   "source": [
    "## 1. Importing Modules and Setting Configurations"
   ]
  },
  {
   "cell_type": "code",
   "execution_count": 1,
   "id": "36db63e5-2d56-407a-b8c0-22812c099423",
   "metadata": {
    "id": "36db63e5-2d56-407a-b8c0-22812c099423",
    "tags": []
   },
   "outputs": [],
   "source": [
    "import numpy as np\n",
    "import pandas as pd\n",
    "\n",
    "import matplotlib.pyplot as plt\n",
    "import seaborn as sb\n",
    "\n",
    "from sklearn.preprocessing import PowerTransformer, StandardScaler\n",
    "from sklearn.compose import ColumnTransformer\n",
    "\n",
    "from sklearn.feature_selection import SelectKBest, mutual_info_classif\n",
    "\n",
    "from sklearn.linear_model import LogisticRegression\n",
    "from sklearn.neighbors import KNeighborsClassifier\n",
    "from sklearn.svm import SVC\n",
    "from sklearn.tree import DecisionTreeClassifier\n",
    "from sklearn.ensemble import BaggingClassifier\n",
    "from sklearn.ensemble import RandomForestClassifier\n",
    "from sklearn.ensemble import GradientBoostingClassifier\n",
    "from sklearn.ensemble import HistGradientBoostingClassifier\n",
    "from xgboost import XGBClassifier\n",
    "\n",
    "from sklearn.pipeline import Pipeline\n",
    "\n",
    "from sklearn.model_selection import StratifiedKFold, cross_val_score, cross_validate\n",
    "\n",
    "from sklearn.model_selection import GridSearchCV\n",
    "\n",
    "from sklearn.metrics import accuracy_score, confusion_matrix, classification_report\n",
    "\n",
    "from pickle import dump, load\n",
    "\n",
    "import warnings\n",
    "warnings.filterwarnings('ignore')\n",
    "\n",
    "from sklearn import set_config\n",
    "set_config(display='diagram')"
   ]
  },
  {
   "cell_type": "code",
   "execution_count": 2,
   "id": "b112b0e4-d8d7-439d-8a6c-b57e853f3a7e",
   "metadata": {
    "id": "b112b0e4-d8d7-439d-8a6c-b57e853f3a7e",
    "tags": []
   },
   "outputs": [],
   "source": [
    "# PD Options\n",
    "\n",
    "pd.set_option('display.min_rows', 5)\n",
    "pd.set_option('display.max_rows', 25)\n",
    "pd.set_option('display.precision', 4)\n",
    "\n",
    "# SB Options\n",
    "\n",
    "sb.set_theme(context='notebook', style='whitegrid', palette='pastel', font='times new roman', font_scale=1.25)"
   ]
  },
  {
   "cell_type": "markdown",
   "id": "5b60c742-f76a-4463-aff4-81be0075736f",
   "metadata": {
    "id": "5b60c742-f76a-4463-aff4-81be0075736f"
   },
   "source": [
    "## 2. Importing Train Dataset"
   ]
  },
  {
   "cell_type": "code",
   "execution_count": 3,
   "id": "9b662dfd-16ea-436c-b008-a31ae221d1a4",
   "metadata": {
    "colab": {
     "base_uri": "https://localhost:8080/",
     "height": 241
    },
    "id": "9b662dfd-16ea-436c-b008-a31ae221d1a4",
    "outputId": "bdf7fcbf-f014-4d0e-e83c-173f452d06bc",
    "tags": []
   },
   "outputs": [
    {
     "name": "stdout",
     "output_type": "stream",
     "text": [
      "Shape of the train dataset : (1230, 12)\n"
     ]
    },
    {
     "data": {
      "text/html": [
       "<div>\n",
       "<style scoped>\n",
       "    .dataframe tbody tr th:only-of-type {\n",
       "        vertical-align: middle;\n",
       "    }\n",
       "\n",
       "    .dataframe tbody tr th {\n",
       "        vertical-align: top;\n",
       "    }\n",
       "\n",
       "    .dataframe thead th {\n",
       "        text-align: right;\n",
       "    }\n",
       "</style>\n",
       "<table border=\"1\" class=\"dataframe\">\n",
       "  <thead>\n",
       "    <tr style=\"text-align: right;\">\n",
       "      <th></th>\n",
       "      <th>fixed acidity</th>\n",
       "      <th>volatile acidity</th>\n",
       "      <th>citric acid</th>\n",
       "      <th>residual sugar</th>\n",
       "      <th>chlorides</th>\n",
       "      <th>free sulfur dioxide</th>\n",
       "      <th>total sulfur dioxide</th>\n",
       "      <th>density</th>\n",
       "      <th>pH</th>\n",
       "      <th>sulphates</th>\n",
       "      <th>alcohol</th>\n",
       "      <th>quality</th>\n",
       "    </tr>\n",
       "  </thead>\n",
       "  <tbody>\n",
       "    <tr>\n",
       "      <th>0</th>\n",
       "      <td>6.5</td>\n",
       "      <td>0.510</td>\n",
       "      <td>0.15</td>\n",
       "      <td>3.0</td>\n",
       "      <td>0.064</td>\n",
       "      <td>12.0</td>\n",
       "      <td>27.0</td>\n",
       "      <td>0.9929</td>\n",
       "      <td>3.33</td>\n",
       "      <td>0.590</td>\n",
       "      <td>12.8</td>\n",
       "      <td>1</td>\n",
       "    </tr>\n",
       "    <tr>\n",
       "      <th>1</th>\n",
       "      <td>10.1</td>\n",
       "      <td>0.310</td>\n",
       "      <td>0.44</td>\n",
       "      <td>2.3</td>\n",
       "      <td>0.080</td>\n",
       "      <td>22.0</td>\n",
       "      <td>46.0</td>\n",
       "      <td>0.9988</td>\n",
       "      <td>3.32</td>\n",
       "      <td>0.670</td>\n",
       "      <td>9.7</td>\n",
       "      <td>1</td>\n",
       "    </tr>\n",
       "    <tr>\n",
       "      <th>2</th>\n",
       "      <td>10.5</td>\n",
       "      <td>0.510</td>\n",
       "      <td>0.64</td>\n",
       "      <td>2.4</td>\n",
       "      <td>0.107</td>\n",
       "      <td>6.0</td>\n",
       "      <td>15.0</td>\n",
       "      <td>0.9973</td>\n",
       "      <td>3.09</td>\n",
       "      <td>0.660</td>\n",
       "      <td>11.8</td>\n",
       "      <td>1</td>\n",
       "    </tr>\n",
       "    <tr>\n",
       "      <th>3</th>\n",
       "      <td>7.6</td>\n",
       "      <td>0.645</td>\n",
       "      <td>0.03</td>\n",
       "      <td>1.9</td>\n",
       "      <td>0.086</td>\n",
       "      <td>14.0</td>\n",
       "      <td>57.0</td>\n",
       "      <td>0.9969</td>\n",
       "      <td>3.37</td>\n",
       "      <td>0.460</td>\n",
       "      <td>10.3</td>\n",
       "      <td>0</td>\n",
       "    </tr>\n",
       "    <tr>\n",
       "      <th>4</th>\n",
       "      <td>10.7</td>\n",
       "      <td>0.670</td>\n",
       "      <td>0.22</td>\n",
       "      <td>2.7</td>\n",
       "      <td>0.107</td>\n",
       "      <td>17.0</td>\n",
       "      <td>34.0</td>\n",
       "      <td>1.0004</td>\n",
       "      <td>3.28</td>\n",
       "      <td>0.975</td>\n",
       "      <td>9.9</td>\n",
       "      <td>1</td>\n",
       "    </tr>\n",
       "  </tbody>\n",
       "</table>\n",
       "</div>"
      ],
      "text/plain": [
       "   fixed acidity  volatile acidity  citric acid  residual sugar  chlorides  \\\n",
       "0            6.5             0.510         0.15             3.0      0.064   \n",
       "1           10.1             0.310         0.44             2.3      0.080   \n",
       "2           10.5             0.510         0.64             2.4      0.107   \n",
       "3            7.6             0.645         0.03             1.9      0.086   \n",
       "4           10.7             0.670         0.22             2.7      0.107   \n",
       "\n",
       "   free sulfur dioxide  total sulfur dioxide  density    pH  sulphates  \\\n",
       "0                 12.0                  27.0   0.9929  3.33      0.590   \n",
       "1                 22.0                  46.0   0.9988  3.32      0.670   \n",
       "2                  6.0                  15.0   0.9973  3.09      0.660   \n",
       "3                 14.0                  57.0   0.9969  3.37      0.460   \n",
       "4                 17.0                  34.0   1.0004  3.28      0.975   \n",
       "\n",
       "   alcohol quality  \n",
       "0     12.8       1  \n",
       "1      9.7       1  \n",
       "2     11.8       1  \n",
       "3     10.3       0  \n",
       "4      9.9       1  "
      ]
     },
     "execution_count": 3,
     "metadata": {},
     "output_type": "execute_result"
    }
   ],
   "source": [
    "tr = pd.read_pickle('wine_quality_FE_final_train.pkl')\n",
    "\n",
    "print(f'Shape of the train dataset : {tr.shape}')\n",
    "tr.head(5)"
   ]
  },
  {
   "cell_type": "code",
   "execution_count": 4,
   "id": "f3aa1c1a-60c6-447e-beb8-7bb5989e050e",
   "metadata": {
    "id": "f3aa1c1a-60c6-447e-beb8-7bb5989e050e",
    "tags": []
   },
   "outputs": [],
   "source": [
    "Xtr = tr.drop(columns='quality')\n",
    "ytr = tr['quality']"
   ]
  },
  {
   "cell_type": "markdown",
   "id": "ef5ab645-6edf-4228-828f-65c638b92dc5",
   "metadata": {
    "id": "ef5ab645-6edf-4228-828f-65c638b92dc5"
   },
   "source": [
    "## 3. Hyper Parameter Tuning"
   ]
  },
  {
   "cell_type": "code",
   "execution_count": 76,
   "id": "50c67d11-e646-4f78-9ffe-5d05219b3b95",
   "metadata": {
    "id": "50c67d11-e646-4f78-9ffe-5d05219b3b95",
    "tags": []
   },
   "outputs": [],
   "source": [
    "# Pre Processors ---------------------------------------------------------------------------------------------\n",
    "ct_preproc = ColumnTransformer([\n",
    "    ('yj',PowerTransformer(method='yeo-johnson', standardize=False),slice(0,11)),\n",
    "    ('ss',StandardScaler(),slice(0,11))\n",
    "    ], remainder='passthrough')\n",
    "\n",
    "\n",
    "# Feature Selection ------------------------------------------------------------------------------------------\n",
    "skb = SelectKBest(mutual_info_classif, k='all')"
   ]
  },
  {
   "cell_type": "markdown",
   "id": "1fb28c19-30b2-4cf7-8231-1042a17c8dad",
   "metadata": {
    "id": "1fb28c19-30b2-4cf7-8231-1042a17c8dad"
   },
   "source": [
    "### 3.1 LogisticRegression"
   ]
  },
  {
   "cell_type": "code",
   "execution_count": 77,
   "id": "21af369f-94ee-4146-99fc-db1c9d9e9fb8",
   "metadata": {
    "colab": {
     "base_uri": "https://localhost:8080/"
    },
    "id": "21af369f-94ee-4146-99fc-db1c9d9e9fb8",
    "outputId": "837e6ce0-d412-42a4-ac3a-2579ffb2fe13",
    "tags": []
   },
   "outputs": [
    {
     "name": "stdout",
     "output_type": "stream",
     "text": [
      "Param Grid : \n",
      " {'mdl__C': [0.1, 0.5, 1.0], 'mdl__max_iter': [50, 100, 200], 'mdl__penalty': ['l2'], 'mdl__solver': ['lbfgs', 'sag', 'liblinear', 'newton-cg']} \n",
      "\n",
      "KFold Setting : \n",
      " StratifiedKFold(n_splits=10, random_state=46, shuffle=True) \n",
      "\n",
      "Fitting 10 folds for each of 36 candidates, totalling 360 fits\n",
      "Best Params : \n",
      " {'mdl__C': 1.0, 'mdl__max_iter': 50, 'mdl__penalty': 'l2', 'mdl__solver': 'lbfgs'} \n",
      "\n",
      "Best Scores : \n",
      " 76.3415 %\n"
     ]
    }
   ],
   "source": [
    "# ML Pipeline ------------------------------------------------------------------------------------------------\n",
    "steps = [('ct_preproc',ct_preproc),\n",
    "         ('skb',skb),\n",
    "         ('mdl',LogisticRegression(random_state=46))]\n",
    "pipe = Pipeline(steps)\n",
    "\n",
    "\n",
    "# Model Param Grid -------------------------------------------------------------------------------------------\n",
    "param_grid = {\n",
    "    'mdl__C': [0.1,0.5,1.0],\n",
    "    'mdl__max_iter':[50,100,200],\n",
    "    'mdl__penalty':['l2'],                                           # ['l2','elasticnet',None]\n",
    "    'mdl__solver':['lbfgs','sag','liblinear','newton-cg']            # ['lbfgs','liblinear','newton-cg','sag','saga']\n",
    "    #'mdl__l1_ratio':[1,0.5,0]                                       # 1=l1(lasso) ----- 0=l2(ridge)\n",
    "    }\n",
    "print(f'Param Grid : \\n {param_grid} \\n')\n",
    "\n",
    "\n",
    "# GridSearchCV Configuration ---------------------------------------------------------------------------------\n",
    "kfold = StratifiedKFold(n_splits=10, shuffle=True, random_state=46)\n",
    "print(f'KFold Setting : \\n {kfold} \\n')\n",
    "gscv = GridSearchCV(pipe, param_grid, cv=kfold, scoring='accuracy', n_jobs=-1, verbose=4)\n",
    "gscv.fit(Xtr, ytr)\n",
    "\n",
    "\n",
    "# GridSearch Results -----------------------------------------------------------------------------------------\n",
    "print(f'Best Params : \\n {gscv.best_params_} \\n')\n",
    "print(f'Best Scores : \\n {round(gscv.best_score_*100,4)} %')"
   ]
  },
  {
   "cell_type": "markdown",
   "id": "e7e07866-141f-4860-a548-9272fff3f48c",
   "metadata": {
    "id": "e7e07866-141f-4860-a548-9272fff3f48c"
   },
   "source": [
    "### 3.2 KNeighborsClassifier"
   ]
  },
  {
   "cell_type": "code",
   "execution_count": 78,
   "id": "a11c0754-e165-4787-961c-664e1a0ea36f",
   "metadata": {
    "colab": {
     "base_uri": "https://localhost:8080/"
    },
    "id": "a11c0754-e165-4787-961c-664e1a0ea36f",
    "outputId": "982d96db-908c-4164-d303-ba60c46aa5fe",
    "tags": []
   },
   "outputs": [
    {
     "name": "stdout",
     "output_type": "stream",
     "text": [
      "Param Grid : \n",
      " {'mdl__n_neighbors': [1, 5, 9, 13, 17], 'mdl__weights': ['uniform', 'distance'], 'mdl__metric': ['euclidean', 'manhattan', 'minkowski'], 'mdl__algorithm': ['brute', 'auto']} \n",
      "\n",
      "KFold Setting : \n",
      " StratifiedKFold(n_splits=10, random_state=46, shuffle=True) \n",
      "\n",
      "Fitting 10 folds for each of 60 candidates, totalling 600 fits\n",
      "Best Params : \n",
      " {'mdl__algorithm': 'brute', 'mdl__metric': 'euclidean', 'mdl__n_neighbors': 17, 'mdl__weights': 'distance'} \n",
      "\n",
      "Best Scores : \n",
      " 76.1789 %\n"
     ]
    }
   ],
   "source": [
    "# ML Pipeline ------------------------------------------------------------------------------------------------\n",
    "steps = [('ct_preproc',ct_preproc),\n",
    "         ('skb',skb),\n",
    "         ('mdl',KNeighborsClassifier())]\n",
    "pipe = Pipeline(steps)\n",
    "\n",
    "\n",
    "# Model Param Grid -------------------------------------------------------------------------------------------\n",
    "param_grid = {\n",
    "    'mdl__n_neighbors': [1,5,9,13,17],\n",
    "    'mdl__weights':['uniform', 'distance'],\n",
    "    'mdl__metric':['euclidean', 'manhattan', 'minkowski'],\n",
    "    'mdl__algorithm':['brute','auto']\n",
    "    }\n",
    "print(f'Param Grid : \\n {param_grid} \\n')\n",
    "\n",
    "\n",
    "# GridSearchCV Configuration ---------------------------------------------------------------------------------\n",
    "kfold = StratifiedKFold(n_splits=10, shuffle=True, random_state=46)\n",
    "print(f'KFold Setting : \\n {kfold} \\n')\n",
    "gscv = GridSearchCV(pipe, param_grid, cv=kfold, scoring='accuracy', n_jobs=-1, verbose=4)\n",
    "gscv.fit(Xtr, ytr)\n",
    "\n",
    "\n",
    "# GridSearch Results -----------------------------------------------------------------------------------------\n",
    "print(f'Best Params : \\n {gscv.best_params_} \\n')\n",
    "print(f'Best Scores : \\n {round(gscv.best_score_*100,4)} %')"
   ]
  },
  {
   "cell_type": "markdown",
   "id": "6f0ec070-f262-480e-9d49-9f6b2ae7cfa0",
   "metadata": {
    "id": "6f0ec070-f262-480e-9d49-9f6b2ae7cfa0"
   },
   "source": [
    "### 3.3 SVC"
   ]
  },
  {
   "cell_type": "code",
   "execution_count": 79,
   "id": "8b20635d-db13-4f7b-b87f-d85f3ee7aa05",
   "metadata": {
    "colab": {
     "base_uri": "https://localhost:8080/"
    },
    "id": "8b20635d-db13-4f7b-b87f-d85f3ee7aa05",
    "outputId": "27128623-1b1b-49d1-ec7b-8361eb0ce526",
    "tags": []
   },
   "outputs": [
    {
     "name": "stdout",
     "output_type": "stream",
     "text": [
      "Param Grid : \n",
      " {'mdl__C': [1.0, 0.1, 0.01], 'mdl__kernel': ['linear', 'poly', 'rbf', 'sigmoid'], 'mdl__gamma': ['scale', 'auto'], 'mdl__degree': [2, 3, 4, 5]} \n",
      "\n",
      "KFold Setting : \n",
      " StratifiedKFold(n_splits=10, random_state=46, shuffle=True) \n",
      "\n",
      "Fitting 10 folds for each of 96 candidates, totalling 960 fits\n",
      "Best Params : \n",
      " {'mdl__C': 1.0, 'mdl__degree': 2, 'mdl__gamma': 'auto', 'mdl__kernel': 'rbf'} \n",
      "\n",
      "Best Scores : \n",
      " 76.5854 %\n"
     ]
    }
   ],
   "source": [
    "# ML Pipeline ------------------------------------------------------------------------------------------------\n",
    "steps = [('ct_preproc',ct_preproc),\n",
    "         ('skb',skb),\n",
    "         ('mdl',SVC(random_state=46))]\n",
    "pipe = Pipeline(steps)\n",
    "\n",
    "\n",
    "# Model Param Grid -------------------------------------------------------------------------------------------\n",
    "param_grid = {\n",
    "    'mdl__C':[1.0, 0.1, 0.01],\n",
    "    'mdl__kernel':['linear','poly', 'rbf', 'sigmoid'],\n",
    "    'mdl__gamma':['scale','auto'],\n",
    "    'mdl__degree':[2,3,4,5]\n",
    "    }\n",
    "print(f'Param Grid : \\n {param_grid} \\n')\n",
    "\n",
    "\n",
    "# GridSearchCV Configuration ---------------------------------------------------------------------------------\n",
    "kfold = StratifiedKFold(n_splits=10, shuffle=True, random_state=46)\n",
    "print(f'KFold Setting : \\n {kfold} \\n')\n",
    "gscv = GridSearchCV(pipe, param_grid, cv=kfold, scoring='accuracy', n_jobs=-1, verbose=4)\n",
    "gscv.fit(Xtr, ytr)\n",
    "\n",
    "\n",
    "# GridSearch Results -----------------------------------------------------------------------------------------\n",
    "print(f'Best Params : \\n {gscv.best_params_} \\n')\n",
    "print(f'Best Scores : \\n {round(gscv.best_score_*100,4)} %')"
   ]
  },
  {
   "cell_type": "markdown",
   "id": "de90e39d-21df-450c-86bc-8b24f0584781",
   "metadata": {
    "id": "de90e39d-21df-450c-86bc-8b24f0584781"
   },
   "source": [
    "### 3.4 DecisionTreeClassifier"
   ]
  },
  {
   "cell_type": "code",
   "execution_count": 80,
   "id": "a423bab2-2390-4f00-9383-fc2269503cc0",
   "metadata": {
    "colab": {
     "base_uri": "https://localhost:8080/"
    },
    "id": "a423bab2-2390-4f00-9383-fc2269503cc0",
    "outputId": "f80fd9da-b4d2-40c4-8096-ce63790f5fca",
    "tags": []
   },
   "outputs": [
    {
     "name": "stdout",
     "output_type": "stream",
     "text": [
      "Param Grid : \n",
      " {'mdl__criterion': ['entropy', 'gini'], 'mdl__max_depth': [1, 3, 5], 'mdl__splitter': ['best', 'random'], 'mdl__min_samples_split': [0.3, 0.5, 0.8], 'mdl__min_impurity_decrease': [0.0, 0.2, 0.5]} \n",
      "\n",
      "KFold Setting : \n",
      " StratifiedKFold(n_splits=10, random_state=46, shuffle=True) \n",
      "\n",
      "Fitting 10 folds for each of 108 candidates, totalling 1080 fits\n",
      "Best Params : \n",
      " {'mdl__criterion': 'entropy', 'mdl__max_depth': 5, 'mdl__min_impurity_decrease': 0.0, 'mdl__min_samples_split': 0.3, 'mdl__splitter': 'random'} \n",
      "\n",
      "Best Scores : \n",
      " 72.3577 %\n"
     ]
    }
   ],
   "source": [
    "# ML Pipeline ------------------------------------------------------------------------------------------------\n",
    "steps = [('ct_preproc',ct_preproc),\n",
    "         ('skb',skb),\n",
    "         ('mdl',DecisionTreeClassifier(random_state=46))]\n",
    "pipe = Pipeline(steps)\n",
    "\n",
    "\n",
    "# Model Param Grid -------------------------------------------------------------------------------------------\n",
    "param_grid = {\n",
    "    'mdl__criterion':['entropy','gini'],\n",
    "    'mdl__max_depth':[1,3,5],\n",
    "    'mdl__splitter':['best','random'],\n",
    "    'mdl__min_samples_split':[0.3,0.5,0.8],\n",
    "    'mdl__min_impurity_decrease':[0.0,0.2,0.5]\n",
    "    }\n",
    "print(f'Param Grid : \\n {param_grid} \\n')\n",
    "\n",
    "\n",
    "# GridSearchCV Configuration ---------------------------------------------------------------------------------\n",
    "kfold = StratifiedKFold(n_splits=10, shuffle=True, random_state=46)\n",
    "print(f'KFold Setting : \\n {kfold} \\n')\n",
    "gscv = GridSearchCV(pipe, param_grid, cv=kfold, scoring='accuracy', n_jobs=-1, verbose=4)\n",
    "gscv.fit(Xtr, ytr)\n",
    "\n",
    "\n",
    "# GridSearch Results -----------------------------------------------------------------------------------------\n",
    "print(f'Best Params : \\n {gscv.best_params_} \\n')\n",
    "print(f'Best Scores : \\n {round(gscv.best_score_*100,4)} %')"
   ]
  },
  {
   "cell_type": "markdown",
   "id": "f967b734-f4b3-4a2d-912b-a943629b809f",
   "metadata": {
    "id": "f967b734-f4b3-4a2d-912b-a943629b809f"
   },
   "source": [
    "### 3.5 BaggingClassifier"
   ]
  },
  {
   "cell_type": "code",
   "execution_count": 81,
   "id": "3cc0817c-6418-40fe-b519-287ff359d297",
   "metadata": {
    "colab": {
     "base_uri": "https://localhost:8080/"
    },
    "id": "3cc0817c-6418-40fe-b519-287ff359d297",
    "outputId": "14055f0f-63de-4478-e506-38fb59ad5ca6",
    "tags": []
   },
   "outputs": [
    {
     "name": "stdout",
     "output_type": "stream",
     "text": [
      "Param Grid : \n",
      " {'mdl__n_estimators': [50, 100, 200], 'mdl__estimator': [KNeighborsClassifier(), SVC(), LogisticRegression(), DecisionTreeClassifier()], 'mdl__max_samples': [0.25, 0.5], 'mdl__bootstrap': [True, False], 'mdl__oob_score': [True]} \n",
      "\n",
      "KFold Setting : \n",
      " StratifiedKFold(n_splits=10, random_state=46, shuffle=True) \n",
      "\n",
      "Fitting 10 folds for each of 48 candidates, totalling 480 fits\n",
      "Best Params : \n",
      " {'mdl__bootstrap': True, 'mdl__estimator': DecisionTreeClassifier(), 'mdl__max_samples': 0.5, 'mdl__n_estimators': 200, 'mdl__oob_score': True} \n",
      "\n",
      "Best Scores : \n",
      " 76.5854 %\n"
     ]
    }
   ],
   "source": [
    "# ML Pipeline ------------------------------------------------------------------------------------------------\n",
    "steps = [('ct_preproc',ct_preproc),\n",
    "         ('skb',skb),\n",
    "         ('mdl',BaggingClassifier(random_state=46))]\n",
    "pipe = Pipeline(steps)\n",
    "\n",
    "\n",
    "# Model Param Grid -------------------------------------------------------------------------------------------\n",
    "param_grid = {\n",
    "    'mdl__n_estimators':[50,100,200],\n",
    "    'mdl__estimator':[KNeighborsClassifier(),SVC(),LogisticRegression(),DecisionTreeClassifier()],\n",
    "    'mdl__max_samples':[0.25,0.5],\n",
    "    'mdl__bootstrap':[True,False],\n",
    "    'mdl__oob_score':[True]\n",
    "    }\n",
    "print(f'Param Grid : \\n {param_grid} \\n')\n",
    "\n",
    "\n",
    "# GridSearchCV Configuration ---------------------------------------------------------------------------------\n",
    "kfold = StratifiedKFold(n_splits=10, shuffle=True, random_state=46)\n",
    "print(f'KFold Setting : \\n {kfold} \\n')\n",
    "gscv = GridSearchCV(pipe, param_grid, cv=kfold, scoring='accuracy', n_jobs=-1, verbose=4)\n",
    "gscv.fit(Xtr, ytr)\n",
    "\n",
    "\n",
    "# GridSearch Results -----------------------------------------------------------------------------------------\n",
    "print(f'Best Params : \\n {gscv.best_params_} \\n')\n",
    "print(f'Best Scores : \\n {round(gscv.best_score_*100,4)} %')"
   ]
  },
  {
   "cell_type": "markdown",
   "id": "ee432532-ae14-4535-9171-f98791c84fba",
   "metadata": {
    "id": "ee432532-ae14-4535-9171-f98791c84fba",
    "tags": []
   },
   "source": [
    "### 3.6 RandomForestClassifier"
   ]
  },
  {
   "cell_type": "code",
   "execution_count": 82,
   "id": "3db27c17-dd13-4a8a-98d9-ab749f93fb7c",
   "metadata": {
    "colab": {
     "base_uri": "https://localhost:8080/"
    },
    "id": "3db27c17-dd13-4a8a-98d9-ab749f93fb7c",
    "outputId": "d8709249-4aab-40fc-e672-50a84d505325"
   },
   "outputs": [
    {
     "name": "stdout",
     "output_type": "stream",
     "text": [
      "Param Grid : \n",
      " {'mdl__n_estimators': [100, 200, 300], 'mdl__criterion': ['entropy', 'gini'], 'mdl__max_depth': [1, 3, 5], 'mdl__max_samples': [0.25, 0.5], 'mdl__bootstrap': [True, False], 'mdl__oob_score': [True]} \n",
      "\n",
      "KFold Setting : \n",
      " StratifiedKFold(n_splits=10, random_state=46, shuffle=True) \n",
      "\n",
      "Fitting 10 folds for each of 72 candidates, totalling 720 fits\n",
      "Best Params : \n",
      " {'mdl__bootstrap': True, 'mdl__criterion': 'entropy', 'mdl__max_depth': 5, 'mdl__max_samples': 0.5, 'mdl__n_estimators': 200, 'mdl__oob_score': True} \n",
      "\n",
      "Best Scores : \n",
      " 76.6667 %\n"
     ]
    }
   ],
   "source": [
    "# ML Pipeline ------------------------------------------------------------------------------------------------\n",
    "steps = [('ct_preproc',ct_preproc),\n",
    "         ('skb',skb),\n",
    "         ('mdl',RandomForestClassifier(random_state=46))]\n",
    "pipe = Pipeline(steps)\n",
    "\n",
    "\n",
    "# Model Param Grid -------------------------------------------------------------------------------------------\n",
    "param_grid = {\n",
    "    'mdl__n_estimators':[100, 200, 300],\n",
    "    'mdl__criterion': ['entropy','gini'],\n",
    "    'mdl__max_depth': [1,3,5],\n",
    "    'mdl__max_samples': [0.25,0.50],\n",
    "    'mdl__bootstrap':[True,False],\n",
    "    'mdl__oob_score':[True]\n",
    "    # 'mdl__min_samples_split':[0.3,0.5,0.8],\n",
    "    # 'mdl__min_impurity_decrease':[0.0,0.2,0.5]\n",
    "    }\n",
    "print(f'Param Grid : \\n {param_grid} \\n')\n",
    "\n",
    "\n",
    "# GridSearchCV Configuration ---------------------------------------------------------------------------------\n",
    "kfold = StratifiedKFold(n_splits=10, shuffle=True, random_state=46)\n",
    "print(f'KFold Setting : \\n {kfold} \\n')\n",
    "gscv = GridSearchCV(pipe, param_grid, cv=kfold, scoring='accuracy', n_jobs=-1, verbose=4)\n",
    "gscv.fit(Xtr, ytr)\n",
    "\n",
    "\n",
    "# GridSearch Results -----------------------------------------------------------------------------------------\n",
    "print(f'Best Params : \\n {gscv.best_params_} \\n')\n",
    "print(f'Best Scores : \\n {round(gscv.best_score_*100,4)} %')"
   ]
  },
  {
   "cell_type": "markdown",
   "id": "6dcf58f1-4700-495e-892c-495d5035912c",
   "metadata": {
    "id": "6dcf58f1-4700-495e-892c-495d5035912c"
   },
   "source": [
    "### 3.7 GradientBoostingClassifier"
   ]
  },
  {
   "cell_type": "code",
   "execution_count": 83,
   "id": "7a6d467e-856f-4917-a10a-54e7ea6ba80f",
   "metadata": {
    "colab": {
     "base_uri": "https://localhost:8080/"
    },
    "id": "7a6d467e-856f-4917-a10a-54e7ea6ba80f",
    "outputId": "875933f0-775f-4a1a-8029-e4d2b4db4b90",
    "tags": []
   },
   "outputs": [
    {
     "name": "stdout",
     "output_type": "stream",
     "text": [
      "Param Grid : \n",
      " {'mdl__learning_rate': [0.001, 0.01, 0.1], 'mdl__n_estimators': [50, 100, 200], 'mdl__max_depth': [1, 3, 5], 'mdl__subsample': [0.5, 0.75]} \n",
      "\n",
      "KFold Setting : \n",
      " StratifiedKFold(n_splits=10, random_state=46, shuffle=True) \n",
      "\n",
      "Fitting 10 folds for each of 54 candidates, totalling 540 fits\n",
      "Best Params : \n",
      " {'mdl__learning_rate': 0.01, 'mdl__max_depth': 5, 'mdl__n_estimators': 200, 'mdl__subsample': 0.5} \n",
      "\n",
      "Best Scores : \n",
      " 76.8293 %\n"
     ]
    }
   ],
   "source": [
    "# ML Pipeline ------------------------------------------------------------------------------------------------\n",
    "steps = [('ct_preproc',ct_preproc),\n",
    "         ('skb',skb),\n",
    "         ('mdl',GradientBoostingClassifier(random_state=46))]\n",
    "pipe = Pipeline(steps)\n",
    "\n",
    "\n",
    "# Model Param Grid -------------------------------------------------------------------------------------------\n",
    "param_grid = {\n",
    "    'mdl__learning_rate':[0.001,0.01,0.1],\n",
    "    'mdl__n_estimators':[50,100,200],\n",
    "    'mdl__max_depth':[1,3,5],\n",
    "    'mdl__subsample':[0.5,0.75]\n",
    "    # 'mdl__min_samples_split':[0.3,0.5,0.8],\n",
    "    # 'mdl__min_impurity_decrease':[0.0,0.2,0.5]\n",
    "    }\n",
    "print(f'Param Grid : \\n {param_grid} \\n')\n",
    "\n",
    "\n",
    "# GridSearchCV Configuration ---------------------------------------------------------------------------------\n",
    "kfold = StratifiedKFold(n_splits=10, shuffle=True, random_state=46)\n",
    "print(f'KFold Setting : \\n {kfold} \\n')\n",
    "gscv = GridSearchCV(pipe, param_grid, cv=kfold, scoring='accuracy', n_jobs=-1, verbose=4)\n",
    "gscv.fit(Xtr, ytr)\n",
    "\n",
    "\n",
    "# GridSearch Results -----------------------------------------------------------------------------------------\n",
    "print(f'Best Params : \\n {gscv.best_params_} \\n')\n",
    "print(f'Best Scores : \\n {round(gscv.best_score_*100,4)} %')"
   ]
  },
  {
   "cell_type": "markdown",
   "id": "4067164c-004f-4eee-a03c-f2d7fa864850",
   "metadata": {
    "id": "4067164c-004f-4eee-a03c-f2d7fa864850"
   },
   "source": [
    "### 3.8 HistGradientBoostingClassifier"
   ]
  },
  {
   "cell_type": "code",
   "execution_count": 84,
   "id": "fa524588-33c2-4f4c-9a04-6037e6272c1b",
   "metadata": {
    "colab": {
     "base_uri": "https://localhost:8080/"
    },
    "id": "fa524588-33c2-4f4c-9a04-6037e6272c1b",
    "outputId": "c2524830-6f4e-4254-8306-90c324b0464f",
    "tags": []
   },
   "outputs": [
    {
     "name": "stdout",
     "output_type": "stream",
     "text": [
      "Param Grid : \n",
      " {'mdl__learning_rate': [0.01, 0.1, 0.5], 'mdl__max_depth': [1, 3, 5], 'mdl__max_iter': [50, 100, 200], 'mdl__max_leaf_nodes': [15, 20, 25]} \n",
      "\n",
      "KFold Setting : \n",
      " StratifiedKFold(n_splits=10, random_state=46, shuffle=True) \n",
      "\n",
      "Fitting 10 folds for each of 81 candidates, totalling 810 fits\n",
      "Best Params : \n",
      " {'mdl__learning_rate': 0.1, 'mdl__max_depth': 5, 'mdl__max_iter': 200, 'mdl__max_leaf_nodes': 25} \n",
      "\n",
      "Best Scores : \n",
      " 76.0163 %\n"
     ]
    }
   ],
   "source": [
    "# ML Pipeline ------------------------------------------------------------------------------------------------\n",
    "steps = [('ct_preproc',ct_preproc),\n",
    "         ('skb',skb),\n",
    "         ('mdl',HistGradientBoostingClassifier(random_state=46))]\n",
    "pipe = Pipeline(steps)\n",
    "\n",
    "\n",
    "# Model Param Grid -------------------------------------------------------------------------------------------\n",
    "param_grid = {\n",
    "    'mdl__learning_rate':[0.01,0.1,0.5],\n",
    "    'mdl__max_depth':[1,3,5],\n",
    "    'mdl__max_iter':[50,100,200],\n",
    "    'mdl__max_leaf_nodes':[15,20,25]\n",
    "    #'mdl__l2_regularization':[0,0.1,0.5]\n",
    "    }\n",
    "print(f'Param Grid : \\n {param_grid} \\n')\n",
    "\n",
    "\n",
    "# GridSearchCV Configuration ---------------------------------------------------------------------------------\n",
    "kfold = StratifiedKFold(n_splits=10, shuffle=True, random_state=46)\n",
    "print(f'KFold Setting : \\n {kfold} \\n')\n",
    "gscv = GridSearchCV(pipe, param_grid, cv=kfold, scoring='accuracy', n_jobs=-1, verbose=4)\n",
    "gscv.fit(Xtr, ytr)\n",
    "\n",
    "\n",
    "# GridSearch Results -----------------------------------------------------------------------------------------\n",
    "print(f'Best Params : \\n {gscv.best_params_} \\n')\n",
    "print(f'Best Scores : \\n {round(gscv.best_score_*100,4)} %')"
   ]
  },
  {
   "cell_type": "markdown",
   "id": "2fbc2626-8c89-4bc4-b15f-01e60504b92c",
   "metadata": {
    "id": "2fbc2626-8c89-4bc4-b15f-01e60504b92c"
   },
   "source": [
    "### 3.9 XGBClassifier"
   ]
  },
  {
   "cell_type": "code",
   "execution_count": null,
   "id": "D1zIHDbRvSBm",
   "metadata": {
    "id": "D1zIHDbRvSBm"
   },
   "outputs": [],
   "source": [
    "#! pip install xgboost"
   ]
  },
  {
   "cell_type": "code",
   "execution_count": 85,
   "id": "bf0eeec9-0a4b-43ed-a351-cedf415c1444",
   "metadata": {
    "colab": {
     "base_uri": "https://localhost:8080/"
    },
    "id": "bf0eeec9-0a4b-43ed-a351-cedf415c1444",
    "outputId": "67de7e6b-d868-4a11-9906-844ffcd8a3c7",
    "tags": []
   },
   "outputs": [
    {
     "name": "stdout",
     "output_type": "stream",
     "text": [
      "Param Grid : \n",
      " {'mdl__eta': [0.01, 0.1, 0.5], 'mdl__n_estimators': [50, 100, 200], 'mdl__max_depth': [3, 5, 7], 'mdl__gamma': [0.01, 0.05, 0.1], 'mdl__subsample': [0.5, 0.75]} \n",
      "\n",
      "KFold Setting : \n",
      " StratifiedKFold(n_splits=10, random_state=46, shuffle=True) \n",
      "\n",
      "Fitting 10 folds for each of 162 candidates, totalling 1620 fits\n",
      "Best Params : \n",
      " {'mdl__eta': 0.1, 'mdl__gamma': 0.01, 'mdl__max_depth': 5, 'mdl__n_estimators': 50, 'mdl__subsample': 0.5} \n",
      "\n",
      "Best Scores : \n",
      " 77.0732 %\n"
     ]
    }
   ],
   "source": [
    "# ML Pipeline ------------------------------------------------------------------------------------------------\n",
    "steps = [('ct_preproc',ct_preproc),\n",
    "         ('skb',skb),\n",
    "         ('mdl',XGBClassifier(objective='binary:logistic', eval_metric='auc', seed=46))]\n",
    "pipe = Pipeline(steps)\n",
    "\n",
    "\n",
    "# Model Param Grid -------------------------------------------------------------------------------------------\n",
    "param_grid = {\n",
    "    'mdl__eta':[0.01,0.1,0.5],\n",
    "    'mdl__n_estimators':[50,100,200],\n",
    "    'mdl__max_depth':[3,5,7],\n",
    "    'mdl__gamma':[0.01,0.05,0.1],\n",
    "    'mdl__subsample':[0.5,0.75]\n",
    "    # 'mdl__lambda':[0.1,0.25,0.5],\n",
    "    # 'mdl__alpha':[0.1,0.25,0.5],\n",
    "    # 'mdl__colsample_bytree':[0.25,0.5,0.75]\n",
    "    }\n",
    "print(f'Param Grid : \\n {param_grid} \\n')\n",
    "\n",
    "\n",
    "# GridSearchCV Configuration ---------------------------------------------------------------------------------\n",
    "kfold = StratifiedKFold(n_splits=10, shuffle=True, random_state=46)\n",
    "print(f'KFold Setting : \\n {kfold} \\n')\n",
    "gscv = GridSearchCV(pipe, param_grid, cv=kfold, scoring='accuracy', n_jobs=-1, verbose=4)\n",
    "gscv.fit(Xtr, ytr)\n",
    "\n",
    "\n",
    "# GridSearch Results -----------------------------------------------------------------------------------------\n",
    "print(f'Best Params : \\n {gscv.best_params_} \\n')\n",
    "print(f'Best Scores : \\n {round(gscv.best_score_*100,4)} %')"
   ]
  },
  {
   "cell_type": "code",
   "execution_count": null,
   "id": "1bf764b0-f447-412a-acf9-a9afabc07041",
   "metadata": {},
   "outputs": [],
   "source": []
  },
  {
   "cell_type": "code",
   "execution_count": null,
   "id": "ef8f4082-e0c0-4561-be96-ee96ec87e06f",
   "metadata": {},
   "outputs": [],
   "source": []
  }
 ],
 "metadata": {
  "colab": {
   "provenance": []
  },
  "kernelspec": {
   "display_name": "Python 3 (ipykernel)",
   "language": "python",
   "name": "python3"
  },
  "language_info": {
   "codemirror_mode": {
    "name": "ipython",
    "version": 3
   },
   "file_extension": ".py",
   "mimetype": "text/x-python",
   "name": "python",
   "nbconvert_exporter": "python",
   "pygments_lexer": "ipython3",
   "version": "3.12.8"
  }
 },
 "nbformat": 4,
 "nbformat_minor": 5
}
