{
 "cells": [
  {
   "cell_type": "markdown",
   "id": "38a4ff0d-93a7-4d10-8806-11e6eae345c2",
   "metadata": {
    "toc-hr-collapsed": true
   },
   "source": [
    "# DATA ASSESSMENT PROCESS and PRE-PROCESSING - {\"RED WINE QUALITY\" DATASET}"
   ]
  },
  {
   "cell_type": "markdown",
   "id": "2e3dfa24-0c75-41ac-8134-3bce0a334e74",
   "metadata": {
    "toc-hr-collapsed": true
   },
   "source": [
    "# A. DATA ASSESSMENT PROCESS"
   ]
  },
  {
   "cell_type": "markdown",
   "id": "29afbdee-2c91-4cca-8485-6159b9a0fad8",
   "metadata": {
    "tags": [],
    "toc-hr-collapsed": true
   },
   "source": [
    "## 1. DATASET SUMMARY\n",
    "### - It is a 'Red Wine' dataset that provides the information about various features to predict the quality type.\n",
    "### - There are 1599 observations and 12 features in the dataset.\n",
    "### - Total 'float' type features are 11, 'integer' type features are 1.\n",
    "#### - float type : 'fixed acidity', 'volatile acidity', 'citric acid', 'residual sugar', 'chlorides', 'free sulfur dioxide', 'total sulfur dioxide', 'density', 'pH', 'sulphates', 'alcohol'.\n",
    "#### - int type : 'quality'.\n",
    "### - For machine learning Applications 'quality' feature is the target variable (dependent) and the other 11 features are input (independent)."
   ]
  },
  {
   "cell_type": "markdown",
   "id": "059625a8-dc64-4f4f-a4e4-5f2272bef643",
   "metadata": {
    "tags": [],
    "toc-hr-collapsed": true
   },
   "source": [
    "## 2. FEATURE DESCRIPTIONS\n",
    "### Table - 'red_wine' using 'winequality_red.csv'\n",
    "### * Independent Features\n",
    "#### - **'fixed acidity'** {float} : ***Acids that are always present***.\n",
    "#### - **'volatile acidity'** {float} : ***Gaseous acids with high values leave an unpleasant vinegar taste.***\n",
    "#### - **'citric acid'** {float} : ***A preservative added in small quantity to increase acidity and for freshness and flavor.***\n",
    "#### - **'residual sugar'** {float} : ***The amount of sugar left after fermentation.***\n",
    "#### - **'chlorides'** {float} : ***The amount of salt present in the wine.***\n",
    "#### - **'free sulfur dioxide'** {float} : ***It prevents growth of microbes and oxidation of the wine.***\n",
    "#### - **'total sulfur dioxide'** {float} : ***The amount of free and bound forms of SO2.***\n",
    "#### - **'density'** {float} : ***Higher density wines are sweet in taste.***\n",
    "#### - **'pH'** {float} : ***Acidity level of the wine.***\n",
    "#### - **'sulphates'** {float} : ***An additive to wine which is antimicrobial and antioxidant.***\n",
    "#### - **'alcohol'** {float} : ***The amount of alcohol present in wine.***\n",
    "\n",
    "### * Dependent Feature\n",
    "#### - **'quality'** {int} : ***It indicates the quality of the wine***.\n",
    "##### This feature is the target variable for Machine Learning Based Classification Type Problems."
   ]
  },
  {
   "cell_type": "markdown",
   "id": "bd4b9e42-dbc6-434b-8aba-aa6a74be9a04",
   "metadata": {
    "toc-hr-collapsed": true
   },
   "source": [
    "## 3. DATA ISSUES\n",
    "### Table - red_wine\n",
    "#### 1. * Dirty Data (Low quality)\n",
    "##### A. Completeness\n",
    "##### - No incompleteness issue\n",
    "##### B. Validity\n",
    "##### - Total duplicate observations - 240.\n",
    "##### C. Accuracy\n",
    "##### - No inaccuracy issue\n",
    "##### D. Consistency\n",
    "##### - No inconsistency issue\n",
    "\n",
    "#### 2. * Messy Data (Untidy / Structural)\n",
    "##### - No messy data issue"
   ]
  },
  {
   "cell_type": "markdown",
   "id": "b7b20375-f267-4c85-9709-8df1799b58a7",
   "metadata": {
    "tags": [],
    "toc-hr-collapsed": true
   },
   "source": [
    "# B. PRE-PROCESSING / DATA CLEANING"
   ]
  },
  {
   "cell_type": "markdown",
   "id": "2c516c8d-7826-4705-89a4-7468b0147f16",
   "metadata": {
    "toc-hr-collapsed": true
   },
   "source": [
    "## 1. BASIC DATA PRE-PROCESSING APPLIED\n",
    "### - Dropping duplicated obervations : 240\n",
    "### - Resetting the index of the dataframe to discard the missing indices.\n",
    "### - Splitting the pre-processed dataframe into Train, Validation, and Test datasets.\n",
    "### - Finally saving the Train, Validation, and Test datasets into CSV and PKL files for further analysis."
   ]
  },
  {
   "cell_type": "markdown",
   "id": "8998b9af-9409-430e-8f1b-413e80255e55",
   "metadata": {
    "tags": [],
    "toc-hr-collapsed": true
   },
   "source": [
    "## 2. RESULTS OF BASIC DATA PRE-PROCESSING\n",
    "### - Dropped 240 duplicates observation, ***successful***.\n",
    "### - Index reset, ***successful***."
   ]
  },
  {
   "cell_type": "markdown",
   "id": "5b06435c-1d98-4680-8f84-2fa744877ada",
   "metadata": {},
   "source": [
    "## 3. SAVING RESULTS TO CSV AND PKL FILES \n",
    "### - Splitting the pre-processed dataframe into Train, Validation, and Test datasets, ***successful***.\n",
    "### - Pre-Processed Train, Validation, and Test datasets stored in CSV and PKL files, ***successful***.\n",
    "#### - Train (wine_quality_train_pp.csv, wine_quality_train_pp.pkl)\n",
    "#### - Validation (wine_quality_valid_pp.csv, wine_quality_valid_pp.pkl)\n",
    "#### - Test (wine_quality_test_pp.csv, wine_quality_test_pp.pkl)"
   ]
  },
  {
   "cell_type": "code",
   "execution_count": null,
   "id": "b76f842a-9890-43b4-994c-4c1d51eb05a7",
   "metadata": {},
   "outputs": [],
   "source": []
  }
 ],
 "metadata": {
  "kernelspec": {
   "display_name": "Python 3 (ipykernel)",
   "language": "python",
   "name": "python3"
  },
  "language_info": {
   "codemirror_mode": {
    "name": "ipython",
    "version": 3
   },
   "file_extension": ".py",
   "mimetype": "text/x-python",
   "name": "python",
   "nbconvert_exporter": "python",
   "pygments_lexer": "ipython3",
   "version": "3.10.10"
  }
 },
 "nbformat": 4,
 "nbformat_minor": 5
}
